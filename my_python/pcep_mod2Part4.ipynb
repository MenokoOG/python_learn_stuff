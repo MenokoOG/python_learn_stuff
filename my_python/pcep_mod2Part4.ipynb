{
 "cells": [
  {
   "cell_type": "markdown",
   "id": "bd2bdc03",
   "metadata": {},
   "source": [
    "# Shortcut operators\n",
    "\n",
    "It's time for the next set of operators that make a developer's life easier.\n",
    "\n",
    "Very often, we want to use one and the same variable both to the right and left sides of the = operator.\n",
    "\n",
    "For example, if we need to calculate a series of successive values of powers of 2, we may use a piece like this:\n",
    "\n",
    "x = x * 2\n",
    "\n",
    "You may use an expression like this if you can't fall asleep and you're trying to deal with it using some good, old-fashioned methods:\n",
    "\n",
    "sheep = sheep + 1\n",
    "\n",
    "Python offers you a shortened way of writing operations like these, which can be coded as follows:\n",
    "\n",
    "x *= 2\n",
    "sheep += 1\n",
    "\n",
    "Let's try to present a general description for these operations.\n",
    "\n",
    "If op is a two-argument operator (this is a very important condition) and the operator is used in the following context:\n",
    "\n",
    "variable = variable op expression\n",
    "\n",
    "It can be simplified and shown as follows:\n",
    "\n",
    "variable op= expression\n",
    "\n",
    "Take a look at the examples below. Make sure you understand them all.\n",
    "\n",
    "i = i + 2 * j ⇒ i += 2 * j\n",
    "\n",
    "var = var / 2 ⇒ var /= 2\n",
    "\n",
    "rem = rem % 10 ⇒ rem %= 10\n",
    "\n",
    "j = j - (i + var + rem) ⇒ j -= (i + var + rem)\n",
    "\n",
    "x = x ** 2 ⇒ x **= 2\n"
   ]
  },
  {
   "cell_type": "code",
   "execution_count": 6,
   "id": "7c541e45",
   "metadata": {},
   "outputs": [
    {
     "name": "stdout",
     "output_type": "stream",
     "text": [
      "7.38 miles is 11.88 kilometers\n",
      "12.25 kilometers is 7.61 miles\n"
     ]
    }
   ],
   "source": [
    "kilometers = 12.25\n",
    "miles = 7.38\n",
    "\n",
    "miles_to_kilometers = 1.61 * miles\n",
    "kilometers_to_miles = 0.621 * kilometers\n",
    "print(miles, \"miles is\", round(miles_to_kilometers, 2), \"kilometers\")\n",
    "print(kilometers, \"kilometers is\", round(kilometers_to_miles, 2), \"miles\")"
   ]
  },
  {
   "cell_type": "markdown",
   "id": "d06c059e",
   "metadata": {},
   "source": [
    "# LAB\n",
    "\n",
    "Estimated time\n",
    "10-15 minutes\n",
    "\n",
    "Level of difficulty\n",
    "Easy\n",
    "\n",
    "Objectives\n",
    "becoming familiar with the concept of numbers, operators, and arithmetic operations in Python;\n",
    "performing basic calculations.\n",
    "Scenario\n",
    "Take a look at the code in the editor: it reads a float value, puts it into a variable named x, and prints the value of a variable named y. Your task is to complete the code in order to evaluate the following expression:\n",
    "\n",
    "3x3 - 2x2 + 3x - 1\n",
    "\n",
    "The result should be assigned to y.\n",
    "\n",
    "Remember that classical algebraic notation likes to omit the multiplication operator - you need to use it explicitly. Note how we change data type to make sure that x is of type float.\n",
    "\n",
    "Keep your code clean and readable, and test it using the data we've provided, each time assigning it to the x variable (by hardcoding it). Don't be discouraged by any initial failures. Be persistent and inquisitive.\n",
    "\n",
    "\n",
    "Test Data\n",
    "Sample input\n",
    "\n",
    "x = 0\n",
    "x = 1\n",
    "x = -1\n",
    "\n",
    "Expected Output\n",
    "\n",
    "y = -1.0\n",
    "y = 3.0\n",
    "y = -9.0\n",
    "output"
   ]
  },
  {
   "cell_type": "code",
   "execution_count": 7,
   "id": "08dd92c0",
   "metadata": {},
   "outputs": [
    {
     "ename": "SyntaxError",
     "evalue": "invalid syntax (1683567064.py, line 1)",
     "output_type": "error",
     "traceback": [
      "\u001b[1;36m  Cell \u001b[1;32mIn [7], line 1\u001b[1;36m\u001b[0m\n\u001b[1;33m    x =  # hardcode your test data here\u001b[0m\n\u001b[1;37m         ^\u001b[0m\n\u001b[1;31mSyntaxError\u001b[0m\u001b[1;31m:\u001b[0m invalid syntax\n"
     ]
    }
   ],
   "source": [
    "x =  # hardcode your test data here\n",
    "x = float(x)\n",
    "# write your code here\n",
    "print(\"y =\", y)"
   ]
  },
  {
   "cell_type": "code",
   "execution_count": 10,
   "id": "0e222f0d",
   "metadata": {},
   "outputs": [
    {
     "name": "stdout",
     "output_type": "stream",
     "text": [
      "y = -1.0\n",
      "y = 3.0\n",
      "y = -9.0\n"
     ]
    }
   ],
   "source": [
    "x = 0# hardcode your test data here\n",
    "x = float(x)\n",
    "y = (3*x**3-2*x**2+3*x-1)\n",
    "print(\"y =\", y)\n",
    "\n",
    "x = 1# hardcode your test data here\n",
    "x = float(x)\n",
    "y = (3*x**3-2*x**2+3*x-1)\n",
    "print(\"y =\", y)\n",
    "\n",
    "x = -1# hardcode your test data here\n",
    "x = float(x)\n",
    "y = (3*x**3-2*x**2+3*x-1)\n",
    "print(\"y =\", y)"
   ]
  },
  {
   "cell_type": "markdown",
   "id": "e82127ed",
   "metadata": {},
   "source": [
    "# Key takeaways\n",
    "\n",
    "1. A variable is a named location reserved to store values in the memory. A variable is created or initialized automatically when you assign a value to it for the first time. (2.1.4.1)\n",
    "\n",
    "2. Each variable must have a unique name - an identifier. A legal identifier name must be a non-empty sequence of characters, must begin with the underscore(_), or a letter, and it cannot be a Python keyword. The first character may be followed by underscores, letters, and digits. Identifiers in Python are case-sensitive. (2.1.4.1)\n",
    "\n",
    "3. Python is a dynamically-typed language, which means you don't need to declare variables in it. (2.1.4.3) To assign values to variables, you can use a simple assignment operator in the form of the equal (=) sign, i.e., var = 1.\n",
    "\n",
    "4. You can also use compound assignment operators (shortcut operators) to modify values assigned to variables, e.g., var += 1, or var /= 5 * 2. (2.1.4.8)\n",
    "\n",
    "5. You can assign new values to already existing variables using the assignment operator or one of the compound operators, e.g.: (2.1.4.5)\n",
    "\n",
    "var = 2\n",
    "print(var)\n",
    "\n",
    "var = 3\n",
    "print(var)\n",
    "\n",
    "var += 1\n",
    "print(var)\n",
    "\n",
    "\n",
    "6. You can combine text and variables using the + operator, and use the print() function to output strings and variables, e.g.: (2.1.4.4)\n",
    "\n",
    "var = \"007\"\n",
    "print(\"Agent \" + var)\n",
    "\n",
    "\n",
    "\n",
    "\n",
    "\n",
    "Exercise 1\n",
    "\n",
    "What is the output of the following snippet?\n",
    "\n",
    "var = 2\n",
    "var = 3\n",
    "print(var)\n",
    "\n",
    "\n",
    "Check\n",
    "Exercise 2\n",
    "\n",
    "Which of the following variable names are illegal in Python?\n",
    "\n",
    "my_var\n",
    "m\n",
    "101\n",
    "averylongvariablename\n",
    "m101\n",
    "m 101\n",
    "Del\n",
    "del\n",
    "\n",
    "Check\n",
    "Exercise 3\n",
    "\n",
    "What is the output of the following snippet?\n",
    "\n",
    "a = '1'\n",
    "b = \"1\"\n",
    "print(a + b)\n",
    "\n",
    "\n",
    "Check\n",
    "Exercise 4"
   ]
  },
  {
   "cell_type": "code",
   "execution_count": null,
   "id": "f8db0631",
   "metadata": {},
   "outputs": [],
   "source": []
  }
 ],
 "metadata": {
  "kernelspec": {
   "display_name": "Python 3 (ipykernel)",
   "language": "python",
   "name": "python3"
  },
  "language_info": {
   "codemirror_mode": {
    "name": "ipython",
    "version": 3
   },
   "file_extension": ".py",
   "mimetype": "text/x-python",
   "name": "python",
   "nbconvert_exporter": "python",
   "pygments_lexer": "ipython3",
   "version": "3.10.2"
  }
 },
 "nbformat": 4,
 "nbformat_minor": 5
}
