{
 "cells": [
  {
   "cell_type": "markdown",
   "id": "dfb5d166",
   "metadata": {},
   "source": [
    "# Module 3\n",
    "### Loops"
   ]
  },
  {
   "cell_type": "code",
   "execution_count": 1,
   "id": "c4828e19",
   "metadata": {},
   "outputs": [
    {
     "name": "stdout",
     "output_type": "stream",
     "text": [
      "Enter a number or type 0 to stop: 3\n",
      "Enter a number or type 0 to stop: 26\n",
      "Enter a number or type 0 to stop: 58\n",
      "Enter a number or type 0 to stop: 0\n",
      "Odd numbers count: 1\n",
      "Even numbers count: 2\n"
     ]
    }
   ],
   "source": [
    "# A program that reads a sequence of numbers\n",
    "# and counts how many numbers are even and how many are odd.\n",
    "# The program terminates when zero is entered.\n",
    "\n",
    "odd_numbers = 0\n",
    "even_numbers = 0\n",
    "\n",
    "# Read the first number.\n",
    "number = int(input(\"Enter a number or type 0 to stop: \"))\n",
    "\n",
    "# 0 terminates execution.\n",
    "while number != 0:\n",
    "    # Check if the number is odd.\n",
    "    if number % 2 == 1:\n",
    "        # Increase the odd_numbers counter.\n",
    "        odd_numbers += 1\n",
    "    else:\n",
    "        # Increase the even_numbers counter.\n",
    "        even_numbers += 1\n",
    "    # Read the next number.\n",
    "    number = int(input(\"Enter a number or type 0 to stop: \"))\n",
    "\n",
    "# Print results.\n",
    "print(\"Odd numbers count:\", odd_numbers)\n",
    "print(\"Even numbers count:\", even_numbers)\n",
    "\n"
   ]
  },
  {
   "cell_type": "markdown",
   "id": "45f40d40",
   "metadata": {},
   "source": [
    "# LAB\n",
    "\n",
    "Estimated time\n",
    "15 minutes\n",
    "\n",
    "Level of difficulty\n",
    "Easy\n",
    "\n",
    "Objectives\n",
    "Familiarize the student with:\n",
    "\n",
    "using the while loop;\n",
    "reflecting real-life situations in computer code.\n",
    "Scenario\n",
    "A junior magician has picked a secret number. He has hidden it in a variable named secret_number. He wants everyone who run his program to play the Guess the secret number game, and guess what number he has picked for them. Those who don't guess the number will be stuck in an endless loop forever! Unfortunately, he does not know how to complete the code.\n",
    "\n",
    "#### Your task is to help the magician complete the code in the editor in such a way so that the code:\n",
    "\n",
    "##### will ask the user to enter an integer number;\n",
    "##### will use a while loop;\n",
    "##### will check whether the number entered by the user is the same as the number picked by the magician. If the number chosen by the user is different than the magician's secret number, the user should see the message \"Ha ha! You're stuck in my loop!\" and be prompted to enter a number again. If the number entered by the user matches the number picked by the magician, the number should be printed to the screen, and the magician should say the following words: \"Well done, muggle! You are free now.\"\n",
    "##### The magician is counting on you! Don't disappoint him.\n",
    "\n",
    "\n",
    "EXTRA INFO\n",
    "\n",
    "By the way, look at the print() function. The way we've used it here is called multi-line printing. You can use triple quotes to print strings on multiple lines in order to make text easier to read, or create a special text-based design. Experiment with it."
   ]
  },
  {
   "cell_type": "markdown",
   "id": "d860cdd2",
   "metadata": {},
   "source": [
    "secret_number = 777\n",
    "\n",
    "print(\n",
    "\"\"\"\n",
    "+================================+\n",
    "| Welcome to my game, muggle!    |\n",
    "| Enter an integer number        |\n",
    "| and guess what number I've     |\n",
    "| picked for you.                |\n",
    "| So, what is the secret number? |\n",
    "+================================+\n",
    "\"\"\")\n",
    "\n",
    "while True:\n",
    "    number = int(input(\"Enter an integer: \"))    \n",
    "    if number == secret_number:\n",
    "        break\n",
    "    print(\"Ha ha! You're stuck in my loop!\")\n",
    "\n",
    "print(\"Well done, muggle! You are free now.\")"
   ]
  },
  {
   "cell_type": "code",
   "execution_count": 3,
   "id": "eeae518b",
   "metadata": {},
   "outputs": [
    {
     "name": "stdout",
     "output_type": "stream",
     "text": [
      "Enter an integer: 12\n",
      "Ha ha! You're stuck in my loop!\n",
      "Enter an integer: 777\n",
      "Well done, muggle! You are free now.\n"
     ]
    }
   ],
   "source": [
    "def get_number():\n",
    "    return int(input(\"Enter an integer: \"))\n",
    "\n",
    "secret_number = 777\n",
    "\n",
    "number = get_number()\n",
    "while number != secret_number:\n",
    "    print(\"Ha ha! You're stuck in my loop!\")\n",
    "    number = get_number()      \n",
    "\n",
    "print(\"Well done, muggle! You are free now.\")"
   ]
  },
  {
   "cell_type": "code",
   "execution_count": 4,
   "id": "26693911",
   "metadata": {},
   "outputs": [
    {
     "name": "stdout",
     "output_type": "stream",
     "text": [
      "Enter an integer: 12\n",
      "Ha ha! You're stuck in my loop!\n",
      "Enter an integer: 777\n",
      "Well done, muggle! You are free now.\n"
     ]
    }
   ],
   "source": [
    "secret_number = 777\n",
    "\n",
    "while (number := int(input(\"Enter an integer: \"))) != secret_number:\n",
    "    print(\"Ha ha! You're stuck in my loop!\")\n",
    "\n",
    "print(\"Well done, muggle! You are free now.\")"
   ]
  },
  {
   "cell_type": "code",
   "execution_count": 5,
   "id": "1139e307",
   "metadata": {},
   "outputs": [
    {
     "name": "stdout",
     "output_type": "stream",
     "text": [
      "Enter an integer: 12\n",
      "Ha ha! You're stuck in my loop!\n",
      "Enter an integer: 777\n",
      "Well done, muggle! You are free now.\n"
     ]
    }
   ],
   "source": [
    "secret_number = 777\n",
    "\n",
    "while int(input(\"Enter an integer: \")) != secret_number:\n",
    "    print(\"Ha ha! You're stuck in my loop!\")\n",
    "\n",
    "print(\"Well done, muggle! You are free now.\")"
   ]
  },
  {
   "cell_type": "markdown",
   "id": "11f57af2",
   "metadata": {},
   "source": [
    "### More about the for loop and the range() function with three arguments"
   ]
  },
  {
   "cell_type": "code",
   "execution_count": 6,
   "id": "ee3aca4b",
   "metadata": {},
   "outputs": [
    {
     "name": "stdout",
     "output_type": "stream",
     "text": [
      "The value of i is currently 2\n",
      "The value of i is currently 5\n"
     ]
    }
   ],
   "source": [
    "for i in range(2, 8, 3):\n",
    "    print(\"The value of i is currently\", i)"
   ]
  },
  {
   "cell_type": "markdown",
   "id": "1923094f",
   "metadata": {},
   "source": [
    "The range() function may also accept three arguments - take a look at the code in the editor.\n",
    "\n",
    "The third argument is an increment - it's a value added to control the variable at every loop turn (as you may suspect, the default value of the increment is 1).\n",
    "\n",
    "Can you tell us how many lines will appear in the console and what values they will contain?\n",
    "\n",
    "Run the program to find out if you were right.\n",
    "\n",
    "\n",
    "You should be able to see the following lines in the console window:\n",
    "\n",
    "The value of i is currently 2\n",
    "The value of i is currently 5\n",
    "output\n",
    "\n",
    "\n",
    "Do you know why? The first argument passed to the range() function tells us what the starting number of the sequence is (hence 2 in the output). The second argument tells the function where to stop the sequence (the function generates numbers up to the number indicated by the second argument, but does not include it). Finally, the third argument indicates the step, which actually means the difference between each number in the sequence of numbers generated by the function.\n",
    "\n",
    "2 (starting number) → 5 (2 increment by 3 equals 5 - the number is within the range from 2 to 8) → 8 (5 increment by 3 equals 8 - the number is not within the range from 2 to 8, because the stop parameter is not included in the sequence of numbers generated by the function.)\n",
    "\n",
    "Note: if the set generated by the range() function is empty, the loop won't execute its body at all.\n",
    "ust like here - there will be no output:\n",
    "\n",
    "\n"
   ]
  },
  {
   "cell_type": "code",
   "execution_count": 7,
   "id": "84c154d4",
   "metadata": {},
   "outputs": [],
   "source": [
    "for i in range(1, 1):\n",
    "    print(\"The value of i is currently\", i)"
   ]
  },
  {
   "cell_type": "markdown",
   "id": "35a07b41",
   "metadata": {},
   "source": [
    "Note: the set generated by the range() has to be sorted in ascending order. There's no way to force the range() to create a set in a different form when the range() function accepts exactly two arguments. This means that the range()'s second argument must be greater than the first.\n",
    "\n",
    "Thus, there will be no output here, either:"
   ]
  },
  {
   "cell_type": "code",
   "execution_count": 8,
   "id": "e81ccc15",
   "metadata": {},
   "outputs": [],
   "source": [
    "for i in range(2, 1):\n",
    "    print(\"The value of i is currently\", i)"
   ]
  },
  {
   "cell_type": "markdown",
   "id": "6ae1bb4c",
   "metadata": {},
   "source": [
    "Let's have a look at a short program whose task is to write some of the first powers of two"
   ]
  },
  {
   "cell_type": "code",
   "execution_count": 9,
   "id": "8946bcb4",
   "metadata": {},
   "outputs": [
    {
     "name": "stdout",
     "output_type": "stream",
     "text": [
      "2 to the power of 0 is 1\n",
      "2 to the power of 1 is 2\n",
      "2 to the power of 2 is 4\n",
      "2 to the power of 3 is 8\n",
      "2 to the power of 4 is 16\n",
      "2 to the power of 5 is 32\n",
      "2 to the power of 6 is 64\n",
      "2 to the power of 7 is 128\n",
      "2 to the power of 8 is 256\n",
      "2 to the power of 9 is 512\n",
      "2 to the power of 10 is 1024\n",
      "2 to the power of 11 is 2048\n",
      "2 to the power of 12 is 4096\n",
      "2 to the power of 13 is 8192\n",
      "2 to the power of 14 is 16384\n",
      "2 to the power of 15 is 32768\n"
     ]
    }
   ],
   "source": [
    "power = 1\n",
    "for expo in range(16):\n",
    "    print(\"2 to the power of\", expo, \"is\", power)\n",
    "    power *= 2"
   ]
  },
  {
   "cell_type": "markdown",
   "id": "90470ea7",
   "metadata": {},
   "source": [
    "The expo variable is used as a control variable for the loop, and indicates the current value of the exponent. The exponentiation itself is replaced by multiplying by two. Since 20 is equal to 1, then 2 × 1 is equal to 21, 2 × 21 is equal to 22, and so on. What is the greatest exponent for which our program still prints the result?\n",
    "\n",
    "Run the code and check if the output matches your expectations"
   ]
  },
  {
   "cell_type": "markdown",
   "id": "88bc495b",
   "metadata": {},
   "source": [
    "# LAB\n",
    "\n",
    "Estimated time\n",
    "5-15 minutes\n",
    "\n",
    "Level of difficulty\n",
    "Very easy\n",
    "\n",
    "Objectives\n",
    "Familiarize the student with:\n",
    "\n",
    "using the for loop;\n",
    "reflecting real-life situations in computer code.\n",
    "Scenario\n",
    "Do you know what Mississippi is? Well, it's the name of one of the states and rivers in the United States. The Mississippi River is about 2,340 miles long, which makes it the second longest river in the United States (the longest being the Missouri River). It's so long that a single drop of water needs 90 days to travel its entire length!\n",
    "\n",
    "The word Mississippi is also used for a slightly different purpose: to count mississippily.\n",
    "\n",
    "If you're not familiar with the phrase, we're here to explain to you what it means: it's used to count seconds.\n",
    "\n",
    "The idea behind it is that adding the word Mississippi to a number when counting seconds aloud makes them sound closer to clock-time, and therefore \"one Mississippi, two Mississippi, three Mississippi\" will take approximately an actual three seconds of time! It's often used by children playing hide-and-seek to make sure the seeker does an honest count.\n",
    "\n",
    "\n",
    "Your task is very simple here: write a program that uses a for loop to \"count mississippily\" to five. Having counted to five, the program should print to the screen the final message \"Ready or not, here I come!\"\n",
    "\n",
    "Use the skeleton we've provided in the editor.\n",
    "\n",
    "EXTRA INFO\n",
    "\n",
    "Note that the code in the editor contains two elements which may not be fully clear to you at this moment: the import time statement, and the sleep() method. We're going to talk about them soon.\n",
    "\n",
    "For the time being, we'd just like you to know that we've imported the time module and used the sleep() method to suspend the execution of each subsequent print() function inside the for loop for one second, so that the message outputted to the console resembles an actual counting. Don't worry - you'll soon learn more about modules and methods.\n",
    "\n",
    "Expected output\n",
    "1 Mississippi\n",
    "2 Mississippi\n",
    "3 Mississippi\n",
    "4 Mississippi\n",
    "5 Mississippi\n",
    "\n",
    " \n",
    " Sandbox\n",
    "Code\n",
    "import time\n",
    "\n",
    "#Write a for loop that counts to five.\n",
    "#Body of the loop - print the loop iteration number and the word \"Mississippi\".\n",
    "#Body of the loop - use: time.sleep(1)\n",
    "\n",
    "#Write a print function with the final message.\n",
    "import time\n",
    "\n",
    "\n",
    "Console \n"
   ]
  },
  {
   "cell_type": "code",
   "execution_count": 11,
   "id": "db79245d",
   "metadata": {},
   "outputs": [
    {
     "name": "stdout",
     "output_type": "stream",
     "text": [
      "1 Mississippi\n",
      "2 Mississippi\n",
      "3 Mississippi\n",
      "4 Mississippi\n",
      "5 Mississippi\n",
      "Ready or not, here I come!\n"
     ]
    }
   ],
   "source": [
    "import time\n",
    "\n",
    "for mississippily in range(1 , 6): # Write a for loop that counts to five.\n",
    "    print(mississippily , \"Mississippi\") # Body of the loop\n",
    "    time.sleep(1) #Pause for 1 second after each iteration in for loop\n",
    "print(\"Ready or not, here I come!\") # Final message"
   ]
  },
  {
   "cell_type": "markdown",
   "id": "f6f96a6a",
   "metadata": {},
   "source": [
    "# The break and continue statements\n",
    "So far, we've treated the body of the loop as an indivisible and inseparable sequence of instructions that are performed completely at every turn of the loop. However, as developer, you could be faced with the following choices:\n",
    "\n",
    "it appears that it's unnecessary to continue the loop as a whole; you should refrain from further execution of the loop's body and go further;\n",
    "it appears that you need to start the next turn of the loop without completing the execution of the current turn.\n",
    "Python provides two special instructions for the implementation of both these tasks. Let's say for the sake of accuracy that their existence in the language is not necessary - an experienced programmer is able to code any algorithm without these instructions. Such additions, which don't improve the language's expressive power, but only simplify the developer's work, are sometimes called syntactic candy, or syntactic sugar.\n",
    "\n",
    "These two instructions are:\n",
    "\n",
    "break - exits the loop immediately, and unconditionally ends the loop's operation; the program begins to execute the nearest instruction after the loop's body;\n",
    "continue - behaves as if the program has suddenly reached the end of the body; the next turn is started and the condition expression is tested immediately.\n",
    "Both these words are keywords.\n",
    "\n",
    "Now we'll show you two simple examples to illustrate how the two instructions work. Look at the code in the editor. Run the program and analyze the output. Modify the code and experiment.\n"
   ]
  },
  {
   "cell_type": "code",
   "execution_count": 12,
   "id": "9f5dee3f",
   "metadata": {},
   "outputs": [
    {
     "name": "stdout",
     "output_type": "stream",
     "text": [
      "The break instruction:\n",
      "Inside the loop. 1\n",
      "Inside the loop. 2\n",
      "Outside the loop.\n",
      "\n",
      "The continue instruction:\n",
      "Inside the loop. 1\n",
      "Inside the loop. 2\n",
      "Inside the loop. 4\n",
      "Inside the loop. 5\n",
      "Outside the loop.\n"
     ]
    }
   ],
   "source": [
    "# break - example\n",
    "\n",
    "print(\"The break instruction:\")\n",
    "for i in range(1, 6):\n",
    "    if i == 3:\n",
    "        break\n",
    "    print(\"Inside the loop.\", i)\n",
    "print(\"Outside the loop.\")\n",
    "\n",
    "\n",
    "# continue - example\n",
    "\n",
    "print(\"\\nThe continue instruction:\")\n",
    "for i in range(1, 6):\n",
    "    if i == 3:\n",
    "        continue\n",
    "    print(\"Inside the loop.\", i)\n",
    "print(\"Outside the loop.\")"
   ]
  },
  {
   "cell_type": "markdown",
   "id": "abfb901e",
   "metadata": {},
   "source": [
    "# The break and continue statements: more examples\n",
    "\n",
    "Let's return to our program that recognizes the largest among the entered numbers. We'll convert it twice, using the break and continue instructions.\n",
    "\n",
    "Analyze the code, and judge whether and how you would use either of them.\n",
    "\n",
    "The break variant goes here:"
   ]
  },
  {
   "cell_type": "code",
   "execution_count": 13,
   "id": "cb03d006",
   "metadata": {},
   "outputs": [
    {
     "name": "stdout",
     "output_type": "stream",
     "text": [
      "Enter a number or type -1 to end program: -1\n",
      "You haven't entered any number.\n"
     ]
    }
   ],
   "source": [
    "largest_number = -99999999\n",
    "counter = 0\n",
    "\n",
    "while True:\n",
    "    number = int(input(\"Enter a number or type -1 to end program: \"))\n",
    "    if number == -1:\n",
    "        break\n",
    "    counter += 1\n",
    "    if number > largest_number:\n",
    "        largest_number = number\n",
    "\n",
    "if counter != 0:\n",
    "    print(\"The largest number is\", largest_number)\n",
    "else:\n",
    "    print(\"You haven't entered any number.\")\n"
   ]
  },
  {
   "cell_type": "markdown",
   "id": "b9d18b33",
   "metadata": {},
   "source": [
    "Run it, test it, and experiment with it.\n",
    "\n",
    "And now the continue variant:"
   ]
  },
  {
   "cell_type": "code",
   "execution_count": 14,
   "id": "4fd96e45",
   "metadata": {},
   "outputs": [
    {
     "name": "stdout",
     "output_type": "stream",
     "text": [
      "Enter a number or type -1 to end program: 25\n",
      "Enter a number or type -1 to end program: -1\n",
      "The largest number is 25\n"
     ]
    }
   ],
   "source": [
    "largest_number = -99999999\n",
    "counter = 0\n",
    "\n",
    "number = int(input(\"Enter a number or type -1 to end program: \"))\n",
    "\n",
    "while number != -1:\n",
    "    if number == -1:\n",
    "        continue\n",
    "    counter += 1\n",
    "\n",
    "    if number > largest_number:\n",
    "        largest_number = number\n",
    "    number = int(input(\"Enter a number or type -1 to end program: \"))\n",
    "\n",
    "if counter:\n",
    "    print(\"The largest number is\", largest_number)\n",
    "else:\n",
    "    print(\"You haven't entered any number.\")"
   ]
  },
  {
   "cell_type": "markdown",
   "id": "80b10a02",
   "metadata": {},
   "source": [
    "# LAB\n",
    "\n",
    "Estimated time\n",
    "10-20 minutes\n",
    "\n",
    "Level of difficulty\n",
    "Easy\n",
    "\n",
    "Objectives\n",
    "Familiarize the student with:\n",
    "\n",
    "using the break statement in loops;\n",
    "reflecting real-life situations in computer code.\n",
    "Scenario\n",
    "The break statement is used to exit/terminate a loop.\n",
    "\n",
    "Design a program that uses a while loop and continuously asks the user to enter a word unless the user enters \"chupacabra\" as the secret exit word, in which case the message \"You've successfully left the loop.\" should be printed to the screen, and the loop should terminate.\n",
    "\n",
    "Don't print any of the words entered by the user. Use the concept of conditional execution and the break statement."
   ]
  },
  {
   "cell_type": "code",
   "execution_count": 16,
   "id": "622797a9",
   "metadata": {},
   "outputs": [
    {
     "name": "stdout",
     "output_type": "stream",
     "text": [
      "You're stuck in an infinite loop!\n",
      "Enter a secret word to leave the loop.chupacabra\n",
      "You've successfully left the loop.\n"
     ]
    }
   ],
   "source": [
    "secret_word = \"\"\n",
    "while True:\n",
    "    secret_word = input(\"You're stuck in an infinite loop!\\nEnter a secret word to leave the loop.\")\n",
    "    if secret_word == \"chupacabra\":\n",
    "        print(\"You've successfully left the loop.\")\n",
    "        break"
   ]
  },
  {
   "cell_type": "markdown",
   "id": "7e64f9a5",
   "metadata": {},
   "source": [
    "LAB\n",
    "\n",
    "Estimated time\n",
    "10-20 minutes\n",
    "\n",
    "Level of difficulty\n",
    "Easy\n",
    "\n",
    "Objectives\n",
    "Familiarize the student with:\n",
    "\n",
    "using the continue statement in loops;\n",
    "reflecting real-life situations in computer code.\n",
    "Scenario\n",
    "The continue statement is used to skip the current block and move ahead to the next iteration, without executing the statements inside the loop.\n",
    "\n",
    "It can be used with both the while and for loops.\n",
    "\n",
    "Your task here is very special: you must design a vowel eater! Write a program that uses:\n",
    "\n",
    "a for loop;\n",
    "the concept of conditional execution (if-elif-else)\n",
    "the continue statement.\n",
    "Your program must:\n",
    "\n",
    "ask the user to enter a word;\n",
    "use user_word = user_word.upper() to convert the word entered by the user to upper case; we'll talk about the so-called string methods and the upper() method very soon - don't worry;\n",
    "use conditional execution and the continue statement to \"eat\" the following vowels A, E, I, O, U from the inputted word;\n",
    "print the uneaten letters to the screen, each one of them on a separate line.\n",
    "Test your program with the data we've provided for you.\n",
    "\n",
    "\n",
    "Test data\n",
    "Sample input: Gregory\n",
    "\n",
    "Expected output:\n",
    "\n",
    "G\n",
    "R\n",
    "G\n",
    "R\n",
    "Y\n",
    "Sample input: abstemious\n",
    "\n",
    "Expected output:\n",
    "\n",
    "B\n",
    "S\n",
    "T\n",
    "M\n",
    "S\n",
    "Sample input: IOUEA\n",
    "\n",
    "Expected output:\n",
    "\n",
    " \n"
   ]
  },
  {
   "cell_type": "code",
   "execution_count": 1,
   "id": "77b68afa",
   "metadata": {},
   "outputs": [
    {
     "name": "stdout",
     "output_type": "stream",
     "text": [
      "Enter your word: hello kitty\n",
      "HLL KTTY "
     ]
    }
   ],
   "source": [
    "wordWithoutVowels = \"\"\n",
    "\n",
    "userWord = input(\"Enter your word: \")\n",
    "userWord = userWord.upper()\n",
    "\n",
    "for letter in userWord:\n",
    "    if letter == \"A\":\n",
    "        continue\n",
    "    elif letter == \"E\":\n",
    "        continue\n",
    "    elif letter == \"I\":\n",
    "        continue\n",
    "    elif letter == \"O\":\n",
    "        continue\n",
    "    elif letter == \"U\":\n",
    "        continue\n",
    "    wordWithoutVowels += letter\n",
    "else:\n",
    "    print(wordWithoutVowels, end=\" \")"
   ]
  },
  {
   "cell_type": "code",
   "execution_count": null,
   "id": "31238f20",
   "metadata": {},
   "outputs": [],
   "source": []
  }
 ],
 "metadata": {
  "kernelspec": {
   "display_name": "Python 3 (ipykernel)",
   "language": "python",
   "name": "python3"
  },
  "language_info": {
   "codemirror_mode": {
    "name": "ipython",
    "version": 3
   },
   "file_extension": ".py",
   "mimetype": "text/x-python",
   "name": "python",
   "nbconvert_exporter": "python",
   "pygments_lexer": "ipython3",
   "version": "3.10.2"
  }
 },
 "nbformat": 4,
 "nbformat_minor": 5
}
