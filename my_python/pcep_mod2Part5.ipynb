{
 "cells": [
  {
   "cell_type": "markdown",
   "id": "c34f12b3",
   "metadata": {},
   "source": [
    "# mod2 part5"
   ]
  },
  {
   "cell_type": "markdown",
   "id": "b7224d7b",
   "metadata": {},
   "source": [
    "# The input() function\n",
    "\n",
    "We're now going to introduce you to a completely new function, which seems to be a mirror reflection of the good old print() function.\n",
    "\n",
    "Why? Well, print() sends data to the console.\n",
    "\n",
    "The new function gets data from it.\n",
    "\n",
    "print() has no usable result. The meaning of the new function is to return a very usable result.\n",
    "\n",
    "The function is named input(). The name of the function says everything.\n",
    "\n",
    "The input() function is able to read data entered by the user and to return the same data to the running program.\n",
    "\n",
    "The program can manipulate the data, making the code truly interactive.\n",
    "\n",
    "Virtually all programs read and process data. A program which doesn't get a user's input is a deaf program.\n",
    "\n",
    "Take a look at our example:\n",
    "\n",
    "print(\"Tell me anything...\")\n",
    "anything = input()\n",
    "print(\"Hmm...\", anything, \"... Really?\")\n",
    "\n",
    "\n",
    "It shows a very simple case of using the input() function.\n",
    "\n",
    "Note:\n",
    "\n",
    "The program prompts the user to input some data from the console (most likely using a keyboard, although it is also possible to input data using voice or image);\n",
    "the input() function is invoked without arguments (this is the simplest way of using the function); the function will switch the console to input mode; you'll see a blinking cursor, and you'll be able to input some keystrokes, finishing off by hitting the Enter key; all the inputted data will be sent to your program through the function's result;\n",
    "note: you need to assign the result to a variable; this is crucial - missing out this step will cause the entered data to be lost;\n",
    "then we use the print() function to output the data we get, with some additional remarks.\n",
    "Try to run the code and let the function show you what it can do for you"
   ]
  },
  {
   "cell_type": "code",
   "execution_count": 1,
   "id": "e1dd5e6f",
   "metadata": {},
   "outputs": [
    {
     "name": "stdout",
     "output_type": "stream",
     "text": [
      "Tell me anything...\n",
      "anything, hell yeah!!!\n",
      "Hmm... anything, hell yeah!!! ... Really?\n"
     ]
    }
   ],
   "source": [
    "print(\"Tell me anything...\")\n",
    "anything = input()\n",
    "print(\"Hmm...\", anything, \"... Really?\")"
   ]
  },
  {
   "cell_type": "markdown",
   "id": "f95ed84a",
   "metadata": {},
   "source": [
    "# The input() function with an argument\n",
    "The input() function can do something else: it can prompt the user without any help from print().\n",
    "\n",
    "We've modified our example a bit, look at the code:\n",
    "\n",
    "anything = input(\"Tell me anything...\")\n",
    "print(\"Hmm...\", anything, \"...Really?\")\n",
    "\n",
    "\n",
    "Note:\n",
    "\n",
    "the input() function is invoked with one argument - it's a string containing a message;\n",
    "the message will be displayed on the console before the user is given an opportunity to enter anything;\n",
    "input() will then do its job.\n",
    "This variant of the input() invocation simplifies the code and makes it clearer\n",
    "\n",
    "# The result of the input() function\n",
    "We've said it already, but it must be unambiguously stated once again: the result of the input() function is a string.\n",
    "\n",
    "A string containing all the characters the user enters from the keyboard. It is not an integer or a float.\n",
    "\n",
    "This means that you mustn't use it as an argument of any arithmetic operation, e.g., you can't use this data to square it, divide it by anything, or divide anything by it.\n",
    "\n",
    "anything = input(\"Enter a number: \")\n",
    "something = anything ** 2.0\n",
    "print(anything, \"to the power of 2 is\", something)"
   ]
  },
  {
   "cell_type": "code",
   "execution_count": 3,
   "id": "e5d0f0d2",
   "metadata": {},
   "outputs": [
    {
     "name": "stdout",
     "output_type": "stream",
     "text": [
      "Enter a number: 3\n"
     ]
    },
    {
     "ename": "TypeError",
     "evalue": "unsupported operand type(s) for ** or pow(): 'str' and 'float'",
     "output_type": "error",
     "traceback": [
      "\u001b[1;31m---------------------------------------------------------------------------\u001b[0m",
      "\u001b[1;31mTypeError\u001b[0m                                 Traceback (most recent call last)",
      "Cell \u001b[1;32mIn [3], line 2\u001b[0m\n\u001b[0;32m      1\u001b[0m anything \u001b[38;5;241m=\u001b[39m \u001b[38;5;28minput\u001b[39m(\u001b[38;5;124m\"\u001b[39m\u001b[38;5;124mEnter a number: \u001b[39m\u001b[38;5;124m\"\u001b[39m)\n\u001b[1;32m----> 2\u001b[0m something \u001b[38;5;241m=\u001b[39m anything \u001b[38;5;241m*\u001b[39m\u001b[38;5;241m*\u001b[39m \u001b[38;5;241m2.0\u001b[39m\n\u001b[0;32m      3\u001b[0m \u001b[38;5;28mprint\u001b[39m(anything, \u001b[38;5;124m\"\u001b[39m\u001b[38;5;124mto the power of 2 is\u001b[39m\u001b[38;5;124m\"\u001b[39m, something)\n",
      "\u001b[1;31mTypeError\u001b[0m: unsupported operand type(s) for ** or pow(): 'str' and 'float'"
     ]
    }
   ],
   "source": [
    "# anything = input(\"Enter a number: \")\n",
    "# something = anything ** 2.0\n",
    "# print(anything, \"to the power of 2 is\", something)"
   ]
  },
  {
   "cell_type": "code",
   "execution_count": 5,
   "id": "be614849",
   "metadata": {},
   "outputs": [
    {
     "name": "stdout",
     "output_type": "stream",
     "text": [
      "Tell me anything...anything\n",
      "Hmm... anything ...Really?\n"
     ]
    }
   ],
   "source": [
    "anything = input(\"Tell me anything...\")\n",
    "print(\"Hmm...\", anything, \"...Really?\")"
   ]
  },
  {
   "cell_type": "markdown",
   "id": "1b8e8eb3",
   "metadata": {},
   "source": [
    "# Type casting\n",
    "\n",
    "Python offers two simple functions to specify a type of data and solve this problem - here they are: int() and float().\n",
    "\n",
    "Their names are self-commenting:\n",
    "\n",
    "the int() function takes one argument (e.g., a string: int(string)) and tries to convert it into an integer; if it fails, the whole program will fail too (there is a workaround for this situation, but we'll show you this a little later);\n",
    "the float() function takes one argument (e.g., a string: float(string)) and tries to convert it into a float (the rest is the same).\n",
    "\n",
    "This is very simple and very effective. Moreover, you can invoke any of the functions by passing the input() results directly to them. There's no need to use any variable as an intermediate storage.\n",
    "\n",
    "We've implemented the idea in the editor - take a look at the code.\n",
    "\n",
    "Can you imagine how the string entered by the user flows from input() into print()?\n",
    "\n",
    "Try to run the modified code. Don't forget to enter a valid number.\n",
    "\n",
    "Check some different values, small and big, negative and positive. Zero is a good input, too."
   ]
  },
  {
   "cell_type": "code",
   "execution_count": 2,
   "id": "048ef13a",
   "metadata": {},
   "outputs": [
    {
     "name": "stdout",
     "output_type": "stream",
     "text": [
      "Enter a number: 6\n",
      "6.0 to the power of 2 is 36.0\n"
     ]
    }
   ],
   "source": [
    "anything = float(input(\"Enter a number: \"))\n",
    "something = anything ** 2.0\n",
    "print(anything, \"to the power of 2 is\", something)"
   ]
  },
  {
   "cell_type": "markdown",
   "id": "cbe9e299",
   "metadata": {},
   "source": [
    "# More about input() and type casting\n",
    "\n",
    "Having a team consisting of the trio input()-int()-float() opens up lots of new possibilities.\n",
    "\n",
    "You'll eventually be able to write complete programs, accepting data in the form of numbers, processing them and displaying the results.\n",
    "\n",
    "Of course, these programs will be very primitive and not very usable, as they cannot make decisions, and consequently are not able to react differently to different situations.\n",
    "\n",
    "This is not really a problem, though; we'll show you how to overcome it soon.\n",
    "\n",
    "Our next example refers to the earlier program to find the length of a hypotenuse. Let's rewrite it and make it able to read the lengths of the legs from the console.\n",
    "\n",
    "Check out the editor window - this is how it looks now.\n",
    "\n",
    "The program asks the user twice for both legs' lengths, evaluates the hypotenuse and prints the result.\n",
    "\n",
    "Run it and try to input some negative values.\n",
    "\n",
    "The program - unfortunately - doesn't react to this obvious error.\n",
    "\n",
    "Let's ignore this weakness for now. We'll come back to it soon.\n",
    "\n",
    "Note that in the program that you can see in the editor, the hypo variable is used for only one purpose - to save the calculated value between the execution of the adjoining line of code.\n",
    "\n",
    "As the print() function accepts an expression as its argument, you can remove the variable from the code.\n",
    "\n",
    "Just like this:"
   ]
  },
  {
   "cell_type": "code",
   "execution_count": 4,
   "id": "92804aa3",
   "metadata": {},
   "outputs": [
    {
     "name": "stdout",
     "output_type": "stream",
     "text": [
      "Input first leg length: 5\n",
      "Input second leg length: 5\n",
      "Hypotenuse length is 7.0710678118654755\n"
     ]
    }
   ],
   "source": [
    "leg_a = float(input(\"Input first leg length: \"))\n",
    "leg_b = float(input(\"Input second leg length: \"))\n",
    "hypo = (leg_a**2 + leg_b**2) ** .5\n",
    "print(\"Hypotenuse length is\", hypo)"
   ]
  },
  {
   "cell_type": "markdown",
   "id": "b17b284d",
   "metadata": {},
   "source": [
    "# String operators - introduction\n",
    "It's time to return to these two arithmetic operators: + and *.\n",
    "\n",
    "We want to show you that they have a second function. They are able to do something more than just add and multiply.\n",
    "\n",
    "We've seen them in action where their arguments are numbers (floats or integers, it doesn't matter).\n",
    "\n",
    "Now we're going to show you that they can handle strings, too, albeit in a very specific way.\n",
    "\n",
    "\n",
    "Concatenation\n",
    "The + (plus) sign, when applied to two strings, becomes a concatenation operator:\n",
    "\n",
    "string + string\n",
    "\n",
    "It simply concatenates (glues) two strings into one. Of course, like its arithmetic sibling, it can be used more than once in one expression, and in such a context it behaves according to left-sided binding.\n",
    "\n",
    "In contrast to its arithmetic sibling, the concatenation operator is not commutative, i.e., \"ab\" + \"ba\" is not the same as \"ba\" + \"ab\".\n",
    "\n",
    "Don't forget - if you want the + sign to be a concatenator, not an adder, you must ensure that both its arguments are strings.\n",
    "\n",
    "You cannot mix types here.\n",
    "\n",
    "This simple program shows the + sign in its second use:\n",
    "\n",
    "fnam = input(\"May I have your first name, please? \")\n",
    "lnam = input(\"May I have your last name, please? \")\n",
    "print(\"Thank you.\")\n",
    "print(\"\\nYour name is \" + fnam + \" \" + lnam + \".\")\n",
    "\n",
    "\n",
    "Note: using + to concatenate strings lets you construct the output in a more precise way than with a pure print() function, even if enriched with the end= and sep= keyword arguments.\n",
    "\n",
    "Run the code and see if the output matches your predictions."
   ]
  },
  {
   "cell_type": "code",
   "execution_count": 5,
   "id": "b3df1ef2",
   "metadata": {},
   "outputs": [
    {
     "name": "stdout",
     "output_type": "stream",
     "text": [
      "May I have your first name, please? lj\n",
      "May I have your last name, please? lj\n",
      "Thank you.\n",
      "\n",
      "Your name is lj lj.\n"
     ]
    }
   ],
   "source": [
    "fnam = input(\"May I have your first name, please? \")\n",
    "lnam = input(\"May I have your last name, please? \")\n",
    "print(\"Thank you.\")\n",
    "print(\"\\nYour name is \" + fnam + \" \" + lnam + \".\")"
   ]
  },
  {
   "cell_type": "markdown",
   "id": "eae76868",
   "metadata": {},
   "source": [
    "## Replication\n",
    "The * (asterisk) sign, when applied to a string and number (or a number and string, as it remains commutative in this position) becomes a replication operator:\n",
    "\n",
    "string * number\n",
    "number * string\n",
    "\n",
    "\n",
    "It replicates the string the same number of times specified by the number.\n",
    "\n",
    "For example:\n",
    "\n",
    "\"James\" * 3 gives \"JamesJamesJames\"\n",
    "3 * \"an\" gives \"ananan\"\n",
    "5 * \"2\" (or \"2\" * 5) gives \"22222\" (not 10!)\n",
    "\n",
    "REMEMBER\n",
    "\n",
    "A number less than or equal to zero produces an empty string.\n",
    "\n",
    "\n",
    "This simple program \"draws\" a rectangle, making use of an old operator (+) in a new role:\n",
    "\n",
    "print(\"+\" + 10 * \"-\" + \"+\")\n",
    "print((\"|\" + \" \" * 10 + \"|\\n\") * 5, end=\"\")\n",
    "print(\"+\" + 10 * \"-\" + \"+\")\n",
    "\n",
    "\n",
    "Note the way in which we've used the parentheses in the second line of the code.\n",
    "\n",
    "Try practicing to create other shapes or your own artwork!"
   ]
  },
  {
   "cell_type": "code",
   "execution_count": 1,
   "id": "0760f1e6",
   "metadata": {},
   "outputs": [
    {
     "name": "stdout",
     "output_type": "stream",
     "text": [
      "+----------+\n",
      "|          |\n",
      "|          |\n",
      "|          |\n",
      "|          |\n",
      "|          |\n",
      "+----------+\n"
     ]
    }
   ],
   "source": [
    "print(\"+\" + 10 * \"-\" + \"+\")\n",
    "print((\"|\" + \" \" * 10 + \"|\\n\") * 5, end=\"\")\n",
    "print(\"+\" + 10 * \"-\" + \"+\")"
   ]
  },
  {
   "cell_type": "markdown",
   "id": "fa203df4",
   "metadata": {},
   "source": []
  },
  {
   "cell_type": "markdown",
   "id": "585ef49d",
   "metadata": {},
   "source": [
    "# LAB\n",
    "\n",
    "Estimated time\n",
    "15-20 minutes\n",
    "\n",
    "Level of difficulty\n",
    "Easy\n",
    "\n",
    "Objectives\n",
    "improving the ability to use numbers, operators, and arithmetic operations in Python;\n",
    "using the print() function's formatting capabilities;\n",
    "learning to express everyday-life phenomena in terms of programming language.\n",
    "Scenario\n",
    "Your task is to prepare a simple code able to evaluate the end time of a period of time, given as a number of minutes (it could be arbitrarily large). The start time is given as a pair of hours (0..23) and minutes (0..59). The result has to be printed to the console.\n",
    "\n",
    "For example, if an event starts at 12:17 and lasts 59 minutes, it will end at 13:16.\n",
    "\n",
    "Don't worry about any imperfections in your code - it's okay if it accepts an invalid time - the most important thing is that the code produce valid results for valid input data.\n",
    "\n",
    "Test your code carefully. Hint: using the % operator may be the key to success.\n",
    "\n",
    "Test Data\n",
    "Sample input:\n",
    "12\n",
    "17\n",
    "59\n",
    "\n",
    "Expected output: 13:16\n",
    "\n",
    "\n",
    "Sample input:\n",
    "23\n",
    "58\n",
    "642\n",
    "\n",
    "Expected output: 10:40\n",
    "\n",
    "\n",
    "Sample input:\n",
    "0\n",
    "1\n",
    "2939\n",
    "\n",
    "Expected output: 1:0\n",
    "\n"
   ]
  },
  {
   "cell_type": "code",
   "execution_count": null,
   "id": "58777191",
   "metadata": {},
   "outputs": [],
   "source": [
    "# hour = int(input(\"Starting time (hours): \"))\n",
    "# mins = int(input(\"Starting time (minutes): \"))\n",
    "# dura = int(input(\"Event duration (minutes): \"))\n",
    "\n",
    "# # Write your code here."
   ]
  },
  {
   "cell_type": "code",
   "execution_count": 1,
   "id": "e99834c7",
   "metadata": {},
   "outputs": [
    {
     "name": "stdout",
     "output_type": "stream",
     "text": [
      "Test #1\n",
      "Start time: 12:17; duration: 59 minutes.\n",
      "Target time:  13:16\n",
      "\n",
      "Test #2\n",
      "Start time: 23:58; duration: 642 minutes.\n",
      "Target time:  10:40\n",
      "\n",
      "Test #3\n",
      "Start time: 0:1; duration: 2939 minutes.\n",
      "Target time:  1:0\n",
      "\n"
     ]
    }
   ],
   "source": [
    "# Test with the included test data\n",
    "hour, minute, duration = [12, 23, 0], [17, 58, 1], [59, 642, 2939]\n",
    "for i in range(len(hour)):\n",
    "    chour = hour[i]\n",
    "    cmin = minute[i]\n",
    "    cdur = duration[i]\n",
    "    mins = chour * 60 + cmin\n",
    "    tmins = mins + cdur\n",
    "    print('Test #' + str(i + 1) + '\\nStart time: ' + str(chour) + \":\" +\n",
    "          str(cmin) + \"; duration: \" + str(cdur) + \" minutes.\")\n",
    "    print('Target time: ', str((tmins // 60) % 24) +\n",
    "          \":\" + str(tmins % 60), end=\"\\n\\n\")"
   ]
  },
  {
   "cell_type": "code",
   "execution_count": 3,
   "id": "279402a2",
   "metadata": {},
   "outputs": [
    {
     "name": "stdout",
     "output_type": "stream",
     "text": [
      "Enter starting hour: 12\n",
      "Enter starting minute: 12\n",
      "Enter duration: 9\n",
      "Target time:  12:21\n",
      "\n"
     ]
    }
   ],
   "source": [
    "# Test with user input\n",
    "chour = int(input('Enter starting hour: '))\n",
    "cmin = int(input('Enter starting minute: '))\n",
    "cdur = int(input('Enter duration: '))\n",
    "mins = chour * 60 + cmin\n",
    "tmins = mins + cdur\n",
    "print('Target time: ', str((tmins // 60) % 24) +\n",
    "      \":\" + str(tmins % 60), end=\"\\n\\n\")"
   ]
  },
  {
   "cell_type": "markdown",
   "id": "f93f8ea7",
   "metadata": {},
   "source": [
    "# Key takeaways\n",
    "\n",
    "1. The print() function sends data to the console, while the input() function gets data from the console.\n",
    "\n",
    "2. The input() function comes with an optional parameter: the prompt string. It allows you to write a message before the user input, e.g.:"
   ]
  },
  {
   "cell_type": "code",
   "execution_count": 2,
   "id": "616153d0",
   "metadata": {},
   "outputs": [
    {
     "name": "stdout",
     "output_type": "stream",
     "text": [
      "Enter your name: law\n",
      "Hello, law. Nice to meet you!\n"
     ]
    }
   ],
   "source": [
    "name = input(\"Enter your name: \")\n",
    "print(\"Hello, \" + name + \". Nice to meet you!\")"
   ]
  },
  {
   "cell_type": "markdown",
   "id": "e6bdcfd6",
   "metadata": {},
   "source": [
    "3. When the input() function is called, the program's flow is stopped, the prompt symbol keeps blinking (it prompts the user to take action when the console is switched to input mode) until the user has entered an input and/or pressed the Enter key.\n",
    "\n",
    "NOTE\n",
    "\n",
    "You can test the functionality of the input() function in its full scope locally on your machine. For resource optimization reasons, we have limited the maximum program execution time in Edube to a few seconds. Go to Sandbox, copy-paste the above snippet, run the program, and do nothing - just wait a few seconds to see what happens. Your program should be stopped automatically after a short moment. Now open IDLE, and run the same program there - can you see the difference?\n",
    "\n",
    "Tip: the above-mentioned feature of the input() function can be used to prompt the user to end a program. Look at the code below"
   ]
  },
  {
   "cell_type": "code",
   "execution_count": 4,
   "id": "329034ab",
   "metadata": {},
   "outputs": [
    {
     "name": "stdout",
     "output_type": "stream",
     "text": [
      "Enter your name: law\n",
      "Hello, law. Nice to meet you!\n",
      "\n",
      "Press Enter to end the program.\n",
      "\n",
      "THE END.\n"
     ]
    }
   ],
   "source": [
    "name = input(\"Enter your name: \")\n",
    "print(\"Hello, \" + name + \". Nice to meet you!\")\n",
    "\n",
    "print(\"\\nPress Enter to end the program.\")\n",
    "input()\n",
    "print(\"THE END.\")"
   ]
  },
  {
   "cell_type": "markdown",
   "id": "4ac3f989",
   "metadata": {},
   "source": [
    "Exercise 1\n",
    "\n",
    "What is the output of the following snippet?"
   ]
  },
  {
   "cell_type": "code",
   "execution_count": 6,
   "id": "c80928fb",
   "metadata": {},
   "outputs": [
    {
     "name": "stdout",
     "output_type": "stream",
     "text": [
      "Enter a number: 2\n",
      "55\n"
     ]
    }
   ],
   "source": [
    "x = int(input(\"Enter a number: \")) # The user enters 2\n",
    "print(x * \"5\")"
   ]
  },
  {
   "cell_type": "markdown",
   "id": "d5f03186",
   "metadata": {},
   "source": [
    "Exercise 2\n",
    "\n",
    "What is the expected output of the following snippet?"
   ]
  },
  {
   "cell_type": "code",
   "execution_count": 5,
   "id": "1fcfb743",
   "metadata": {},
   "outputs": [
    {
     "name": "stdout",
     "output_type": "stream",
     "text": [
      "Enter a number: 5\n",
      "<class 'str'>\n"
     ]
    }
   ],
   "source": [
    "x = input(\"Enter a number: \") # The user enters 2\n",
    "print(type(x))"
   ]
  }
 ],
 "metadata": {
  "kernelspec": {
   "display_name": "Python 3 (ipykernel)",
   "language": "python",
   "name": "python3"
  },
  "language_info": {
   "codemirror_mode": {
    "name": "ipython",
    "version": 3
   },
   "file_extension": ".py",
   "mimetype": "text/x-python",
   "name": "python",
   "nbconvert_exporter": "python",
   "pygments_lexer": "ipython3",
   "version": "3.10.2"
  }
 },
 "nbformat": 4,
 "nbformat_minor": 5
}
