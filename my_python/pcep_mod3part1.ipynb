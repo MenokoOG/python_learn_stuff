{
 "cells": [
  {
   "cell_type": "markdown",
   "id": "7c688e10",
   "metadata": {},
   "source": [
    "# Module 3 PCEP"
   ]
  },
  {
   "cell_type": "markdown",
   "id": "b323c459",
   "metadata": {},
   "source": [
    "# Python Essentials 1:\n",
    "Module 3\n",
    "Boolean Values, Conditional Execution, Loops, Lists and List Processing, Logical and Bitwise Operations\n",
    "\n",
    "In this module, you will cover the following topics:\n",
    "\n",
    "the Boolean data type;\n",
    "relational operators;\n",
    "making decisions in Python (if, if-else, if-elif,else)\n",
    "how to repeat code execution using loops (while, for)\n",
    "how to perform logic and bitwise operations in Python;\n",
    "lists in Python (constructing, indexing, and slicing; content manipulation)\n",
    "how to sort a list using bubble-sort algorithms;\n",
    "multidimensional lists and their applications."
   ]
  },
  {
   "cell_type": "markdown",
   "id": "3d68255e",
   "metadata": {},
   "source": [
    "### Questions and answers\n",
    "A programmer writes a program and the program asks questions.\n",
    "\n",
    "A computer executes the program and provides the answers. The program must be able to react according to the received answers.\n",
    "\n",
    "Fortunately, computers know only two kinds of answers:\n",
    "\n",
    "yes, this is true;\n",
    "no, this is false.\n",
    "You will never get a response like Let me think...., I don't know, or Probably yes, but I don't know for sure.\n",
    "\n",
    "To ask questions, Python uses a set of very special operators. Let's go through them one after another, illustrating their effects on some simple examples.\n",
    "\n",
    "\n",
    "Comparison: equality operator\n",
    "Question: are two values equal?\n",
    "\n",
    "To ask this question, you use the == (equal equal) operator.\n",
    "\n",
    "Don't forget this important distinction:\n",
    "\n",
    "= is an assignment operator, e.g., a = b assigns a with the value of b;\n",
    "== is the question are these values equal?; a == b compares a and b.\n",
    "It is a binary operator with left-sided binding. It needs two arguments and checks if they are equal.\n",
    "\n",
    "\n",
    "Exercises\n",
    "Now let's ask a few questions. Try to guess the answers.\n",
    "\n",
    "Question #1: What is the result of the following comparison?\n",
    "\n",
    "2 == 2    Check\n",
    "\n",
    "Question #2: What is the result of the following comparison?\n",
    "\n",
    "2 == 2.    Check\n",
    "\n",
    "Question #3: What is the result of the following comparison?"
   ]
  },
  {
   "cell_type": "code",
   "execution_count": 3,
   "id": "2ae3f7b2",
   "metadata": {},
   "outputs": [
    {
     "data": {
      "text/plain": [
       "True"
      ]
     },
     "execution_count": 3,
     "metadata": {},
     "output_type": "execute_result"
    }
   ],
   "source": [
    "2 == 2\n",
    "2 == 2."
   ]
  },
  {
   "cell_type": "markdown",
   "id": "0e15bb2f",
   "metadata": {},
   "source": [
    "## Equality: the equal to operator (==)\n",
    "The == (equal to) operator compares the values of two operands. If they are equal, the result of the comparison is True. If they are not equal, the result of the comparison is False.\n",
    "\n",
    "Look at the equality comparison below - what is the result of this operation?\n",
    "\n",
    "var == 0\n",
    "\n",
    "\n",
    "Note that we cannot find the answer if we do not know what value is currently stored in the variable var.\n",
    "\n",
    "If the variable has been changed many times during the execution of your program, or its initial value is entered from the console, the answer to this question can be given only by Python and only at runtime.\n",
    "\n",
    "Now imagine a programmer who suffers from insomnia, and has to count black and white sheep separately as long as there are exactly twice as many black sheep as white ones.\n",
    "\n",
    "The question will be as follows:\n",
    "\n",
    "black_sheep == 2 * white_sheep\n",
    "\n",
    "\n",
    "Due to the low priority of the == operator, the question shall be treated as equivalent to this one:\n",
    "\n",
    "black_sheep == (2 * white_sheep)\n",
    "\n",
    "\n",
    "So, let's practice your understanding of the == operator now - can you guess the output of the code below?\n",
    "\n",
    "var = 0  # Assigning 0 to var\n",
    "print(var == 0)\n",
    "\n",
    "var = 1  # Assigning 1 to var\n",
    "print(var == 0)\n",
    "\n",
    "\n",
    "Run the code and check if you were right.\n",
    "\n",
    "Inequality: the not equal to operator (!=)\n",
    "The != (not equal to) operator compares the values of two operands, too. Here is the difference: if they are equal, the result of the comparison is False. If they are not equal, the result of the comparison is True.\n",
    "\n",
    "Now take a look at the inequality comparison below - can you guess the result of this operation?\n",
    "\n",
    "var = 0  # Assigning 0 to var\n",
    "print(var != 0)\n",
    "\n",
    "var = 1  # Assigning 1 to var\n",
    "print(var != 0)\n",
    "\n",
    "\n",
    "Run the code and check if you were right.\n"
   ]
  },
  {
   "cell_type": "code",
   "execution_count": 4,
   "id": "f4fb0932",
   "metadata": {},
   "outputs": [
    {
     "name": "stdout",
     "output_type": "stream",
     "text": [
      "False\n",
      "True\n"
     ]
    }
   ],
   "source": [
    "var = 0  # Assigning 0 to var\n",
    "print(var != 0)\n",
    "\n",
    "var = 1  # Assigning 1 to var\n",
    "print(var != 0)"
   ]
  },
  {
   "cell_type": "markdown",
   "id": "c878719f",
   "metadata": {},
   "source": [
    "### Comparison operators: greater than\n",
    "You can also ask a comparison question using the > (greater than) operator.\n",
    "\n",
    "If you want to know if there are more black sheep than white ones, you can write it as follows:\n",
    "\n",
    "black_sheep > white_sheep  # Greater than\n",
    "\n",
    "\n",
    "True confirms it; False denies it.\n",
    "\n",
    "\n",
    "Comparison operators: greater than or equal to\n",
    "The greater than operator has another special, non-strict variant, but it's denoted differently than in classical arithmetic notation: >= (greater than or equal to).\n",
    "\n",
    "There are two subsequent signs, not one.\n",
    "\n",
    "Both of these operators (strict and non-strict), as well as the two others discussed in the next section, are binary operators with left-sided binding, and their priority is greater than that shown by == and !=.\n",
    "\n",
    "If we want to find out whether or not we have to wear a warm hat, we ask the following question:\n",
    "\n",
    "centigrade_outside ≥ 0.0  # Greater than or equal to\n",
    "\n",
    "\n",
    "Comparison operators: less than or equal to\n",
    "As you've probably already guessed, the operators used in this case are: the < (less than) operator and its non-strict sibling: <= (less than or equal to).\n",
    "\n",
    "Look at this simple example:\n",
    "\n",
    "current_velocity_mph < 85  # Less than\n",
    "current_velocity_mph ≤ 85  # Less than or equal to\n",
    "\n",
    "\n",
    "We're going to check if there's a risk of being fined by the highway police (the first question is strict, the second isn't)."
   ]
  },
  {
   "cell_type": "markdown",
   "id": "88c1a2d3",
   "metadata": {},
   "source": [
    "### Making use of the answers\n",
    "What can you do with the answer (i.e., the result of a comparison operation) you get from the computer?\n",
    "\n",
    "There are at least two possibilities: first, you can memorize it (store it in a variable) and make use of it later. How do you do that? Well, you would use an arbitrary variable like this:\n",
    "\n",
    "answer = number_of_lions >= number_of_lionesses\n",
    "\n",
    "\n",
    "The content of the variable will tell you the answer to the question asked.\n",
    "\n",
    "\n",
    "The second possibility is more convenient and far more common: you can use the answer you get to make a decision about the future of the program.\n",
    "\n",
    "You need a special instruction for this purpose, and we'll discuss it very soon.\n",
    "\n",
    "Now we need to update our priority table, and put all the new operators into it. It now looks as follows:\n",
    "\n",
    "Priority\tOperator\t\n",
    "1\t+, -\tunary\n",
    "2\t**\t\n",
    "3\t*, /, //, %\t\n",
    "4\t+, -\tbinary\n",
    "5\t<, <=, >, >=\t\n",
    "6\t==, !=\t"
   ]
  },
  {
   "cell_type": "markdown",
   "id": "9e4f69a0",
   "metadata": {},
   "source": [
    "### LAB\n",
    "\n",
    "Estimated time\n",
    "5-10 minutes\n",
    "\n",
    "Level of difficulty\n",
    "Very Easy\n",
    "\n",
    "Objectives\n",
    "becoming familiar with the the input() function;\n",
    "becoming familiar with comparison operators in Python.\n",
    "Scenario\n",
    "Using one of the comparison operators in Python, write a simple two-line program that takes the parameter n as input, which is an integer, and prints False if n is less than 100, and True if n is greater than or equal to 100.\n",
    "\n",
    "Don't create any if blocks (we're going to talk about them very soon). Test your code using the data we've provided for you.\n",
    "\n",
    "Test Data\n",
    "\n",
    "Sample input: 55\n",
    "\n",
    "Expected output: False\n",
    "\n",
    "Sample input: 99\n",
    "\n",
    "Expected output: False\n",
    "\n",
    "Sample input: 100\n",
    "\n",
    "Expected output: True\n",
    "\n",
    "Sample input: 101\n",
    "\n",
    "Expected output: True\n",
    "\n",
    "Sample input: -5\n",
    "\n",
    "Expected output: False\n",
    "\n",
    "Sample input: +123\n",
    "\n",
    "Expected output: True\n",
    "\n"
   ]
  },
  {
   "cell_type": "code",
   "execution_count": 5,
   "id": "2b741f57",
   "metadata": {},
   "outputs": [
    {
     "name": "stdout",
     "output_type": "stream",
     "text": [
      "Input for n greater or equal to 100: 22\n",
      "False\n"
     ]
    }
   ],
   "source": [
    "n = int(input('Input for n greater or equal to 100: '))\n",
    "print(n >= 100)"
   ]
  },
  {
   "cell_type": "markdown",
   "id": "0698dae5",
   "metadata": {},
   "source": [
    "# Conditions and conditional execution\n",
    "\n",
    "You already know how to ask Python questions, but you still don't know how to make reasonable use of the answers. You have to have a mechanism which will allow you to do something if a condition is met, and not do it if it isn't.\n",
    "\n",
    "It's just like in real life: you do certain things or you don't when a specific condition is met or not, e.g., you go for a walk if the weather is good, or stay home if it's wet and cold.\n",
    "\n",
    "To make such decisions, Python offers a special instruction. Due to its nature and its application, it's called a conditional instruction (or conditional statement).\n",
    "\n",
    "There are several variants of it. We'll start with the simplest, increasing the difficulty slowly.\n",
    "\n",
    "The first form of a conditional statement, which you can see below is written very informally but figuratively:\n",
    "\n",
    "if true_or_not:\n",
    "    do_this_if_true\n",
    "\n",
    "\n",
    "This conditional statement consists of the following, strictly necessary, elements in this and this order only:\n",
    "\n",
    "the if keyword;\n",
    "one or more white spaces;\n",
    "an expression (a question or an answer) whose value will be interpreted solely in terms of True (when its value is non-zero) and False (when it is equal to zero);\n",
    "a colon followed by a newline;\n",
    "an indented instruction or set of instructions (at least one instruction is absolutely required); the indentation may be achieved in two ways - by inserting a particular number of spaces (the recommendation is to use four spaces of indentation), or by using the tab character; note: if there is more than one instruction in the indented part, the indentation should be the same in all lines; even though it may look the same if you use tabs mixed with spaces, it's important to make all indentations exactly the same - Python 3 does not allow mixing spaces and tabs for indentation.\n",
    "\n",
    "\n",
    "How does that statement work?\n",
    "\n",
    "If the true_or_not expression represents the truth (i.e., its value is not equal to zero), the indented statement(s) will be executed;\n",
    "if the true_or_not expression does not represent the truth (i.e., its value is equal to zero), the indented statement(s) will be omitted (ignored), and the next executed instruction will be the one after the original indentation level.\n",
    "\n",
    "In real life, we often express a desire:\n",
    "\n",
    "if the weather is good, we'll go for a walk\n",
    "\n",
    "then, we'll have lunch\n",
    "\n",
    "\n",
    "As you can see, having lunch is not a conditional activity and doesn't depend on the weather.\n",
    "\n",
    "Knowing what conditions influence our behavior, and assuming that we have the parameterless functions go_for_a_walk() and have_lunch(), we can write the following snippet:\n",
    "\n",
    "if the_weather_is_good:\n",
    "    go_for_a_walk()\n",
    "have_lunch()\n",
    "\n",
    "\n",
    "Prev Next"
   ]
  },
  {
   "cell_type": "markdown",
   "id": "cf17915b",
   "metadata": {},
   "source": [
    "# Conditional execution: the if statement\n",
    "If a certain sleepless Python developer falls asleep when he or she counts 120 sheep, and the sleep-inducing procedure may be implemented as a special function named sleep_and_dream(), the whole code takes the following shape:\n",
    "\n",
    "if sheep_counter >= 120: # Evaluate a test expression\n",
    "    sleep_and_dream() # Execute if test expression is True\n",
    "\t\n",
    "\n",
    "You can read it as: if sheep_counter is greater than or equal to 120, then fall asleep and dream (i.e., execute the sleep_and_dream function.)\n",
    "\n",
    "We've said that conditionally executed statements have to be indented. This creates a very legible structure, clearly demonstrating all possible execution paths in the code.\n",
    "\n",
    "Take a look at the following code:\n",
    "\n",
    "if sheep_counter >= 120:\n",
    "    make_a_bed()\n",
    "    take_a_shower()\n",
    "    sleep_and_dream()\n",
    "feed_the_sheepdogs()\n",
    "\n",
    "\n",
    "As you can see, making a bed, taking a shower and falling asleep and dreaming are all executed conditionally - when sheep_counter reaches the desired limit.\n",
    "\n",
    "Feeding the sheepdogs, however, is always done (i.e., the feed_the_sheepdogs() function is not indented and does not belong to the if block, which means it is always executed.)\n",
    "\n",
    "Now we're going to discuss another variant of the conditional statement, which also allows you to perform an additional action when the condition is not met."
   ]
  },
  {
   "cell_type": "markdown",
   "id": "62b2a566",
   "metadata": {},
   "source": [
    "# Conditional execution: the if-else statement\n",
    "We started out with a simple phrase which read: If the weather is good, we will go for a walk.\n",
    "\n",
    "Note - there is not a word about what will happen if the weather is bad. We only know that we won't go outdoors, but what we could do instead is not known. We may want to plan something in case of bad weather, too.\n",
    "\n",
    "We can say, for example: If the weather is good, we will go for a walk, otherwise we will go to a theater.\n",
    "\n",
    "Now we know what we'll do if the conditions are met, and we know what we'll do if not everything goes our way. In other words, we have a \"Plan B\".\n",
    "\n",
    "Python allows us to express such alternative plans. This is done with a second, slightly more complex form of the conditional statement, the if-else statement:\n",
    "\n",
    "if true_or_false_condition:\n",
    "    perform_if_condition_true\n",
    "else:\n",
    "    perform_if_condition_false\n",
    "\n",
    "\n",
    "Thus, there is a new word: else - this is a keyword.\n",
    "\n",
    "The part of the code which begins with else says what to do if the condition specified for the if is not met (note the colon after the word).\n",
    "\n",
    "The if-else execution goes as follows:\n",
    "\n",
    "if the condition evaluates to True (its value is not equal to zero), the perform_if_condition_true statement is executed, and the conditional statement comes to an end;\n",
    "if the condition evaluates to False (it is equal to zero), the perform_if_condition_false statement is executed, and the conditional statement comes to an end."
   ]
  },
  {
   "cell_type": "markdown",
   "id": "07053dc7",
   "metadata": {},
   "source": [
    "# The if-else statement: more conditional execution\n",
    "By using this form of conditional statement, we can describe our plans as follows:\n",
    "\n",
    "if the_weather_is_good:\n",
    "    go_for_a_walk()\n",
    "else:\n",
    "    go_to_a_theater()\n",
    "have_lunch()\n",
    "\n",
    "\n",
    "If the weather is good, we'll go for a walk. Otherwise, we'll go to a theatre. No matter if the weather is good or bad, we'll have lunch afterwards (after the walk or after going to the theatre).\n",
    "\n",
    "Everything we've said about indentation works in the same manner inside the else branch:\n",
    "\n",
    "if the_weather_is_good:\n",
    "    go_for_a_walk()\n",
    "    have_fun()\n",
    "else:\n",
    "    go_to_a_theater()\n",
    "    enjoy_the_movie()\n",
    "have_lunch()\n",
    "\n",
    "\n",
    "Nested if-else statements\n",
    "Now let's discuss two special cases of the conditional statement.\n",
    "\n",
    "First, consider the case where the instruction placed after the if is another if.\n",
    "\n",
    "Read what we have planned for this Sunday. If the weather is fine, we'll go for a walk. If we find a nice restaurant, we'll have lunch there. Otherwise, we'll eat a sandwich. If the weather is poor, we'll go to the theater. If there are no tickets, we'll go shopping in the nearest mall.\n",
    "\n",
    "Let's write the same in Python. Consider carefully the code here:\n",
    "\n",
    "if the_weather_is_good:\n",
    "    if nice_restaurant_is_found:\n",
    "        have_lunch()\n",
    "    else:\n",
    "        eat_a_sandwich()\n",
    "else:\n",
    "    if tickets_are_available:\n",
    "        go_to_the_theater()\n",
    "    else:\n",
    "        go_shopping()\n",
    "\n",
    "\n",
    "\n",
    "Here are two important points:\n",
    "\n",
    "this use of the if statement is known as nesting; remember that every else refers to the if which lies at the same indentation level; you need to know this to determine how the ifs and elses pair up;\n",
    "consider how the indentation improves readability, and makes the code easier to understand and trace.\n",
    "The elif statement\n",
    "The second special case introduces another new Python keyword: elif. As you probably suspect, it's a shorter form of else if.\n",
    "\n",
    "elif is used to check more than just one condition, and to stop when the first statement which is true is found.\n",
    "\n",
    "Our next example resembles nesting, but the similarities are very slight. Again, we'll change our plans and express them as follows: If the weather is fine, we'll go for a walk, otherwise if we get tickets, we'll go to the theater, otherwise if there are free tables at the restaurant, we'll go for lunch; if all else fails, we'll return home and play chess.\n",
    "\n",
    "Have you noticed how many times we've used the word otherwise? This is the stage where the elif keyword plays its role.\n",
    "\n",
    "Let's write the same scenario using Python:\n",
    "\n",
    "if the_weather_is_good:\n",
    "    go_for_a_walk()\n",
    "elif tickets_are_available:\n",
    "    go_to_the_theater()\n",
    "elif table_is_available:\n",
    "    go_for_lunch()\n",
    "else:\n",
    "    play_chess_at_home()\n",
    "\n",
    "\n",
    "The way to assemble subsequent if-elif-else statements is sometimes called a cascade.\n",
    "\n",
    "Notice again how the indentation improves the readability of the code.\n",
    "\n",
    "Some additional attention has to be paid in this case:\n",
    "\n",
    "you mustn't use else without a preceding if;\n",
    "else is always the last branch of the cascade, regardless of whether you've used elif or not;\n",
    "else is an optional part of the cascade, and may be omitted;\n",
    "if there is an else branch in the cascade, only one of all the branches is executed;\n",
    "if there is no else branch, it's possible that none of the available branches is executed.\n",
    "\n",
    "This may sound a little puzzling, but hopefully some simple examples will help shed more light.\n",
    "\n"
   ]
  },
  {
   "cell_type": "markdown",
   "id": "ef89cf03",
   "metadata": {},
   "source": [
    "# Analyzing code samples\n",
    "Now we're going to show you some simple yet complete programs. We won't explain them in detail, because we consider the comments (and the variable names) inside the code to be sufficient guides.\n",
    "\n",
    "All the programs solve the same problem - they find the largest of several numbers and print it out.\n",
    "\n",
    "Example 1:\n",
    "\n",
    "We'll start with the simplest case - how to identify the larger of two numbers:"
   ]
  },
  {
   "cell_type": "code",
   "execution_count": null,
   "id": "bf1c0bf3",
   "metadata": {},
   "outputs": [],
   "source": [
    "# Read two numbers\n",
    "number1 = int(input(\"Enter the first number: \"))\n",
    "number2 = int(input(\"Enter the second number: \"))\n",
    "\n",
    "# Choose the larger number\n",
    "if number1 > number2:\n",
    "    larger_number = number1\n",
    "else:\n",
    "    larger_number = number2\n",
    "\n",
    "# Print the result\n",
    "print(\"The larger number is:\", larger_number)\n",
    "\n"
   ]
  },
  {
   "cell_type": "markdown",
   "id": "738e392c",
   "metadata": {},
   "source": [
    "The above snippet should be clear - it reads two integer values, compares them, and finds which is the larger.\n",
    "\n",
    "Example 2:\n",
    "\n",
    "Now we're going to show you one intriguing fact. Python has an interesting feature, look at the code below:"
   ]
  },
  {
   "cell_type": "code",
   "execution_count": null,
   "id": "d975e317",
   "metadata": {},
   "outputs": [],
   "source": [
    "# Read two numbers\n",
    "number1 = int(input(\"Enter the first number: \"))\n",
    "number2 = int(input(\"Enter the second number: \"))\n",
    "\n",
    "# Choose the larger number\n",
    "if number1 > number2: larger_number = number1\n",
    "else: larger_number = number2\n",
    "\n",
    "# Print the result\n",
    "print(\"The larger number is:\", larger_number)\n",
    "\n"
   ]
  },
  {
   "cell_type": "markdown",
   "id": "143fbffa",
   "metadata": {},
   "source": [
    "Note: if any of the if-elif-else branches contains just one instruction, you may code it in a more comprehensive form (you don't need to make an indented line after the keyword, but just continue the line after the colon).\n",
    "\n",
    "This style, however, may be misleading, and we're not going to use it in our future programs, but it's definitely worth knowing if you want to read and understand someone else's programs.\n",
    "\n",
    "There are no other differences in the code.\n",
    "\n",
    "Example 3:\n",
    "\n",
    "It's time to complicate the code - let's find the largest of three numbers. Will it enlarge the code? A bit.\n",
    "\n",
    "We assume that the first value is the largest. Then we verify this hypothesis with the two remaining values.\n",
    "\n",
    "Look at the code below:"
   ]
  },
  {
   "cell_type": "code",
   "execution_count": null,
   "id": "e40e87a2",
   "metadata": {},
   "outputs": [],
   "source": [
    "# Read three numbers\n",
    "number1 = int(input(\"Enter the first number: \"))\n",
    "number2 = int(input(\"Enter the second number: \"))\n",
    "number3 = int(input(\"Enter the third number: \"))\n",
    "\n",
    "# We temporarily assume that the first number\n",
    "# is the largest one.\n",
    "# We will verify this soon.\n",
    "largest_number = number1\n",
    "\n",
    "# We check if the second number is larger than current largest_number\n",
    "# and update largest_number if needed.\n",
    "if number2 > largest_number:\n",
    "    largest_number = number2\n",
    "\n",
    "# We check if the third number is larger than current largest_number\n",
    "# and update largest_number if needed.\n",
    "if number3 > largest_number:\n",
    "    largest_number = number3\n",
    "\n",
    "# Print the result\n",
    "print(\"The largest number is:\", largest_number)\n",
    "\n"
   ]
  },
  {
   "cell_type": "markdown",
   "id": "e2c5eee6",
   "metadata": {},
   "source": [
    "This method is significantly simpler than trying to find the largest number all at once, by comparing all possible pairs of numbers (i.e., first with second, second with third, third with first). Try to rebuild the code for yourself."
   ]
  },
  {
   "cell_type": "markdown",
   "id": "de71781a",
   "metadata": {},
   "source": [
    "Pseudocode and introduction to loops\n",
    "You should now be able to write a program which finds the largest of four, five, six, or even ten numbers.\n",
    "\n",
    "You already know the scheme, so extending the size of the problem will not be particularly complex.\n",
    "\n",
    "But what happens if we ask you to write a program that finds the largest of two hundred numbers? Can you imagine the code?\n",
    "\n",
    "You'll need two hundred variables. If two hundred variables isn't bad enough, try to imagine searching for the largest of a million numbers.\n",
    "\n",
    "Imagine a code that contains 199 conditional statements and two hundred invocations of the input() function. Luckily, you don't need to deal with that. There's a simpler approach.\n",
    "\n",
    "\n",
    "The concept of numbers\n",
    "\n",
    "\n",
    "We'll ignore the requirements of Python syntax for now, and try to analyze the problem without thinking about the real programming. In other words, we'll try to write the algorithm, and when we're happy with it, we'll implement it.\n",
    "\n",
    "In this case, we'll use a kind of notation which is not an actual programming language (it can be neither compiled nor executed), but it is formalized, concise and readable. It's called pseudocode.\n",
    "\n",
    "Let's look at our pseudocode below:"
   ]
  },
  {
   "cell_type": "code",
   "execution_count": 2,
   "id": "cdb31f1f",
   "metadata": {},
   "outputs": [
    {
     "name": "stdout",
     "output_type": "stream",
     "text": [
      "-50\n"
     ]
    }
   ],
   "source": [
    "largest_number = -999999999\n",
    "number = int(input())\n",
    "if number == -1:\n",
    "    print(largest_number)\n",
    "    exit()\n",
    "if number > largest_number:\n",
    "    largest_number = number\n",
    "# Go to line 02"
   ]
  },
  {
   "cell_type": "markdown",
   "id": "0f159aa0",
   "metadata": {},
   "source": [
    "What's happening in it?\n",
    "\n",
    "Firstly, we can simplify the program if, at the very beginning of the code, we assign the variable largest_number with a value which will be smaller than any of the entered numbers. We'll use -999999999 for that purpose.\n",
    "\n",
    "Secondly, we assume that our algorithm will not know in advance how many numbers will be delivered to the program. We expect that the user will enter as many numbers as she/he wants - the algorithm will work well with one hundred and with one thousand numbers. How do we do that?\n",
    "\n",
    "\n",
    "\n",
    "We make a deal with the user: when the value -1 is entered, it will be a sign that there are no more data and the program should end its work.\n",
    "\n",
    "Otherwise, if the entered value is not equal to -1, the program will read another number, and so on.\n",
    "\n",
    "The trick is based on the assumption that any part of the code can be performed more than once - precisely, as many times as needed.\n",
    "\n",
    "Performing a certain part of the code more than once is called a loop. The meaning of this term is probably obvious to you.\n",
    "\n",
    "Lines 02 through 08 make a loop. We'll pass through them as many times as needed to review all the entered values.\n",
    "\n",
    "Can you use a similar structure in a program written in Python? Yes, you can.\n",
    "\n",
    "\n",
    "Extra Info\n",
    "\n",
    "Python often comes with a lot of built-in functions that will do the work for you. For example, to find the largest number of all, you can use a Python built-in function called max(). You can use it with multiple arguments. Analyze the code below:"
   ]
  },
  {
   "cell_type": "code",
   "execution_count": null,
   "id": "33ab71e0",
   "metadata": {},
   "outputs": [],
   "source": [
    "# Read three numbers.\n",
    "number1 = int(input(\"Enter the first number: \"))\n",
    "number2 = int(input(\"Enter the second number: \"))\n",
    "number3 = int(input(\"Enter the third number: \"))\n",
    "\n",
    "# Check which one of the numbers is the greatest\n",
    "# and pass it to the largest_number variable.\n",
    "\n",
    "largest_number = max(number1, number2, number3)\n",
    "\n",
    "# Print the result.\n",
    "print(\"The largest number is:\", largest_number)"
   ]
  },
  {
   "cell_type": "markdown",
   "id": "827147c5",
   "metadata": {},
   "source": [
    "By the same fashion, you can use the min() function to return the lowest number. You can rebuild the above code and experiment with it in the Sandbox.\n",
    "\n",
    "We're going to talk about these (and many other) functions soon. For the time being, our focus will be put on conditional execution and loops to let you gain more confidence in programming and teach you the skills that will let you fully understand and apply the two concepts in your code. So, for now, we're not taking any shortcuts."
   ]
  },
  {
   "cell_type": "markdown",
   "id": "bc3d15ce",
   "metadata": {},
   "source": [
    "# LAB\n",
    "\n",
    "Estimated time\n",
    "5-15 minutes\n",
    "\n",
    "Level of difficulty\n",
    "Easy\n",
    "\n",
    "Objectives\n",
    "becoming familiar with the the input() function;\n",
    "becoming familiar with comparison operators in Python;\n",
    "becoming familiar with the concept of conditional execution.\n",
    "Scenario\n",
    "Spathiphyllum, more commonly known as a peace lily or white sail plant, is one of the most popular indoor houseplants that filters out harmful toxins from the air. Some of the toxins that it neutralizes include benzene, formaldehyde, and ammonia.\n",
    "\n",
    "Imagine that your computer program loves these plants. Whenever it receives an input in the form of the word Spathiphyllum, it involuntarily shouts to the console the following string: \"Spathiphyllum is the best plant ever!\"\n",
    "\n",
    "\n",
    "Write a program that utilizes the concept of conditional execution, takes a string as input, and:\n",
    "\n",
    "prints the sentence \"Yes - Spathiphyllum is the best plant ever!\" to the screen if the inputted string is \"Spathiphyllum\" (upper-case)\n",
    "prints \"No, I want a big Spathiphyllum!\" if the inputted string is \"spathiphyllum\" (lower-case)\n",
    "prints \"Spathiphyllum! Not [input]!\" otherwise. Note: [input] is the string taken as input.\n",
    "\n",
    "Test your code using the data we've provided for you. And get yourself a Spathiphyllum, too!\n",
    "\n",
    "\n",
    "Test Data\n",
    "Sample input: spathiphyllum\n",
    "\n",
    "Expected output: No, I want a big Spathiphyllum!\n",
    "\n",
    "Sample input: pelargonium\n",
    "\n",
    "Expected output: Spathiphyllum! Not pelargonium!\n",
    "\n",
    "Sample input: Spathiphyllum\n",
    "\n",
    "Expected output: Yes - Spathiphyllum is the best plant ever!"
   ]
  },
  {
   "cell_type": "code",
   "execution_count": null,
   "id": "3542e3d8",
   "metadata": {},
   "outputs": [],
   "source": [
    "plant = (input(\"Please enter your plant: \"))\n",
    "if plant == \"Spathiphyllum\":\n",
    "        print(\"Spathiphyllum is the best plant ever!\")\n",
    "if plant == \"spathiphyllum\":\n",
    "        print(\"No, I want a big Spathiphyllum!\")\n",
    "else:\n",
    "        print(\"Spathiphyllum! Not \" + plant + \"!\")"
   ]
  },
  {
   "cell_type": "markdown",
   "id": "403488e4",
   "metadata": {},
   "source": [
    "# LAB\n",
    "\n",
    "Estimated time\n",
    "10-20 minutes\n",
    "\n",
    "Level of difficulty\n",
    "Easy/Medium\n",
    "\n",
    "Objectives\n",
    "Familiarize the student with:\n",
    "\n",
    "using the if-else instruction to branch the control path;\n",
    "building a complete program that solves simple real-life problems.\n",
    "Scenario\n",
    "Once upon a time there was a land - a land of milk and honey, inhabited by happy and prosperous people. The people paid taxes, of course - their happiness had limits. The most important tax, called the Personal Income Tax (PIT for short) had to be paid once a year, and was evaluated using the following rule:\n",
    "\n",
    "if the citizen's income was not higher than 85,528 thalers, the tax was equal to 18% of the income minus 556 thalers and 2 cents (this was the so-called tax relief)\n",
    "if the income was higher than this amount, the tax was equal to 14,839 thalers and 2 cents, plus 32% of the surplus over 85,528 thalers.\n",
    "Your task is to write a tax calculator.\n",
    "\n",
    "It should accept one floating-point value: the income.\n",
    "Next, it should print the calculated tax, rounded to full thalers. There's a function named round() which will do the rounding for you - you'll find it in the skeleton code in the editor.\n",
    "Note: this happy country never returns money to its citizens. If the calculated tax is less than zero, it only means no tax at all (the tax is equal to zero). Take this into consideration during your calculations.\n",
    "\n",
    "Look at the code in the editor - it only reads one input value and outputs a result, so you need to complete it with some smart calculations.\n",
    "\n",
    "Test your code using the data we've provided.\n",
    "\n",
    "Test Data\n",
    "Sample input: 10000\n",
    "\n",
    "Expected output: The tax is: 1244.0 thalers\n",
    "\n",
    "Sample input: 100000\n",
    "\n",
    "Expected output: The tax is: 19470.0 thalers\n",
    "\n",
    "Sample input: 1000\n",
    "\n",
    "Expected output: The tax is: 0.0 thalers\n",
    "\n",
    "Sample input: -100\n",
    "\n",
    "Expected output: The tax is: 0.0 thalers\n",
    "\n"
   ]
  },
  {
   "cell_type": "code",
   "execution_count": null,
   "id": "1ce647cc",
   "metadata": {},
   "outputs": [],
   "source": [
    "income = float(input(\"Enter the annual income: \"))\n",
    "if (10000<= income <= 85528):\n",
    "    Tax = ((income*18)/100)-556.2\n",
    "elif income >= 85528: \n",
    "    Tax =((income- 85528)*32)/100+14839.2\n",
    "elif (-100 <= income<=1000): #based on the test data i just entered these no.\n",
    "    Tax = 0.0\n",
    "Tax = round(Tax, 0)\n",
    "print(\"The tax is:\", Tax, \"thalers\")"
   ]
  },
  {
   "cell_type": "markdown",
   "id": "699e114e",
   "metadata": {},
   "source": [
    "LAB\n",
    "\n",
    "Estimated time\n",
    "10-25 minutes\n",
    "\n",
    "Level of difficulty\n",
    "Easy/Medium\n",
    "\n",
    "Objectives\n",
    "Familiarize the student with:\n",
    "\n",
    "using the if-elif-else statement;\n",
    "finding the proper implementation of verbally defined rules;\n",
    "testing code using sample input and output.\n",
    "Scenario\n",
    "As you surely know, due to some astronomical reasons, years may be leap or common. The former are 366 days long, while the latter are 365 days long.\n",
    "\n",
    "Since the introduction of the Gregorian calendar (in 1582), the following rule is used to determine the kind of year:\n",
    "\n",
    "if the year number isn't divisible by four, it's a common year;\n",
    "otherwise, if the year number isn't divisible by 100, it's a leap year;\n",
    "otherwise, if the year number isn't divisible by 400, it's a common year;\n",
    "otherwise, it's a leap year.\n",
    "Look at the code in the editor - it only reads a year number, and needs to be completed with the instructions implementing the test we've just described.\n",
    "\n",
    "The code should output one of two possible messages, which are Leap year or Common year, depending on the value entered.\n",
    "\n",
    "It would be good to verify if the entered year falls into the Gregorian era, and output a warning otherwise: Not within the Gregorian calendar period. Tip: use the != and % operators.\n",
    "\n",
    "Test your code using the data we've provided.\n",
    "\n",
    "Test Data\n",
    "Sample input: 2000\n",
    "\n",
    "Expected output: Leap year\n",
    "\n",
    "Sample input: 2015\n",
    "\n",
    "Expected output: Common year\n",
    "\n",
    "Sample input: 1999\n",
    "\n",
    "Expected output: Common year\n",
    "\n",
    "Sample input: 1996\n",
    "\n",
    "Expected output: Leap year\n",
    "\n",
    "Sample input: 1580\n",
    "\n",
    "Expected output: Not within the Gregorian calendar period"
   ]
  },
  {
   "cell_type": "code",
   "execution_count": null,
   "id": "776a1146",
   "metadata": {},
   "outputs": [],
   "source": [
    "year = int(input(\"Enter a year: \"))\n",
    "if year < 1582:\n",
    "    print(\"Not within the Gregorian calendar period\")\n",
    "elif year % 4 != 0:\n",
    "    print(year, \"is a common year!!!\")\n",
    "elif year % 100 != 0:\n",
    "    print(year, \"is a Leap year!!\")\n",
    "else:\n",
    "    print(year, \"is a Leap year!\")"
   ]
  },
  {
   "cell_type": "markdown",
   "id": "33efa599",
   "metadata": {},
   "source": [
    "# Key takeaways\n",
    "\n",
    "1. The comparison (or the so-called relational) operators are used to compare values. The table below illustrates how the comparison operators work, assuming that x = 0, y = 1, and z = 0:\n",
    "\n",
    "Operator\tDescription\tExample\n",
    "==\treturns if operands' values are equal, and False otherwise\t\n",
    "x == y  # False\n",
    "x == z  # True\n",
    "\n",
    "!=\treturns True if operands' values are not equal, and False otherwise\t\n",
    "x != y  # True\n",
    "x != z  # False\n",
    "\n",
    ">\tTrue if the left operand's value is greater than the right operand's value, and False otherwise\t\n",
    "x > y  # False\n",
    "y > z  # True\n",
    "\n",
    "<\tTrue if the left operand's value is less than the right operand's value, and False otherwise\t\n",
    "x < y  # True\n",
    "y < z  # False\n",
    "\n",
    "≥\tTrue if the left operand's value is greater than or equal to the right operand's value, and False otherwise\t\n",
    "x >= y  # False\n",
    "x >= z  # True\n",
    "y >= z  # True\n",
    "\n",
    "≤\tTrue if the left operand's value is less than or equal to the right operand's value, and False otherwise\t\n",
    "x <= y  # True\n",
    "x <= z  # True\n",
    "y <= z  # False\n",
    "\n",
    "2. When you want to execute some code only if a certain condition is met, you can use a conditional statement:\n",
    "\n",
    "a single if statement, e.g.:"
   ]
  },
  {
   "cell_type": "code",
   "execution_count": 3,
   "id": "bde4c7c9",
   "metadata": {},
   "outputs": [
    {
     "name": "stdout",
     "output_type": "stream",
     "text": [
      "x is equal to 10\n"
     ]
    }
   ],
   "source": [
    "x = 10\n",
    "\n",
    "if x == 10: # condition\n",
    "    print(\"x is equal to 10\")  # Executed if the condition is True."
   ]
  },
  {
   "cell_type": "markdown",
   "id": "66119a29",
   "metadata": {},
   "source": [
    "a series of if statements, e.g."
   ]
  },
  {
   "cell_type": "code",
   "execution_count": 4,
   "id": "ed1db8de",
   "metadata": {},
   "outputs": [
    {
     "name": "stdout",
     "output_type": "stream",
     "text": [
      "x is greater than 5\n",
      "x is equal to 10\n"
     ]
    }
   ],
   "source": [
    "x = 10\n",
    "\n",
    "if x > 5: # condition one\n",
    "    print(\"x is greater than 5\")  # Executed if condition one is True.\n",
    "\n",
    "if x < 10: # condition two\n",
    "    print(\"x is less than 10\")  # Executed if condition two is True.\n",
    "\n",
    "if x == 10: # condition three\n",
    "    print(\"x is equal to 10\")  # Executed if condition three is True."
   ]
  },
  {
   "cell_type": "markdown",
   "id": "2e34ccdc",
   "metadata": {},
   "source": [
    "Each if statement is tested separately.\n",
    "an if-else statement, e.g.:"
   ]
  },
  {
   "cell_type": "code",
   "execution_count": 5,
   "id": "302437f9",
   "metadata": {},
   "outputs": [
    {
     "name": "stdout",
     "output_type": "stream",
     "text": [
      "x is greater than or equal to 10\n"
     ]
    }
   ],
   "source": [
    "x = 10\n",
    "\n",
    "if x < 10:  # Condition\n",
    "    print(\"x is less than 10\")  # Executed if the condition is True.\n",
    "\n",
    "else:\n",
    "    print(\"x is greater than or equal to 10\")  # Executed if the condition is False."
   ]
  },
  {
   "cell_type": "markdown",
   "id": "8f7bd2a9",
   "metadata": {},
   "source": [
    "a series of if statements followed by an else, e.g.:"
   ]
  },
  {
   "cell_type": "code",
   "execution_count": 6,
   "id": "1825cf03",
   "metadata": {},
   "outputs": [
    {
     "name": "stdout",
     "output_type": "stream",
     "text": [
      "x > 5\n",
      "x > 8\n",
      "else will be executed\n"
     ]
    }
   ],
   "source": [
    "x = 10\n",
    "\n",
    "if x > 5:  # True\n",
    "    print(\"x > 5\")\n",
    "\n",
    "if x > 8:  # True\n",
    "    print(\"x > 8\")\n",
    "\n",
    "if x > 10:  # False\n",
    "    print(\"x > 10\")\n",
    "\n",
    "else:\n",
    "    print(\"else will be executed\")"
   ]
  },
  {
   "cell_type": "markdown",
   "id": "89a4176f",
   "metadata": {},
   "source": [
    "Each if is tested separately. The body of else is executed if the last if is False.\n",
    "\n",
    "The if-elif-else statement, e.g.:"
   ]
  },
  {
   "cell_type": "code",
   "execution_count": 7,
   "id": "de6a2bd9",
   "metadata": {},
   "outputs": [
    {
     "name": "stdout",
     "output_type": "stream",
     "text": [
      "x == 10\n",
      "x > 5\n"
     ]
    }
   ],
   "source": [
    "x = 10\n",
    "\n",
    "if x == 10:  # True\n",
    "    print(\"x == 10\")\n",
    "\n",
    "if x > 15:  # False\n",
    "    print(\"x > 15\")\n",
    "\n",
    "elif x > 10:  # False\n",
    "    print(\"x > 10\")\n",
    "\n",
    "elif x > 5:  # True\n",
    "    print(\"x > 5\")\n",
    "\n",
    "else:\n",
    "    print(\"else will not be executed\")"
   ]
  },
  {
   "cell_type": "markdown",
   "id": "6ad75b5f",
   "metadata": {},
   "source": [
    "If the condition for if is False, the program checks the conditions of the subsequent elif blocks - the first elif block that is True is executed. If all the conditions are False, the else block will be executed.\n",
    "\n",
    "Nested conditional statements, e.g.:"
   ]
  },
  {
   "cell_type": "code",
   "execution_count": 12,
   "id": "777234ef",
   "metadata": {},
   "outputs": [
    {
     "name": "stdout",
     "output_type": "stream",
     "text": [
      "nested: x == 10\n"
     ]
    }
   ],
   "source": [
    "x = 10\n",
    "\n",
    "if x > 5:  # True\n",
    "    if x == 6:  # False\n",
    "        print(\"nested: x == 6\")\n",
    "    elif x == 10:  # True\n",
    "        print(\"nested: x == 10\")\n",
    "    else:\n",
    "        print(\"nested: else\")\n",
    "else:\n",
    "    print(\"else\")"
   ]
  }
 ],
 "metadata": {
  "kernelspec": {
   "display_name": "Python 3 (ipykernel)",
   "language": "python",
   "name": "python3"
  },
  "language_info": {
   "codemirror_mode": {
    "name": "ipython",
    "version": 3
   },
   "file_extension": ".py",
   "mimetype": "text/x-python",
   "name": "python",
   "nbconvert_exporter": "python",
   "pygments_lexer": "ipython3",
   "version": "3.10.2"
  }
 },
 "nbformat": 4,
 "nbformat_minor": 5
}
