{
 "cells": [
  {
   "cell_type": "markdown",
   "id": "cdbc0af8",
   "metadata": {},
   "source": [
    "# PCEP Mod2 Part One"
   ]
  },
  {
   "cell_type": "markdown",
   "id": "86f844b3",
   "metadata": {},
   "source": [
    "## Some start off code stuff"
   ]
  },
  {
   "cell_type": "code",
   "execution_count": 1,
   "id": "4a51266c",
   "metadata": {},
   "outputs": [
    {
     "name": "stdout",
     "output_type": "stream",
     "text": [
      "    *\n",
      "   * *\n",
      "  *   *\n",
      " *     *\n",
      "***   ***\n",
      "  *   *\n",
      "  *   *\n",
      "  *****\n",
      "------------------------------\n",
      "    *\n",
      "   * *\n",
      "  *   *\n",
      " *     *\n",
      "***   ***\n",
      "  *   *\n",
      "  *   *\n",
      "  *****\n",
      "-------------------------------------------\n",
      "this is a new\n",
      " test line\n",
      "hell yeah!\n",
      " This is a new line test\n",
      "The itsy bitsy spider climbed up the waterspout.\n",
      "\n",
      "Down came the rain and washed the spider out.\n"
     ]
    }
   ],
   "source": [
    "print(\"    *\")\n",
    "print(\"   * *\")\n",
    "print(\"  *   *\")\n",
    "print(\" *     *\")\n",
    "print(\"***   ***\")\n",
    "print(\"  *   *\")\n",
    "print(\"  *   *\")\n",
    "print(\"  *****\")\n",
    "print(\"------------------------------\")\n",
    "#using \\n newline \n",
    "print(\"    *\\n   * *\\n  *   *\\n *     *\\n***   ***\\n  *   *\\n  *   *\\n  *****\")\n",
    "print(\"-------------------------------------------\")\n",
    "print(\"this is a new\\n test line\")\n",
    "a = \"hell yeah!\"\n",
    "print(a + \"\\n This is a new line test\" )\n",
    "print(\"The itsy bitsy spider climbed up the waterspout.\")\n",
    "print()\n",
    "print(\"Down came the rain and washed the spider out.\")"
   ]
  },
  {
   "cell_type": "markdown",
   "id": "da660a2a",
   "metadata": {},
   "source": [
    "The print() function - the positional way of passing the arguments\n",
    "Now that you know a bit about print() function customs, we're going to show you how to change them.\n",
    "\n",
    "You should be able to predict the output without running the code in the editor.\n",
    "\n",
    "The way in which we are passing the arguments into the print() function is the most common in Python, and is called the positional way (this name comes from the fact that the meaning of the argument is dictated by its position, e.g., the second argument will be outputted after the first, not the other way round).\n",
    "\n",
    "Run the code and check if the output matches your predictions"
   ]
  },
  {
   "cell_type": "code",
   "execution_count": 2,
   "id": "98892a89",
   "metadata": {},
   "outputs": [
    {
     "name": "stdout",
     "output_type": "stream",
     "text": [
      "My name is Python.\n",
      "Monty Python.\n"
     ]
    }
   ],
   "source": [
    "print(\"My name is\", \"Python.\")\n",
    "print(\"Monty Python.\")"
   ]
  },
  {
   "cell_type": "markdown",
   "id": "f29cf11c",
   "metadata": {},
   "source": [
    "The print() function - the keyword arguments\n",
    "Python offers another mechanism for the passing of arguments, which can be helpful when you want to convince the print() function to change its behavior a bit.\n",
    "\n",
    "We aren't going to explain it in depth right now. We plan to do this when we talk about functions. For now, we simply want to show you how it works. Feel free to use it in your own programs.\n",
    "\n",
    "The mechanism is called keyword arguments. The name stems from the fact that the meaning of these arguments is taken not from its location (position) but from the special word (keyword) used to identify them.\n",
    "\n",
    "The print() function has two keyword arguments that you can use for your purposes. The first of them is named end.\n",
    "\n",
    "In the editor window you can see a very simple example of using a keyword argument."
   ]
  },
  {
   "cell_type": "code",
   "execution_count": 3,
   "id": "12bf3c4a",
   "metadata": {},
   "outputs": [
    {
     "name": "stdout",
     "output_type": "stream",
     "text": [
      "My name is Python. Monty Python.\n"
     ]
    }
   ],
   "source": [
    "print(\"My name is\", \"Python.\", end=\" \")\n",
    "print(\"Monty Python.\")"
   ]
  },
  {
   "cell_type": "markdown",
   "id": "31c386fd",
   "metadata": {},
   "source": [
    "The print() function - the keyword arguments\n",
    "We've said previously that the print() function separates its outputted arguments with spaces. This behavior can be changed, too.\n",
    "\n",
    "The keyword argument that can do this is named sep (like separator).\n",
    "\n",
    "Look at the code in the editor, and run it.\n",
    "\n",
    "The sep argument delivers the following results:\n",
    "\n",
    "My-name-is-Monty-Python.\n",
    "output\n",
    "\n",
    "The print() function now uses a dash, instead of a space, to separate the outputted arguments.\n",
    "\n",
    "Note: the sep argument's value may be an empty string, too. Try it for yourself."
   ]
  },
  {
   "cell_type": "code",
   "execution_count": 4,
   "id": "c5c47cac",
   "metadata": {},
   "outputs": [
    {
     "name": "stdout",
     "output_type": "stream",
     "text": [
      "My-name-is-Monty-Python.\n"
     ]
    }
   ],
   "source": [
    "print(\"My\", \"name\", \"is\", \"Monty\", \"Python.\", sep=\"-\")"
   ]
  },
  {
   "cell_type": "markdown",
   "id": "50893ebf",
   "metadata": {},
   "source": [
    "The print() function - the keyword arguments\n",
    "Both keyword arguments may be mixed in one invocation, just like here in the editor window.\n",
    "\n",
    "The example doesn't make much sense, but it visibly presents the interactions between end and sep.\n",
    "\n",
    "Can you predict the output?\n",
    "\n",
    "Run the code and see if it matches your predictions.\n",
    "\n",
    "Now that you understand the print() function, you're ready to consider how to store and process data in Python.\n",
    "\n",
    "Without print(), you wouldn't be able to see any results"
   ]
  },
  {
   "cell_type": "code",
   "execution_count": 5,
   "id": "8846fe7a",
   "metadata": {},
   "outputs": [
    {
     "name": "stdout",
     "output_type": "stream",
     "text": [
      "My_name_is*Monty*Python.*\n"
     ]
    }
   ],
   "source": [
    "print(\"My\", \"name\", \"is\", sep=\"_\", end=\"*\")\n",
    "print(\"Monty\", \"Python.\", sep=\"*\", end=\"*\\n\")"
   ]
  },
  {
   "cell_type": "markdown",
   "id": "13c93946",
   "metadata": {},
   "source": [
    "# Key takeaways\n",
    "1. The print() function is a built-in function. It prints/outputs a specified message to the screen/consol window.\n",
    "\n",
    "2. Built-in functions, contrary to user-defined functions, are always available and don't have to be imported. Python 3.8 comes with 69 built-in functions. You can find their full list provided in alphabetical order in the Python Standard Library.\n",
    "\n",
    "3. To call a function (this process is known as function invocation or function call), you need to use the function name followed by parentheses. You can pass arguments into a function by placing them inside the parentheses. You must separate arguments with a comma, e.g., print(\"Hello,\", \"world!\"). An \"empty\" print() function outputs an empty line to the screen.\n",
    "\n",
    "4. Python strings are delimited with quotes, e.g., \"I am a string\" (double quotes), or 'I am a string, too' (single quotes).\n",
    "\n",
    "5. Computer programs are collections of instructions. An instruction is a command to perform a specific task when executed, e.g., to print a certain message to the screen.\n",
    "\n",
    "6. In Python strings the backslash (\\) is a special character which announces that the next character has a different meaning, e.g., \\n (the newline character) starts a new output line.\n",
    "\n",
    "7. Positional arguments are the ones whose meaning is dictated by their position, e.g., the second argument is outputted after the first, the third is outputted after the second, etc.\n",
    "\n",
    "8. Keyword arguments are the ones whose meaning is not dictated by their location, but by a special word (keyword) used to identify them.\n",
    "\n",
    "9. The end and sep parameters can be used for formatting the output of the print() function. The sep parameter specifies the separator between the outputted arguments (e.g., print(\"H\", \"E\", \"L\", \"L\", \"O\", sep=\"-\"), whereas the end parameter specifies what to print at the end of the print statement."
   ]
  }
 ],
 "metadata": {
  "kernelspec": {
   "display_name": "Python 3 (ipykernel)",
   "language": "python",
   "name": "python3"
  },
  "language_info": {
   "codemirror_mode": {
    "name": "ipython",
    "version": 3
   },
   "file_extension": ".py",
   "mimetype": "text/x-python",
   "name": "python",
   "nbconvert_exporter": "python",
   "pygments_lexer": "ipython3",
   "version": "3.10.2"
  }
 },
 "nbformat": 4,
 "nbformat_minor": 5
}
