{
 "cells": [
  {
   "cell_type": "markdown",
   "id": "7bfd257e",
   "metadata": {},
   "source": [
    "# Week 3\n",
    "## User Input and Conditionals"
   ]
  },
  {
   "cell_type": "markdown",
   "id": "d0817fb3",
   "metadata": {},
   "source": [
    "#### Accepting User Input\n"
   ]
  },
  {
   "cell_type": "code",
   "execution_count": null,
   "id": "73b83803",
   "metadata": {},
   "outputs": [],
   "source": [
    "# accepting and outputting user input\n",
    "print(input(\"What is your name?\"))"
   ]
  },
  {
   "cell_type": "markdown",
   "id": "01c66056",
   "metadata": {},
   "source": [
    "#### Storing User Input"
   ]
  },
  {
   "cell_type": "code",
   "execution_count": null,
   "id": "a5a1521a",
   "metadata": {
    "scrolled": true
   },
   "outputs": [],
   "source": [
    "#saving what the user inputs into a variable\n",
    "ans = input(\"What is your name? \")\n",
    "print(\"Hello {}!\".format(ans))"
   ]
  },
  {
   "cell_type": "code",
   "execution_count": null,
   "id": "5fd9caaa",
   "metadata": {},
   "outputs": [],
   "source": [
    "# how to check the data type of a variable\n",
    "num = 5\n",
    "print(type(num))\n",
    "myN = \"Hello\"\n",
    "print(type(myN))"
   ]
  },
  {
   "cell_type": "code",
   "execution_count": null,
   "id": "8815ba20",
   "metadata": {},
   "outputs": [],
   "source": [
    "#converting a variable from one data type to another\n",
    "num = 9\n",
    "num = int(num) #re-declaring num to store an integer\n",
    "print(type(num)) #checking type to make sure conversion worked"
   ]
  },
  {
   "cell_type": "code",
   "execution_count": null,
   "id": "3fcc643d",
   "metadata": {},
   "outputs": [],
   "source": [
    "# working with user input to perform calculations\n",
    "\n",
    "ans = input('Type a number to add: ')\n",
    "\n",
    "print( type(ans) )    # default type is string, must convert\n",
    "\n",
    "result = 100 + int(ans)\n",
    "\n",
    "print('100 + {} = {}'.format(ans, result))"
   ]
  },
  {
   "cell_type": "code",
   "execution_count": null,
   "id": "b13b4bd5",
   "metadata": {},
   "outputs": [],
   "source": [
    "# using the try and except blocks, use tab to indent where necessary\n",
    "\n",
    "try:\n",
    "    ans = float(input('Type a number to add: '))\n",
    "    print('100 + {} = {}'.format(ans, 100 + ans))\n",
    "except:\n",
    "    print('You did not put in a valid number!')\n",
    "\n",
    "    # without try/except print statement would not get hit if error occurs\n",
    "print('The program did not break!')"
   ]
  },
  {
   "cell_type": "markdown",
   "id": "16c3bec6",
   "metadata": {},
   "source": [
    "### Exercises pg.52"
   ]
  },
  {
   "cell_type": "code",
   "execution_count": 51,
   "id": "26c4ed8a",
   "metadata": {},
   "outputs": [
    {
     "name": "stdout",
     "output_type": "stream",
     "text": [
      "Enter first number: 2\n",
      "Enter second number: 2\n",
      "The sum of 2 and 2 is 4.0\n"
     ]
    }
   ],
   "source": [
    "# Store input numbers\n",
    "num1 = input('Enter first number: ')\n",
    "num2 = input('Enter second number: ')\n",
    "\n",
    "# Add two numbers\n",
    "sum = float(num1) + float(num2)\n",
    "\n",
    "# Display the sum\n",
    "print('The sum of {0} and {1} is {2}'.format(num1, num2, sum))"
   ]
  },
  {
   "cell_type": "code",
   "execution_count": 52,
   "id": "99052e1b",
   "metadata": {},
   "outputs": [
    {
     "name": "stdout",
     "output_type": "stream",
     "text": [
      "Enter first number: 2\n",
      "Enter second number: 2\n",
      "The sum is 4.0\n"
     ]
    }
   ],
   "source": [
    "print('The sum is %.1f' %(float(input('Enter first number: ')) + float(input('Enter second number: '))))"
   ]
  },
  {
   "cell_type": "code",
   "execution_count": 55,
   "id": "05b4980d",
   "metadata": {},
   "outputs": [
    {
     "name": "stdout",
     "output_type": "stream",
     "text": [
      "The sum of 1.5 and 6.3 is 7.8\n"
     ]
    }
   ],
   "source": [
    " #This program adds two numbers\n",
    "\n",
    "num1 = 1.5\n",
    "num2 = 6.3\n",
    "\n",
    "# Add two numbers\n",
    "sum = num1 + num2\n",
    "\n",
    "# Display the sum\n",
    "print('The sum of {0} and {1} is {2}'.format(num1, num2, sum))"
   ]
  },
  {
   "cell_type": "code",
   "execution_count": 60,
   "id": "ad996350",
   "metadata": {},
   "outputs": [
    {
     "name": "stdout",
     "output_type": "stream",
     "text": [
      "True\n",
      "<class 'str'>\n",
      "True\n",
      "<class 'bool'>\n"
     ]
    }
   ],
   "source": [
    "a = \"True\"\n",
    "print(a)\n",
    "print(type(a))\n",
    "a = bool(a)\n",
    "print(a)\n",
    "print(type(a))"
   ]
  },
  {
   "cell_type": "code",
   "execution_count": null,
   "id": "f4f889dd",
   "metadata": {},
   "outputs": [],
   "source": [
    "# Store input numbers\n",
    "make= input('Enter make of car: ')\n",
    "print(type(make))\n",
    "model = input('Enter model of car: ')\n",
    "print(type(model))\n",
    "year = int(input('Enter year of car: '))\n",
    "print(type(year))\n",
    "color = input('Enter color of car: ')\n",
    "print(type(color))\n",
    "\n",
    "print(\"{} {} {} {}\".format(year,color,make,model))\n"
   ]
  },
  {
   "cell_type": "markdown",
   "id": "a58a1308",
   "metadata": {},
   "source": [
    "# If Statements"
   ]
  },
  {
   "cell_type": "code",
   "execution_count": 2,
   "id": "690437eb",
   "metadata": {},
   "outputs": [
    {
     "name": "stdout",
     "output_type": "stream",
     "text": [
      "x is less than y\n"
     ]
    }
   ],
   "source": [
    "# using an if statement to only run code if the condition is met\n",
    "x, y = 5, 10\n",
    "if x < y:\n",
    "    print(\"x is less than y\")\n"
   ]
  },
  {
   "cell_type": "code",
   "execution_count": 7,
   "id": "9d52eb0d",
   "metadata": {},
   "outputs": [
    {
     "name": "stdout",
     "output_type": "stream",
     "text": [
      "What is 5 + 5? 10\n",
      "You got it right!\n"
     ]
    }
   ],
   "source": [
    "# check ing user input\n",
    "ans = int(input(\"What is 5 + 5? \"))\n",
    "if ans == 10:\n",
    "      print(\"You got it right!\")\n",
    "# else:\n",
    "#     print(\"Try again!\")\n"
   ]
  },
  {
   "cell_type": "code",
   "execution_count": 10,
   "id": "1f8ba8a6",
   "metadata": {},
   "outputs": [
    {
     "name": "stdout",
     "output_type": "stream",
     "text": [
      "Both satements were true\n"
     ]
    }
   ],
   "source": [
    "# using the keyword 'and' in an 'if statement'\n",
    "x, y, z = 5, 10, 5\n",
    "if x < y and x == z:\n",
    "    print(\"Both satements were true\")\n"
   ]
  },
  {
   "cell_type": "code",
   "execution_count": 12,
   "id": "39875505",
   "metadata": {},
   "outputs": [
    {
     "name": "stdout",
     "output_type": "stream",
     "text": [
      "One or both statements were true\n"
     ]
    }
   ],
   "source": [
    "#using the keyword 'or' in an 'if statement'\n",
    "x, y, z = 5, 10, 5\n",
    "if x < 10 or x != z:\n",
    "    print(\"One or both statements were true\")"
   ]
  },
  {
   "cell_type": "code",
   "execution_count": 14,
   "id": "92e85bd7",
   "metadata": {},
   "outputs": [
    {
     "name": "stdout",
     "output_type": "stream",
     "text": [
      "Flag is False\n"
     ]
    }
   ],
   "source": [
    "#using keyword 'not' within an 'if statement'\n",
    "flag = False\n",
    "if not flag:\n",
    "    print(\"Flag is False\")\n"
   ]
  },
  {
   "cell_type": "code",
   "execution_count": 16,
   "id": "a1dcf0be",
   "metadata": {},
   "outputs": [
    {
     "name": "stdout",
     "output_type": "stream",
     "text": [
      "Baseball contains the character b\n"
     ]
    }
   ],
   "source": [
    "# using keyword 'in' within an 'if statement'\n",
    "word = \"Baseball\"\n",
    "if \"b\" in word:\n",
    "    print(\"{} contains the character b\".format(word))\n"
   ]
  },
  {
   "cell_type": "code",
   "execution_count": 18,
   "id": "2b4c8ce3",
   "metadata": {},
   "outputs": [
    {
     "name": "stdout",
     "output_type": "stream",
     "text": [
      "Baseball does not contain the character x\n"
     ]
    }
   ],
   "source": [
    "# using the keyword 'not in' an 'if statement'\n",
    "word = \"Baseball\"\n",
    "if \"x\" not in word:\n",
    "    print(\"{} does not contain the character x\".format(word))\n"
   ]
  },
  {
   "cell_type": "markdown",
   "id": "bbd331f7",
   "metadata": {},
   "source": [
    "1. Ask the user for input, and check to see if what they wrote includes an \"es\".\n",
    "\n",
    "2. ask the user for input, and check to see if what they wrote has an \"ing\" at the end. Hint:slicing\n",
    "\n",
    "3. Ask the user to input two words, and write a conditional satement to check if both words are the same. make it case insensitive so that capitals do not matter\n",
    "\n",
    "4. ask for the user to input a number, and retunr that number squared if it is lower than 10. Hint: Investigate arithmetic expressions for exponents."
   ]
  },
  {
   "cell_type": "code",
   "execution_count": 23,
   "id": "1d99c0e0",
   "metadata": {},
   "outputs": [
    {
     "name": "stdout",
     "output_type": "stream",
     "text": [
      "Please input a word: love\n",
      "Your word does not include \"es\"\n"
     ]
    }
   ],
   "source": [
    "ans = input(\"Please input a word: \")\n",
    "\n",
    "if \"es\" in ans:\n",
    "    print(\"Your word includes \\\"es\\\"\") # or could ave used single quotes for doulbel qoute print\n",
    "elif \"es\" not in ans:\n",
    "    print('Your word does not include \"es\"') #used sinlge quotes not escape.\n"
   ]
  },
  {
   "cell_type": "code",
   "execution_count": 3,
   "id": "08efd6c4",
   "metadata": {},
   "outputs": [
    {
     "name": "stdout",
     "output_type": "stream",
     "text": [
      "Please put in a word:yessing\n",
      "Your word ends with \"ing\"\n"
     ]
    }
   ],
   "source": [
    "ans =input(\"Please put in a word:\")\n",
    "if \"ing\" in ans[-3:]:\n",
    "    print(\"Your word ends with \\\"ing\\\"\")\n",
    "elif \"ing\" not in ans[-3:]:\n",
    "        print('Your word does not end with \"ing\"')\n",
    "\n",
    "#something not working here.when put in ing word? huh........\n",
    "#fixed, noticed the idex string colons......inside example: [3:]:"
   ]
  },
  {
   "cell_type": "code",
   "execution_count": 5,
   "id": "d27de272",
   "metadata": {},
   "outputs": [
    {
     "name": "stdout",
     "output_type": "stream",
     "text": [
      "Please input a word: word\n",
      "Please input a second word: word\n",
      "You input the same word!\n"
     ]
    }
   ],
   "source": [
    "#checking Equality: ask user to input two words and write a conditional satement to check if both words\n",
    "#are the sasme. make it case sensitive so that capitals do not matter\n",
    "\n",
    "word1 = input(\"Please input a word: \")\n",
    "word2 = input(\"Please input a second word: \")\n",
    "\n",
    "if word1.lower() == word2.lower():\n",
    "    print(\"You input the same word!\")\n",
    "elif word1.lower() != word2.lower():\n",
    "    print(\"The words you input are different\")\n"
   ]
  },
  {
   "cell_type": "code",
   "execution_count": 10,
   "id": "40dccb0f",
   "metadata": {},
   "outputs": [
    {
     "name": "stdout",
     "output_type": "stream",
     "text": [
      "Please input a number: 5\n",
      "You're number is lower than 10, so here is the result squared: \n",
      "25.0\n"
     ]
    }
   ],
   "source": [
    "# Returning exponents: ask user to input a number and return that number \n",
    "#squared. Hint: investgate arithmetic expressions for exponents.\n",
    "\n",
    "num = float(input(\"Please input a number: \"))\n",
    "\n",
    "if num < 10:\n",
    "    print(\"You're number is lower than 10, so here is the result squared: \")\n",
    "    result = num**2\n",
    "    print(result)\n"
   ]
  },
  {
   "cell_type": "markdown",
   "id": "a1c03fc2",
   "metadata": {},
   "source": [
    "# Elif statements"
   ]
  },
  {
   "cell_type": "code",
   "execution_count": 12,
   "id": "59bf73c3",
   "metadata": {},
   "outputs": [
    {
     "name": "stdout",
     "output_type": "stream",
     "text": [
      "x is less\n"
     ]
    }
   ],
   "source": [
    "#using the elif conditional statement\n",
    "\n",
    "x, y = 5, 10\n",
    "if x > y:\n",
    "    print(\"x is greater than y\")\n",
    "elif x < y:\n",
    "    print(\"x is less\")\n"
   ]
  },
  {
   "cell_type": "markdown",
   "id": "1ec81564",
   "metadata": {},
   "source": [
    "#### Multiple Elif conditions"
   ]
  },
  {
   "cell_type": "code",
   "execution_count": 14,
   "id": "89fb401f",
   "metadata": {},
   "outputs": [
    {
     "name": "stdout",
     "output_type": "stream",
     "text": [
      "equal\n"
     ]
    }
   ],
   "source": [
    "# checking more than one elif conditional statement\n",
    "x, y = 5, 10\n",
    "if x > y:\n",
    "    print(\"x is greater\")\n",
    "elif (x + 10) < y:\n",
    "    print(\"x is less\")\n",
    "elif (x + 5) == y:\n",
    "    print(\"equal\")\n"
   ]
  },
  {
   "cell_type": "code",
   "execution_count": 16,
   "id": "8bde4894",
   "metadata": {},
   "outputs": [
    {
     "name": "stdout",
     "output_type": "stream",
     "text": [
      "x is equal to z\n"
     ]
    }
   ],
   "source": [
    "# writing multiple conditionals within each other - multiple block levels\n",
    "x, y, z = 5, 10, 5\n",
    "if x > y:\n",
    "    print(\"greater\")\n",
    "elif x <= y:\n",
    "    if x == z:\n",
    "        print(\"x is equal to z\")\n",
    "    elif x != z:\n",
    "        print(\"x is not equal to z\")\n"
   ]
  },
  {
   "cell_type": "code",
   "execution_count": 20,
   "id": "c4681190",
   "metadata": {},
   "outputs": [
    {
     "name": "stdout",
     "output_type": "stream",
     "text": [
      "Please put in an integer number: 99\n",
      "Your number is less than 100\n"
     ]
    }
   ],
   "source": [
    "# ask user to input number, type convert that number, and use an if/elif statement to print wheter it's higher or lower than 100.\n",
    "\n",
    "num = int(input(\"Please put in an integer number: \"))\n",
    "\n",
    "if num > 100:\n",
    "    print(\" Your number is greater than 100\")\n",
    "elif num < 100:\n",
    "    print(\"Your number is less than 100\")\n"
   ]
  },
  {
   "cell_type": "code",
   "execution_count": 22,
   "id": "7b0cb687",
   "metadata": {},
   "outputs": [
    {
     "name": "stdout",
     "output_type": "stream",
     "text": [
      "x is less\n"
     ]
    }
   ],
   "source": [
    "# fix code: pg. 61 exercise 2\n",
    "x, y = 5, 10\n",
    "if x > y:\n",
    "    print(\" x is greater\")\n",
    "elif x < y:\n",
    "    print(\"x is less\")\n"
   ]
  },
  {
   "cell_type": "markdown",
   "id": "76ef0c70",
   "metadata": {},
   "source": [
    "# Else statements"
   ]
  },
  {
   "cell_type": "code",
   "execution_count": 24,
   "id": "6092eb8e",
   "metadata": {},
   "outputs": [
    {
     "name": "stdout",
     "output_type": "stream",
     "text": [
      "Hello John!\n"
     ]
    }
   ],
   "source": [
    "#using an else statement\n",
    "name = \"John\"\n",
    "if name == \"Jacob\":\n",
    "    print(\"Hello Jacob!\")\n",
    "else:\n",
    "    print(\"Hello {}!\".format(name))\n"
   ]
  },
  {
   "cell_type": "code",
   "execution_count": 27,
   "id": "798e9823",
   "metadata": {},
   "outputs": [
    {
     "name": "stdout",
     "output_type": "stream",
     "text": [
      "Name starts with a L\n"
     ]
    }
   ],
   "source": [
    "# writing a full conditional satement with if, elif, else\n",
    "name = \"Law\" #here you can pass the name\n",
    "\n",
    "if name[0] == \"A\":\n",
    "    print(\"Name starts with an A\")\n",
    "elif name[0] == \"B\":\n",
    "    print(\"Name starts with a B\")\n",
    "elif name[0] == \"J\":\n",
    "    print(\"Name starts with a J\")\n",
    "else:\n",
    "    print(\"Name starts with a {}\".format(name[0]))\n"
   ]
  },
  {
   "cell_type": "code",
   "execution_count": 38,
   "id": "352d8006",
   "metadata": {},
   "outputs": [
    {
     "name": "stdout",
     "output_type": "stream",
     "text": [
      "Please put in your first name:Nikki\n",
      "Name starts with a N\n"
     ]
    }
   ],
   "source": [
    "#palying around making a function from above\n",
    "\n",
    "def name_start():\n",
    "    name = str(input(\"Please put in your first name:\"))\n",
    "    \n",
    "    print(\"Name starts with a {}\".format(name[0]))\n",
    "name_start()\n"
   ]
  },
  {
   "cell_type": "code",
   "execution_count": 54,
   "id": "37029567",
   "metadata": {},
   "outputs": [
    {
     "name": "stdout",
     "output_type": "stream",
     "text": [
      "Please input your first nameLawrence\n",
      "Lawrence, you are not us, so you shall not pass\n"
     ]
    }
   ],
   "source": [
    "#expiremental name check:\n",
    "\n",
    "def check_us():\n",
    "    name = str(input(\"Please input your first name\"))\n",
    "    x = \"Menoko\"\n",
    "    y = \"LuxGirl\"\n",
    "    \n",
    "    if name == x.lower():\n",
    "        print(\"Welcome Menoko, you can enter\")\n",
    "    elif name == y.lower():\n",
    "        print(\"Welcome LuxGirl, you can enter\")\n",
    "    else:\n",
    "        print(\"{}, you are not us, so you shall not pass\".format(name))\n",
    "check_us()"
   ]
  },
  {
   "cell_type": "markdown",
   "id": "7c19c495",
   "metadata": {},
   "source": [
    "# project: creating a calculator\n",
    "\n",
    "### Final Design\n",
    "\n",
    "1. Ask the user for the calculation the would like to perform\n",
    "\n",
    "2. ask the user for the numbenrs they would like to run the program\n",
    "\n",
    "3. set up try/except clause for mathematical operation\n",
    "\n",
    "    a. convert numbers input to floats\n",
    "    \n",
    "    b. perform operation and print results\n",
    "    \n",
    "    c. if an exception is hit, print error\n",
    "    "
   ]
  },
  {
   "cell_type": "code",
   "execution_count": 8,
   "id": "35f7fdbd",
   "metadata": {},
   "outputs": [
    {
     "name": "stdout",
     "output_type": "stream",
     "text": [
      "Would you like to add/subtract/multiply/divide? subtract\n",
      "\n",
      "You chose subtract\n"
     ]
    }
   ],
   "source": [
    "# Step 1: Ask user for calculation to be performed\n",
    "\n",
    "operation = input(\"Would you like to add/subtract/multiply/divide? \").lower()\n",
    "print()\n",
    "print(\"You chose {}\".format(operation)) #for testing purpose while coding this block"
   ]
  },
  {
   "cell_type": "code",
   "execution_count": 9,
   "id": "62660974",
   "metadata": {},
   "outputs": [
    {
     "name": "stdout",
     "output_type": "stream",
     "text": [
      "You chose subtract\n",
      "Please keep in mind that the order of your numbers matter.\n",
      "What is the first number? 12\n",
      "What is the second number? 10\n",
      "\n",
      "first Number: 12\n",
      "second Number: 10\n"
     ]
    }
   ],
   "source": [
    "# Step 2: Ask for numbers, alert order matters for subtracting and dividing\n",
    "if operation == \"subtract\" or operation == \"divide\":\n",
    "    print(\"You chose {}\".format(operation))\n",
    "    print(\"Please keep in mind that the order of your numbers matter.\")\n",
    "num1 = input(\"What is the first number? \")\n",
    "num2 = input(\"What is the second number? \")\n",
    "print()\n",
    "print(\"first Number: {}\".format(num1)) #for testing purposes\n",
    "print(\"second Number: {}\".format(num2)) #for testing purposes"
   ]
  },
  {
   "cell_type": "code",
   "execution_count": 13,
   "id": "f2280105",
   "metadata": {},
   "outputs": [
    {
     "name": "stdout",
     "output_type": "stream",
     "text": [
      "12.0 + 10.0 = 2.0\n"
     ]
    }
   ],
   "source": [
    "# Step 3: setup try/except for mathmematical operation\n",
    "\n",
    "# try:\n",
    "    # step3a: immediately try to convert numbers input to floats\n",
    "num1, num2 = float(num1), float(num2)\n",
    "\n",
    "    # step 3b: perform operation and print result\n",
    "if operation == \"add\":\n",
    "    result = num1 + num2\n",
    "    print(\"{} + {} = {}\".format(num1, num2, result))\n",
    "elif operation == \"subtract\":\n",
    "    result = num1 - num2\n",
    "    print(\"{} + {} = {}\".format(num1, num2, result))\n",
    "elif operation == \"multiply\":\n",
    "    result = num1 * num2\n",
    "    print(\"{} + {} = {}\".format(num1, num2, result))\n",
    "elif operation == \"divide\":\n",
    "    result = num1 / num2\n",
    "    print(\"{} + {} = {}\".format(num1, num2, result))\n",
    "else:\n",
    "    # else will be hit fi they did not chose an option correctly\n",
    "    print(\"Sorry, but '{}' is not an option\".format(operation))"
   ]
  }
 ],
 "metadata": {
  "kernelspec": {
   "display_name": "Python 3 (ipykernel)",
   "language": "python",
   "name": "python3"
  },
  "language_info": {
   "codemirror_mode": {
    "name": "ipython",
    "version": 3
   },
   "file_extension": ".py",
   "mimetype": "text/x-python",
   "name": "python",
   "nbconvert_exporter": "python",
   "pygments_lexer": "ipython3",
   "version": "3.10.2"
  }
 },
 "nbformat": 4,
 "nbformat_minor": 5
}
