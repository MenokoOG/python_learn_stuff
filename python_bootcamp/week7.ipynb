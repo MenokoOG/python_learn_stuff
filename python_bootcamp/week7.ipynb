{
 "cells": [
  {
   "cell_type": "markdown",
   "id": "57150338",
   "metadata": {},
   "source": [
    "# week 7 OOP"
   ]
  },
  {
   "cell_type": "markdown",
   "id": "905768ed",
   "metadata": {},
   "source": [
    "# OOP Stages\n",
    "There are two stages when using classes. The first stage is the class definition. Like\n",
    "function definitions, this stage is where you write the blueprint to be used when called.\n",
    "The second stage is called instantiation. It is the process of creating an object from the\n",
    "class definition. After an object is instantiated, it is known as an instance. You may have\n",
    "multiple instances from a single class definition. Let’s begin to look at how to define a\n",
    "class and make an instance!"
   ]
  },
  {
   "cell_type": "code",
   "execution_count": 4,
   "id": "a663814f",
   "metadata": {},
   "outputs": [],
   "source": [
    "# creating our first class\n",
    "class Car():\n",
    "    pass  #simply using aplaceholder until we add more code."
   ]
  },
  {
   "cell_type": "code",
   "execution_count": 5,
   "id": "01b9b5c2",
   "metadata": {},
   "outputs": [
    {
     "name": "stdout",
     "output_type": "stream",
     "text": [
      "<__main__.Car object at 0x0000023084A8A920>\n"
     ]
    }
   ],
   "source": [
    "#instatiating an object from a class\n",
    "class Car(): #parens are optional here\n",
    "    pass\n",
    "ford = Car()  #creates an instance of the Car class and stores into variable ford\n",
    "print(ford)\n"
   ]
  },
  {
   "cell_type": "code",
   "execution_count": 6,
   "id": "df7296cb",
   "metadata": {},
   "outputs": [
    {
     "name": "stdout",
     "output_type": "stream",
     "text": [
      "150463078361\n",
      "150463078394\n"
     ]
    }
   ],
   "source": [
    "#instantaiating multiple objects from the same class\n",
    "class Car():\n",
    "    pass\n",
    "ford = Car()\n",
    "subaru = Car() #creates another object from the car class\n",
    "print(hash(ford))\n",
    "print(hash(subaru)) #hash outputs a numerical representation of the\n",
    "#location in memory for the variable"
   ]
  },
  {
   "cell_type": "code",
   "execution_count": 10,
   "id": "1ddb7bb9",
   "metadata": {},
   "outputs": [
    {
     "name": "stdout",
     "output_type": "stream",
     "text": [
      "<__main__.Animals object at 0x000002308472B7C0> <__main__.Animals object at 0x0000023085273790>\n"
     ]
    }
   ],
   "source": [
    "#Craete a class called Animals and create two instances from it. Use two variables with names of\n",
    "# lion and tiger\n",
    "class Animals():\n",
    "    pass\n",
    "lion =  Animals()\n",
    "tiger = Animals()\n",
    "print(lion, tiger)"
   ]
  },
  {
   "cell_type": "code",
   "execution_count": 11,
   "id": "6065364c",
   "metadata": {},
   "outputs": [],
   "source": [
    "#Problem Solving: What is wrong with the following code? Nothing is wrong, the parens is optionional after class Bus\n",
    "class Bus:\n",
    "    pass\n",
    "school_bus = Bus()"
   ]
  },
  {
   "cell_type": "code",
   "execution_count": 14,
   "id": "27519968",
   "metadata": {},
   "outputs": [
    {
     "name": "stdout",
     "output_type": "stream",
     "text": [
      "red\n",
      "sedan\n"
     ]
    }
   ],
   "source": [
    "#how to define a class attirbute\n",
    "class Car():\n",
    "    sound = \"beep\" #all car objects will have this attribute sound and it's value\n",
    "\n",
    "    color = \"red\" #all car objects will have this attribute color and it's value\n",
    "\n",
    "    type = \"sedan\"\n",
    "ford = Car()\n",
    "print(ford.color)    #known as dot syntax or dor notation\n",
    "print(ford.type)"
   ]
  },
  {
   "cell_type": "code",
   "execution_count": 29,
   "id": "da4a20a5",
   "metadata": {},
   "outputs": [
    {
     "name": "stdout",
     "output_type": "stream",
     "text": [
      "beep\n",
      "honk\n",
      "****************************\n",
      "This is Oko Forge Object ****Menoko OG & ZolTanFool\n"
     ]
    }
   ],
   "source": [
    "# changing the value of an attribute\n",
    "class Car():\n",
    "    sound = \"beep\"\n",
    "    color = \"red\"\n",
    "ford = Car()\n",
    "print(ford.sound) # will output \"beep\"\n",
    "ford.sound = \"honk\" # from now on the value of fords sound is honk, this does not affect other instances\n",
    "\n",
    "print(ford.sound) #will output \"honk\"\n",
    "print(\"****************************\")\n",
    "\n",
    "class Oko():\n",
    "    message = \"This is Oko Forge Object\"\n",
    "\n",
    "    creator = \"****Menoko OG & ZolTanFool\"\n",
    "\n",
    "alita = Oko()\n",
    "\n",
    "print(alita.message, alita.creator)\n"
   ]
  },
  {
   "cell_type": "code",
   "execution_count": 28,
   "id": "26f21122",
   "metadata": {},
   "outputs": [
    {
     "name": "stdout",
     "output_type": "stream",
     "text": [
      "blue\n",
      "***********************************\n",
      "Object Alita\n",
      "Menoko OG & ZolTanFool\n",
      "This Oko Object\n"
     ]
    }
   ],
   "source": [
    "# using the init method to give instances personalized attributes upon creation\n",
    "\n",
    "class Car():\n",
    "    def __init__(self, color):\n",
    "        self.color = color    # sets the attribute color to the value passed in\n",
    "        \n",
    "ford = Car(\"blue\")   # instantiating a Car class with the color blue\n",
    "\n",
    "print(ford.color)\n",
    "\n",
    "print(\"***********************************\")\n",
    "\n",
    "class Oko():\n",
    "    def __init__(self, okomessage, obcreator, newobname):\n",
    "        self.okomessage = okomessage\n",
    "        self.obcreator = obcreator\n",
    "        self.newobname = newobname\n",
    "alita = Oko(\"This Oko Object\", \"Menoko OG & ZolTanFool\", \"Object Alita\")\n",
    "\n",
    "print(alita.newobname)\n",
    "print(alita.obcreator)\n",
    "print(alita.okomessage)"
   ]
  },
  {
   "cell_type": "code",
   "execution_count": 32,
   "id": "fdc54bca",
   "metadata": {},
   "outputs": [
    {
     "name": "stdout",
     "output_type": "stream",
     "text": [
      "blue 2016\n",
      "red 2018\n"
     ]
    }
   ],
   "source": [
    "# defining different values for multiple instances\n",
    "class Car():\n",
    "    def __init__(self, color, year):\n",
    "        self.color = color\n",
    "\n",
    "        self.year = year\n",
    "\n",
    "ford = Car(\"blue\", 2016)\n",
    "\n",
    "subaru = Car(\"red\", 2018)\n",
    "\n",
    "print(ford.color, ford.year)\n",
    "print(subaru.color, subaru.year)"
   ]
  },
  {
   "cell_type": "code",
   "execution_count": 35,
   "id": "525022c5",
   "metadata": {},
   "outputs": [
    {
     "name": "stdout",
     "output_type": "stream",
     "text": [
      "beep\n",
      "beep blue\n"
     ]
    }
   ],
   "source": [
    "# using and accessing global class attributes\n",
    "class Car():\n",
    "    sound = \"beep\" #global attribute, accessible through the class itself\n",
    "    \n",
    "    def __init__(self, color):\n",
    "        self.color = \"blue\" #instance specific attribute, not accessible through class itself\n",
    "\n",
    "print(Car.sound)\n",
    "# print(Car.color) #will not work, as color is only available to instances of the Car Class, not the class itself\n",
    "\n",
    "ford = Car(\"blue\")\n",
    "print(ford.sound, ford.color) # this wokrs becasue ford is instance of class"
   ]
  },
  {
   "cell_type": "code",
   "execution_count": 37,
   "id": "f24c8a29",
   "metadata": {},
   "outputs": [
    {
     "name": "stdout",
     "output_type": "stream",
     "text": [
      "Object Alita\n",
      "Tinkered by Menoko OG and ZolTanFool\n",
      "This is Oko Object\n"
     ]
    }
   ],
   "source": [
    "class Oko():\n",
    "    okomessage = \"This is Oko Object\"\n",
    "    obcreator = \"Tinkered by Menoko OG and ZolTanFool\"\n",
    "\n",
    "    def __init__(self, newobname):\n",
    "        self.newobname = newobname\n",
    "\n",
    "alita = Oko( \"Object Alita\")\n",
    "\n",
    "print(alita.newobname)\n",
    "print(alita.obcreator)\n",
    "print(alita.okomessage)"
   ]
  },
  {
   "cell_type": "markdown",
   "id": "8a8409fc",
   "metadata": {},
   "source": [
    "<p>\n",
    "1. <b>Dogs:</b> Create a Dog class that has one global attribute and two instance level attributes. The global attribute should be \"species\" with a value of \"Canine\". The two instance attributes should be \"name\" and \"breed\". Then instantiate two dog objects, a Husky named Sammi, and a Chocolate Lab named Casey.\n",
    "</p>\n"
   ]
  },
  {
   "cell_type": "code",
   "execution_count": null,
   "id": "70d8dba2",
   "metadata": {},
   "outputs": [],
   "source": [
    "\n",
    "class Dog():\n",
    "    species = \"Canine\"\n",
    "    \n",
    "    def __init__(self, name, breed):\n",
    "        self.name = name\n",
    "        self.breed = breed\n",
    "        \n",
    "dog1 = Dog('Sammi', 'Husky')\n",
    "dog2 = Dog('Casey', 'Chocolate Lab')\n",
    "\n",
    "print(dog1.species)"
   ]
  },
  {
   "cell_type": "markdown",
   "id": "19a91230",
   "metadata": {},
   "source": [
    "<p>\n",
    "2. <b>User Input:</b> Create a Person class that has a single instance level attribute of \"name\". Ask the user to input their name and create an instance of the Person class with the name they typed in. Then print out their name.\n",
    "</p>"
   ]
  },
  {
   "cell_type": "code",
   "execution_count": 48,
   "id": "b9cd3d61",
   "metadata": {},
   "outputs": [
    {
     "name": "stdout",
     "output_type": "stream",
     "text": [
      "lawrence\n"
     ]
    }
   ],
   "source": [
    "class Person():\n",
    "    def __init__(self, name):\n",
    "        self.name = name\n",
    "\n",
    "name = input('What is your name? ')\n",
    "\n",
    "p = Person(name)\n",
    "\n",
    "print(p.name)\n",
    "\n"
   ]
  },
  {
   "cell_type": "code",
   "execution_count": 56,
   "id": "5d65387f",
   "metadata": {},
   "outputs": [
    {
     "name": "stdout",
     "output_type": "stream",
     "text": [
      "bark\n"
     ]
    }
   ],
   "source": [
    "# defining and calling our first class method\n",
    "\n",
    "class Dog():\n",
    "    def makeSound(self):\n",
    "        print(\"bark\")\n",
    "\n",
    "sam = Dog()\n",
    "sam.makeSound()"
   ]
  },
  {
   "cell_type": "code",
   "execution_count": 57,
   "id": "326a2ed7",
   "metadata": {},
   "outputs": [
    {
     "name": "stdout",
     "output_type": "stream",
     "text": [
      "bark\n"
     ]
    }
   ],
   "source": [
    "# using the self keyword to access attributes within class methods\n",
    "class Dog():\n",
    "    sound = \"bark\"\n",
    "    def makeSound(self):\n",
    "        print(self.sound)\n",
    "\n",
    "sam = Dog()\n",
    "sam.makeSound()"
   ]
  },
  {
   "cell_type": "code",
   "execution_count": 64,
   "id": "d93fd2e6",
   "metadata": {},
   "outputs": [
    {
     "name": "stdout",
     "output_type": "stream",
     "text": [
      "Alita\n",
      "\n",
      "\n"
     ]
    }
   ],
   "source": [
    "#messing with enteriing object name\n",
    "class Oko():\n",
    "    okomessage = \"This is Oko Object\"\n",
    "    obcreator = \"Tinkered by Menoko OG and ZolTanFool\"\n",
    "\n",
    "    def __init__(self, newobname):\n",
    "        self.newobname = newobname\n",
    "newobname = input(\"Enter name of new Oko Object.\")\n",
    "\n",
    "newobname1 = Oko(newobname)\n",
    "\n",
    "\n",
    "print(newobname)\n"
   ]
  },
  {
   "cell_type": "code",
   "execution_count": 1,
   "id": "af5f4239",
   "metadata": {},
   "outputs": [
    {
     "name": "stdout",
     "output_type": "stream",
     "text": [
      "I am a dog.\n",
      "bark\n"
     ]
    }
   ],
   "source": [
    "# refer to master lesson for the comments\n",
    "class Dog():\n",
    "    sound = \"bark\"\n",
    "    def makeSound(self):\n",
    "        print(self.sound)\n",
    "    def printInfo():\n",
    "        print(\"I am a dog.\")\n",
    "Dog.printInfo()\n",
    "\n",
    "sam = Dog()\n",
    "sam.makeSound()"
   ]
  },
  {
   "cell_type": "code",
   "execution_count": 3,
   "id": "8719e63f",
   "metadata": {},
   "outputs": [
    {
     "name": "stdout",
     "output_type": "stream",
     "text": [
      "6\n"
     ]
    }
   ],
   "source": [
    "# writing methods that accept parameters\n",
    "class Dog():\n",
    "    def showAge(self, age): # does not need self, age is referencing the parameter not an attribute\n",
    "        print(age) \n",
    "sam = Dog()\n",
    "sam.showAge(6)  # passing the integer 6 as an argument to the showAge method"
   ]
  },
  {
   "cell_type": "code",
   "execution_count": 8,
   "id": "b186fda6",
   "metadata": {},
   "outputs": [
    {
     "name": "stdout",
     "output_type": "stream",
     "text": [
      "Sammi\n",
      "****************************\n",
      "Object Alita\n",
      "Tinkered by Menoko OG and ZolTanFool\n",
      "This is Oko Object\n"
     ]
    }
   ],
   "source": [
    "# using methods to set or return attribute values, proper programming practice\n",
    "\n",
    "class Dog():\n",
    "    name = ''   # would normally use init method to declare, this is for testing purposes\n",
    "    \n",
    "    def setName(self, new_name):\n",
    "        self.name = new_name   # declares the new value for the name attribute\n",
    "        \n",
    "    def getName(self):\n",
    "        return self.name   # returns the value of the name attribute\n",
    "    \n",
    "sam = Dog()\n",
    "\n",
    "sam.setName('Sammi')\n",
    "\n",
    "print(sam.getName())   # prints the returned value of self.name\n",
    "print(\"****************************\")\n",
    "class Oko():\n",
    "    okomessage = \"This is Oko Object\"\n",
    "    obcreator = \"Tinkered by Menoko OG and ZolTanFool\"\n",
    "\n",
    "    def __init__(self, newobname):\n",
    "        self.newobname = newobname\n",
    "\n",
    "alita = Oko( \"Object Alita\")\n",
    "\n",
    "print(alita.newobname)\n",
    "print(alita.obcreator)\n",
    "print(alita.okomessage)"
   ]
  },
  {
   "cell_type": "code",
   "execution_count": 32,
   "id": "ee5dcec8",
   "metadata": {},
   "outputs": [
    {
     "name": "stdout",
     "output_type": "stream",
     "text": [
      "6\n",
      "***************************\n"
     ]
    },
    {
     "data": {
      "text/plain": [
       "122"
      ]
     },
     "execution_count": 32,
     "metadata": {},
     "output_type": "execute_result"
    }
   ],
   "source": [
    "# incrementing/decrementing attribute values with methods, best programming practice\n",
    "\n",
    "class Dog():\n",
    "    age = 5\n",
    "    \n",
    "    def happyBirthday(self):\n",
    "        self.age += 1\n",
    "        \n",
    "sam = Dog()\n",
    "\n",
    "sam.happyBirthday()   # calls method to increment value by one\n",
    "\n",
    "print(sam.age)   # better practice use getters, this is for testing purposes\n",
    "print(\"***************************\")\n",
    "class Cat():\n",
    "    age = int(input(\"input a whole number\"))\n",
    "\n",
    "\n",
    "    def setAge(self):\n",
    "        self.age += 1\n",
    "        \n",
    "    \n",
    "    def getAge(self):\n",
    "        return self.age   # returns the value of the name attribute\n",
    "sammi = Cat()\n",
    "sammi.setAge()\n",
    "sammi.getAge()\n",
    "        "
   ]
  },
  {
   "cell_type": "code",
   "execution_count": 36,
   "id": "6c2e1c4a",
   "metadata": {},
   "outputs": [
    {
     "name": "stdout",
     "output_type": "stream",
     "text": [
      "Puppy\n"
     ]
    }
   ],
   "source": [
    "class Dog():\n",
    "    age = int(input(\"Dog age\"))\n",
    "    def getAge(self):\n",
    "        return self.age\n",
    "    def printInfor(self):\n",
    "        if self.getAge() < 10:\n",
    "            print(\"Puppy\")\n",
    "        else:\n",
    "            print(\"not a puppy\")\n",
    "sam = Dog()\n",
    "sam.printInfor()"
   ]
  },
  {
   "cell_type": "code",
   "execution_count": 45,
   "id": "d7e17f37",
   "metadata": {},
   "outputs": [
    {
     "name": "stdout",
     "output_type": "stream",
     "text": [
      "This is a dog Class\n"
     ]
    }
   ],
   "source": [
    "# using magic method\n",
    "class Dog():\n",
    "    def __str__(self):\n",
    "        return \"This is a dog Class\"\n",
    "sam = Dog()\n",
    "print(sam)\n"
   ]
  },
  {
   "cell_type": "code",
   "execution_count": 51,
   "id": "fdc4574a",
   "metadata": {},
   "outputs": [
    {
     "name": "stdout",
     "output_type": "stream",
     "text": [
      "Feline\n",
      "rodent\n"
     ]
    }
   ],
   "source": [
    "class Animal():\n",
    "    def __init__(self):\n",
    "        species = ''\n",
    "        \n",
    "    def setSpecies(self, species):\n",
    "        self.species = species\n",
    "        \n",
    "    def getSpecies(self):\n",
    "        return self.species\n",
    "    \n",
    "lion = Animal()\n",
    "\n",
    "lion.setSpecies('Feline')\n",
    "\n",
    "lion.getSpecies()\n",
    "print(lion.getSpecies())\n",
    "\n",
    "rat = Animal()\n",
    "rat.setSpecies(\"rodent\")\n",
    "print(rat.getSpecies())\n"
   ]
  },
  {
   "cell_type": "code",
   "execution_count": 41,
   "id": "b6e4f8d9",
   "metadata": {},
   "outputs": [
    {
     "name": "stdout",
     "output_type": "stream",
     "text": [
      "You are 50 years old.\n"
     ]
    }
   ],
   "source": [
    "class Person():\n",
    "    def __init__(self, name):\n",
    "        self.name = name\n",
    "        self.age = 0\n",
    "        \n",
    "    def setAge(self, age):\n",
    "        self.age = age\n",
    "        \n",
    "    def getAge(self):\n",
    "        return self.age\n",
    "    \n",
    "p = Person('Kathy')\n",
    "\n",
    "num = input('How old are you? ')\n",
    "\n",
    "p.setAge(num)\n",
    "\n",
    "print('You are {} years old.'.format(p.getAge()))"
   ]
  },
  {
   "cell_type": "code",
   "execution_count": 3,
   "id": "176f8b9f",
   "metadata": {},
   "outputs": [
    {
     "name": "stdout",
     "output_type": "stream",
     "text": [
      "roar\n",
      "roar\n"
     ]
    }
   ],
   "source": [
    "# inheriting a Class and accessing the inherited method\n",
    "class Animal():\n",
    "    def makeSound(self):\n",
    "        print(\"roar\")\n",
    "class Dog(Animal):    #inheriting Animal Class\n",
    "    species = \"Canine\"\n",
    "sam = Dog()\n",
    "sam.makeSound()\n",
    "lion = Animal()\n",
    "lion.makeSound()\n"
   ]
  },
  {
   "cell_type": "code",
   "execution_count": 7,
   "id": "7abd21eb",
   "metadata": {},
   "outputs": [
    {
     "name": "stdout",
     "output_type": "stream",
     "text": [
      "Canine\n",
      "<class '__main__.Animal'>\n"
     ]
    }
   ],
   "source": [
    "# using the super() method to declare inherited attributes\n",
    "class Animal():\n",
    "    def __init__(self, species):\n",
    "        self.species = species\n",
    "class Dog(Animal):\n",
    "    def __init__(self, species, name):\n",
    "        self.name = name\n",
    "        super().__init__(species)  #using super to declare the species attribute defined in Animal\n",
    "\n",
    "sam = Dog(\"Canine\", \"Sammi\")\n",
    "print(sam.species)\n",
    "print(Animal)"
   ]
  },
  {
   "cell_type": "code",
   "execution_count": 10,
   "id": "8b6af268",
   "metadata": {},
   "outputs": [
    {
     "name": "stdout",
     "output_type": "stream",
     "text": [
      "bark\n",
      "roar\n"
     ]
    }
   ],
   "source": [
    "#overriding methods defined in the superclass\n",
    "class Animal():\n",
    "    def makeSound(self):\n",
    "        print(\"roar\")\n",
    "class Dog():\n",
    "    def makeSound(self):\n",
    "        print(\"bark\")\n",
    "sam, lion = Dog(), Animal()\n",
    "\n",
    "sam.makeSound()\n",
    "lion.makeSound() #no overiding occurs as Animal does not inherit from anything"
   ]
  },
  {
   "cell_type": "code",
   "execution_count": 13,
   "id": "436c6401",
   "metadata": {},
   "outputs": [
    {
     "name": "stdout",
     "output_type": "stream",
     "text": [
      "9.8 Ford\n",
      "F-150 2018\n"
     ]
    }
   ],
   "source": [
    "# how to inherit multiple classes\n",
    "class Physics():\n",
    "    gravity = 9.8\n",
    "class Automobile():\n",
    "    def __init__(self, make, model, year):\n",
    "        self.make, self.model, self.year = make, model, year\n",
    "class Ford(Physics, Automobile):\n",
    "    def __init__(self, model, year):\n",
    "        Automobile.__init__(self, \"Ford\", model, year)\n",
    "\n",
    "truck = Ford(\"F-150\", 2018)\n",
    "print(truck.gravity, truck.make)\n",
    "print(truck.model, truck.year)"
   ]
  },
  {
   "cell_type": "markdown",
   "id": "e6a1cde8",
   "metadata": {},
   "source": [
    "<p>\n",
    "1. <b>Good Guys/Bad Guys:</b> Create three classes, a superclass called \"Characters\" that will be defined with the following attributes and methods: <br><br>\n",
    "a. Attributes: name, team, height, weight <br>\n",
    "b. Methods: sayHello <br><br>\n",
    "\n",
    "The sayHello method should output the statement \"Hello, my name is Max and I'm on the good guys.\". The team attribute should be declared to a string of either \"good\" or \"bad\". The other two classes, which will be subclasses, will be all the attributes that the superclass requires. The subclasses do not need any other methods or attributes. Instantiate one player on each team and call the sayHello method for each. The output should result in the following:\n",
    "</p>\n",
    "\n",
    "<p>\n",
    ">>> \"Hello, my name is Max and I'm on the good guys\" <br>\n",
    ">>> \"Hello, my name is Tony and I'm on the bad guys\" \n",
    "</p>"
   ]
  },
  {
   "cell_type": "code",
   "execution_count": 18,
   "id": "854fe47d",
   "metadata": {},
   "outputs": [
    {
     "name": "stdout",
     "output_type": "stream",
     "text": [
      "Hello, my name is Max and I'm on the good guys.\n",
      "Hello, my name is tony and I'm on the bad guys.\n"
     ]
    }
   ],
   "source": [
    "class Characters():\n",
    "    def __init__(self, name, team, height, weight):\n",
    "        self.name = name\n",
    "        self.team = team\n",
    "        self.height = height\n",
    "        self.weight = weight\n",
    "\n",
    "    def sayHello(self):\n",
    "        print(f\"Hello, my name is {self.name} and I'm on the {self.team} guys.\")\n",
    "\n",
    "class Good(Characters):\n",
    "    def __init__(self, name, height, weight):\n",
    "        super().__init__(name, \"good\", height, weight)\n",
    "\n",
    "class Bad(Characters):\n",
    "    def __init__(self, name, height, weight):\n",
    "        super().__init__(name, \"bad\", height, weight)\n",
    "\n",
    "char1 = Good(\"Max\", \"5\\11\", 183)\n",
    "char2 = Bad(\"tony\", \"6\\3\", 201)\n",
    "\n",
    "char1.sayHello()\n",
    "char2.sayHello()\n",
    "\n",
    "\n",
    "\n"
   ]
  },
  {
   "cell_type": "markdown",
   "id": "f57e841f",
   "metadata": {},
   "source": [
    "# BLACK Jack Game: 12/8/22 by: Menoko OG and ZoltanFool\n",
    "\n"
   ]
  },
  {
   "cell_type": "code",
   "execution_count": 8,
   "id": "c18f20e0",
   "metadata": {},
   "outputs": [
    {
     "name": "stdout",
     "output_type": "stream",
     "text": [
      "\n",
      "lj\n",
      "===========\n",
      "5 of Hearts\n",
      "9 of Spades\n",
      "Total = 14\n",
      "\n",
      "Dealer\n",
      "===========\n",
      "8 of Clubs\n",
      "6 of Clubs\n",
      "4 of Spades\n",
      "Total = 18\n",
      "Dealer has higher cards, you lose!\n",
      "You ended with $450.\n"
     ]
    }
   ],
   "source": [
    "# import necessary functions\n",
    "from random import randint\n",
    "from IPython.display import clear_output\n",
    "\n",
    "# create the blackjack class, which will hold all game methods and attributes\n",
    "class Blackjack():\n",
    "    def __init__(self):\n",
    "        self.deck = []    # set to an empty list\n",
    "        self.suits = (\"Spades\", \"Hearts\", \"Diamonds\", \"Clubs\")\n",
    "        self.values = (2, 3, 4, 5, 6, 7, 8, 9, 10, 'J', 'Q', 'K', 'A')\n",
    "        \n",
    "    # create a method that creates a deck of 52 cards, each card should be a tuple with a value and suit\n",
    "    def makeDeck(self):\n",
    "        for suit in self.suits:\n",
    "            for value in self.values:\n",
    "                self.deck.append((value, suit))   # ex: (7, \"Hearts\")\n",
    "        \n",
    "    # method to pop a card from deck using a random index value\n",
    "    def pullCard(self):\n",
    "        return self.deck.pop(randint(0, len(self.deck) - 1))\n",
    "    \n",
    "# create a class for the dealer and player objects\n",
    "class Player():\n",
    "    def __init__(self, name):\n",
    "        self.name = name\n",
    "        self.hand = []\n",
    "        self.currency = 500\n",
    "        \n",
    "    def getCurrency(self):\n",
    "        return self.currency\n",
    "        \n",
    "    def setCurrency(self, amount, won):\n",
    "        '''\n",
    "            Take in amount to be added or subtracted, the won parameter will \n",
    "            handle whether or not the player won and should be added or subtracted.\n",
    "        '''\n",
    "        if won:\n",
    "            self.currency += amount\n",
    "        elif not won:\n",
    "            self.currency -= amount\n",
    "            \n",
    "    # take in a tuple and append it to the hand\n",
    "    def addCard(self, card):\n",
    "        self.hand.append(card)\n",
    "        \n",
    "    # if not dealer's turn, then only show one of his cards, otherwise show all cards\n",
    "    def showHand(self, dealer_start=True):\n",
    "        print(\"\\n{}\".format(self.name))\n",
    "        print(\"===========\")\n",
    "        \n",
    "        for i in range(len(self.hand)):\n",
    "            if self.name == 'Dealer' and i == 0 and dealer_start:\n",
    "                print(\"- of -\")  # hide first card\n",
    "            else:\n",
    "                card = self.hand[i]\n",
    "                print(\"{} of {}\".format(card[0], card[1]))\n",
    "        print(\"Total = {}\".format(self.calcHand(dealer_start)))\n",
    "                \n",
    "    # if not dealer's turn then only give back total of second card\n",
    "    def calcHand(self, dealer_start=True):\n",
    "        total = 0\n",
    "        aces = 0   # calculate aces afterwards\n",
    "        card_values = {1:1, 2:2, 3:3, 4:4, 5:5, 6:6, 7:7, 8:8, 9:9, 10:10, 'J':10, 'Q':10, 'K':10, 'A':11}\n",
    "        \n",
    "        if self.name == 'Dealer' and dealer_start:\n",
    "            card = self.hand[1]\n",
    "            return card_values[card[0]]\n",
    "        \n",
    "        for card in self.hand:\n",
    "            if card[0] == 'A':\n",
    "                aces += 1\n",
    "            else:\n",
    "                total += card_values[card[0]]\n",
    "                \n",
    "        for i in range(aces):\n",
    "            if total + 11 > 21:\n",
    "                total += 1\n",
    "            else:\n",
    "                total += 11\n",
    "                \n",
    "        return total\n",
    "                \n",
    "game = Blackjack()\n",
    "game.makeDeck()\n",
    "\n",
    "name = input(\"What is your name?\")\n",
    "player = Player(name)\n",
    "dealer = Player(\"Dealer\")\n",
    "\n",
    "# ask player how much they want to wager\n",
    "wager = 0\n",
    "print('You have ${}.'.format(player.getCurrency()))\n",
    "\n",
    "while wager == 0 or player.getCurrency() - wager < 0:\n",
    "    # handle getting and converting wager\n",
    "    try:\n",
    "        wager = int(input(\"How much would you like to wager? \"))\n",
    "        \n",
    "        # if wager is too much print message\n",
    "        if player.getCurrency() - wager < 0:\n",
    "            print(\"Sorry you don't have that much money. Try again!\")\n",
    "    except:\n",
    "        print('Something went wrong, please try again!')\n",
    "\n",
    "# add two cards to the dealer and player hand\n",
    "for i in range(2):\n",
    "    player.addCard(game.pullCard())\n",
    "    dealer.addCard(game.pullCard())\n",
    "    \n",
    "# show both hands using method\n",
    "player.showHand()\n",
    "dealer.showHand()\n",
    "    \n",
    "player_bust = False\n",
    "\n",
    "while input('Would you like to stay or hit?').lower() != 'stay':\n",
    "    clear_output()\n",
    "    \n",
    "    # pull card and put into player's hand\n",
    "    player.addCard(game.pullCard())\n",
    "    \n",
    "    # show both hands using method\n",
    "    player.showHand()\n",
    "    dealer.showHand()\n",
    "    \n",
    "    # check if over 21\n",
    "    if player.calcHand() > 21:\n",
    "        player_bust = True\n",
    "        break\n",
    "        \n",
    "# handling the dealer's turn, only run if player didn't bust\n",
    "dealer_bust = False\n",
    "\n",
    "if not player_bust:\n",
    "    while dealer.calcHand(False) < 17:\n",
    "        # pull card and put into player's hand\n",
    "        dealer.addCard(game.pullCard())\n",
    "\n",
    "        # check if over 21\n",
    "        if dealer.calcHand(False) > 21:\n",
    "            dealer_bust = True\n",
    "            break\n",
    "\n",
    "clear_output()\n",
    "\n",
    "# show both hands using method\n",
    "player.showHand()\n",
    "dealer.showHand(False)\n",
    "        \n",
    "# calculate a winner\n",
    "if player_bust:\n",
    "    print('You busted, better luck next time!')\n",
    "    player.setCurrency(wager, False)\n",
    "elif dealer_bust:\n",
    "    print('The dealer busted, you win!')\n",
    "    player.setCurrency(wager, True)\n",
    "elif dealer.calcHand(False) > player.calcHand():\n",
    "    print('Dealer has higher cards, you lose!')\n",
    "    player.setCurrency(wager, False)\n",
    "elif dealer.calcHand(False) < player.calcHand():\n",
    "    print('You beat the dealer! Congrats!')\n",
    "    player.setCurrency(wager, True)\n",
    "else:\n",
    "    print('You pushed, no one wins!')\n",
    "    \n",
    "print('You ended with ${}.'.format(player.getCurrency()))"
   ]
  }
 ],
 "metadata": {
  "kernelspec": {
   "display_name": "Python 3.10.2 64-bit",
   "language": "python",
   "name": "python3"
  },
  "language_info": {
   "codemirror_mode": {
    "name": "ipython",
    "version": 3
   },
   "file_extension": ".py",
   "mimetype": "text/x-python",
   "name": "python",
   "nbconvert_exporter": "python",
   "pygments_lexer": "ipython3",
   "version": "3.10.2"
  },
  "vscode": {
   "interpreter": {
    "hash": "8fe45869e903cf34cdda25c85d481e31ae6d1773b2f524ae514fa4761cfb7399"
   }
  }
 },
 "nbformat": 4,
 "nbformat_minor": 5
}
