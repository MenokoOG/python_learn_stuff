{
 "cells": [
  {
   "cell_type": "markdown",
   "id": "1da4d0dd",
   "metadata": {},
   "source": [
    "# Week 4"
   ]
  },
  {
   "cell_type": "code",
   "execution_count": 3,
   "id": "6da75308",
   "metadata": {},
   "outputs": [
    {
     "name": "stdout",
     "output_type": "stream",
     "text": [
      "[5, 10, 15.2, 20]\n"
     ]
    }
   ],
   "source": [
    "# declaring a list of numbers\n",
    "nums = [5, 10, 15.2, 20]\n",
    "print(nums)"
   ]
  },
  {
   "cell_type": "code",
   "execution_count": 5,
   "id": "cbf2185c",
   "metadata": {},
   "outputs": [
    {
     "name": "stdout",
     "output_type": "stream",
     "text": [
      "10\n",
      "15.2\n"
     ]
    }
   ],
   "source": [
    "# accessing elements within a list\n",
    "print(nums[1])\n",
    "num = nums[2]\n",
    "print(num)"
   ]
  },
  {
   "cell_type": "code",
   "execution_count": 8,
   "id": "384eb620",
   "metadata": {},
   "outputs": [
    {
     "name": "stdout",
     "output_type": "stream",
     "text": [
      "[4.3, 'word', True]\n",
      "<class 'float'>\n",
      "<class 'str'>\n",
      "<class 'bool'>\n"
     ]
    }
   ],
   "source": [
    "#declaring a list of mixed data types\n",
    "num = 4.3\n",
    "data = [num, \"word\", True]\n",
    "print(data)\n",
    "print(type(data [0]))\n",
    "print(type(data [1]))\n",
    "print(type(data [2]))"
   ]
  },
  {
   "cell_type": "code",
   "execution_count": 16,
   "id": "31270af0",
   "metadata": {},
   "outputs": [
    {
     "name": "stdout",
     "output_type": "stream",
     "text": [
      "[5, 'book', [34, 'hello'], True]\n",
      "[34, 'hello']\n",
      "<class 'list'>\n",
      "34\n",
      "<class 'int'>\n",
      "hello\n",
      "<class 'str'>\n"
     ]
    }
   ],
   "source": [
    "# understanding lists within lists\n",
    "data= [5, \"book\", [34, \"hello\"], True]\n",
    "print(data)\n",
    "print(data [2])\n",
    "print(type(data [2]))\n",
    "for x in data[2]:\n",
    "    print(x)\n",
    "    print(type(x))\n"
   ]
  },
  {
   "cell_type": "code",
   "execution_count": 21,
   "id": "4b901917",
   "metadata": {},
   "outputs": [
    {
     "name": "stdout",
     "output_type": "stream",
     "text": [
      "34\n",
      "hello\n",
      "b\n"
     ]
    }
   ],
   "source": [
    "#using bracket notation to access lists within lists\n",
    "print(data[2][0])\n",
    "inner_list = data[2]\n",
    "print(inner_list[1])\n",
    "print(data[1][0])\n"
   ]
  },
  {
   "cell_type": "code",
   "execution_count": 23,
   "id": "f9fa8442",
   "metadata": {},
   "outputs": [
    {
     "name": "stdout",
     "output_type": "stream",
     "text": [
      "[5, 10, 15, 20]\n",
      "[100, 10, 15, 20]\n"
     ]
    }
   ],
   "source": [
    "#chaning values in alist through index\n",
    "data = [5, 10, 15, 20]\n",
    "print(data)\n",
    "data[0] = 100\n",
    "print(data)\n"
   ]
  },
  {
   "cell_type": "code",
   "execution_count": 26,
   "id": "4cd6a7fa",
   "metadata": {},
   "outputs": [
    {
     "name": "stdout",
     "output_type": "stream",
     "text": [
      "a: [5, 10]\t b: [5, 10]\n",
      "Location a[0]: 2309764940144\t Location b[0]: 2309764940144\n",
      "a: [20, 10]\t b: [20, 10]\n"
     ]
    }
   ],
   "source": [
    "# understanding how lists are stored\n",
    "a = [5, 10]\n",
    "b = a\n",
    "print(\"a: {}\\t b: {}\".format(a, b))\n",
    "print(\"Location a[0]: {}\\t Location b[0]: {}\".format(id(a[0]), id(b[0])))\n",
    "a[0] = 20\n",
    "print(\"a: {}\\t b: {}\".format(a, b))"
   ]
  },
  {
   "cell_type": "code",
   "execution_count": 32,
   "id": "a0c91007",
   "metadata": {},
   "outputs": [
    {
     "name": "stdout",
     "output_type": "stream",
     "text": [
      "data: [50, 10, 15, 10]\t data_copy [5, 10, 15, 10]:\n"
     ]
    }
   ],
   "source": [
    "# using [:] to copy a list\n",
    "data = [5, 10, 15, 10]\n",
    "data_copy = data[:] #a single colon copies the list\n",
    "data[0] = 50\n",
    "print(\"data: {}\\t data_copy {}:\".format(data, data_copy))"
   ]
  },
  {
   "cell_type": "code",
   "execution_count": 2,
   "id": "41df0e0d",
   "metadata": {},
   "outputs": [
    {
     "name": "stdout",
     "output_type": "stream",
     "text": [
      "I like to play Kickball\n",
      "\n",
      "I like to play Soccer\n",
      "\n",
      "I like to play TKD\n",
      "I like to play baseball.\n",
      "I like to play soccer.\n",
      "I like to play football.\n"
     ]
    }
   ],
   "source": [
    "# define a list of strings, where each string is a sport. \n",
    "# then output each string with the follwing line \"I like to play {}\"...\n",
    "a= [\"Kickball\", \"Soccer\", \"TKD\"]\n",
    "print(\"I like to play {}\\n\".format(a[0]))\n",
    "print(\"I like to play {}\\n\".format(a[1]))\n",
    "print(\"I like to play {}\".format(a[2]))\n",
    "\n",
    "#another way\n",
    "sports = [ \"baseball\", 'soccer', 'football']\n",
    "\n",
    "print(\"I like to play {}.\".format(sports[0]))\n",
    "print(\"I like to play {}.\".format(sports[1]))\n",
    "print(\"I like to play {}.\".format(sports[2]))"
   ]
  },
  {
   "cell_type": "code",
   "execution_count": 3,
   "id": "fb94651e",
   "metadata": {},
   "outputs": [
    {
     "name": "stdout",
     "output_type": "stream",
     "text": [
      "John Abraham Sam Kelly\n",
      "J A S K\n",
      "J\n",
      "A\n",
      "S\n",
      "K\n"
     ]
    }
   ],
   "source": [
    "# for the following list, print out each item's first letter.(should be)\n",
    "# J A S K\n",
    "names= [\"John\", \"Abraham\", \"Sam\", \"Kelly\"]\n",
    "joh = names [0]\n",
    "abr = names[1]\n",
    "sa = names[2]\n",
    "ke = names[3]\n",
    "print(joh, abr, sa, ke,)\n",
    "print(joh[0], abr[0], sa[0], ke[0])\n",
    "\n",
    "#another way\n",
    "names = [ 'John', 'Abraham', 'Sam', 'Kelly' ]\n",
    "\n",
    "print(names[0][0])\n",
    "print(names[1][0])\n",
    "print(names[2][0])\n",
    "print(names[3][0])"
   ]
  },
  {
   "cell_type": "code",
   "execution_count": 44,
   "id": "42d5f061",
   "metadata": {},
   "outputs": [
    {
     "name": "stdout",
     "output_type": "stream",
     "text": [
      "Value 0\n",
      "Value 1\n",
      "Value 2\n",
      "Value 3\n",
      "Value 4\n"
     ]
    }
   ],
   "source": [
    "# loop for using range\n",
    "for num in range(5):\n",
    "    print(\"Value {}\".format(num))"
   ]
  },
  {
   "cell_type": "code",
   "execution_count": 53,
   "id": "04d945d0",
   "metadata": {},
   "outputs": [
    {
     "name": "stdout",
     "output_type": "stream",
     "text": [
      "Value 2\n",
      "Value 4\n",
      "Value 6\n",
      "Value 8\n",
      "Value 0\n",
      "Value 50\n",
      "Value 100\n",
      "Value 150\n",
      "Value 200\n",
      "Value 250\n"
     ]
    }
   ],
   "source": [
    "# providing the start, stop, and step for the range function\n",
    "for num in range(2, 10 ,2):\n",
    "    print(\"Value {}\".format(num)) #prints all evens between 2 and 10\n",
    "    \n",
    "for num in range(0, 300, 50):\n",
    "    print(\"Value {}\".format(num))"
   ]
  },
  {
   "cell_type": "code",
   "execution_count": 57,
   "id": "cf9708aa",
   "metadata": {},
   "outputs": [
    {
     "name": "stdout",
     "output_type": "stream",
     "text": [
      "Value: J\n",
      "Value: a\n",
      "Value: c\n",
      "Value: o\n",
      "Value: b\n",
      "Value:  \n",
      "Value: S\n",
      "Value: m\n",
      "Value: i\n",
      "Value: t\n",
      "Value: h\n"
     ]
    }
   ],
   "source": [
    "#printing all the characters in a name using \"in\" keyword\n",
    "name = \"Jacob Smith\"\n",
    "for letter in name:\n",
    "    print(\"Value: {}\".format(letter))"
   ]
  },
  {
   "cell_type": "code",
   "execution_count": 59,
   "id": "09d874e8",
   "metadata": {},
   "outputs": [
    {
     "name": "stdout",
     "output_type": "stream",
     "text": [
      "0\n",
      "1\n",
      "2\n",
      "4\n"
     ]
    }
   ],
   "source": [
    "#using the continue statement within a for loop\n",
    "for num in range(5):\n",
    "    if num == 3:\n",
    "        continue\n",
    "    print(num)  "
   ]
  },
  {
   "cell_type": "code",
   "execution_count": 61,
   "id": "ac495870",
   "metadata": {},
   "outputs": [
    {
     "name": "stdout",
     "output_type": "stream",
     "text": [
      "0\n",
      "1\n",
      "2\n"
     ]
    }
   ],
   "source": [
    "# breaking out of a loop using the \"break\" keyword\n",
    "for num in range(5):\n",
    "    if num == 3:\n",
    "        break\n",
    "    print(num)"
   ]
  },
  {
   "cell_type": "code",
   "execution_count": 65,
   "id": "1a6985b3",
   "metadata": {},
   "outputs": [],
   "source": [
    "# setting a placeholder using the \"pass\" statement\n",
    "for i in range(5):\n",
    "    # TODO: add code to print number\n",
    "    pass"
   ]
  },
  {
   "cell_type": "code",
   "execution_count": 7,
   "id": "82612bc0",
   "metadata": {},
   "outputs": [
    {
     "name": "stdout",
     "output_type": "stream",
     "text": [
      "3\n",
      "6\n",
      "9\n",
      "12\n",
      "15\n",
      "18\n",
      "21\n",
      "24\n",
      "27\n",
      "30\n",
      "33\n",
      "36\n",
      "39\n",
      "42\n",
      "45\n",
      "48\n",
      "51\n",
      "54\n",
      "57\n",
      "60\n",
      "63\n",
      "66\n",
      "69\n",
      "72\n",
      "75\n",
      "78\n",
      "81\n",
      "84\n",
      "87\n",
      "90\n",
      "93\n",
      "96\n",
      "99\n"
     ]
    }
   ],
   "source": [
    "#write a for loop that prints out all numbers form 1 to 100 that are divisiable by 3\n",
    "for num in range(1, 100):\n",
    "    if num % 3 == 0:\n",
    "        print(num)"
   ]
  },
  {
   "cell_type": "code",
   "execution_count": 5,
   "id": "1f9cf723",
   "metadata": {},
   "outputs": [
    {
     "name": "stdout",
     "output_type": "stream",
     "text": [
      "Enter a word: lawrence\n",
      "a\n",
      "e\n",
      "e\n"
     ]
    }
   ],
   "source": [
    "# ask for user input, and write a loop that wil output all the vowels with it.\n",
    "# example: \"Hello\" would print \"eo\"\n",
    "ans = input(\"Enter a word: \")\n",
    "\n",
    "for letter in ans:\n",
    "    if letter in ['a', 'e', 'i', 'o', 'u']:\n",
    "        print(letter)"
   ]
  },
  {
   "cell_type": "code",
   "execution_count": 22,
   "id": "acdc300e",
   "metadata": {},
   "outputs": [
    {
     "name": "stdout",
     "output_type": "stream",
     "text": [
      "**********VOWEL EATER**********\n",
      "\n",
      "Enter a word: just there\n",
      "jst thr"
     ]
    }
   ],
   "source": [
    "#program to eat all the vowels in a string.\n",
    "print(\"**********VOWEL EATER**********\\n\")\n",
    "ans = input(\"Enter a word: \")\n",
    "\n",
    "for letter in ans:\n",
    "    if letter not in ['a', 'e', 'i', 'o', 'u']:\n",
    "        print(letter, end=\"\")"
   ]
  },
  {
   "cell_type": "code",
   "execution_count": 26,
   "id": "208ca827",
   "metadata": {},
   "outputs": [
    {
     "name": "stdout",
     "output_type": "stream",
     "text": [
      "input a word:this is a word\n",
      "th s  s   w rd\n"
     ]
    }
   ],
   "source": [
    "# another vowel eater using reg ex\n",
    "import re\n",
    "def rem_vowel(string):\n",
    "    string = input(\"input a word:\")\n",
    "    return (re.sub(\"[aeiouAEIOU]\", \" \", string))\n",
    "\n",
    "print(rem_vowel(string))"
   ]
  },
  {
   "cell_type": "markdown",
   "id": "eeacdc62",
   "metadata": {},
   "source": [
    "# Enumerate object/funtion"
   ]
  },
  {
   "cell_type": "code",
   "execution_count": 4,
   "id": "454b2e99",
   "metadata": {},
   "outputs": [
    {
     "name": "stdout",
     "output_type": "stream",
     "text": [
      "Return types:  <class 'enumerate'>\n",
      "[(0, 'eat'), (1, 'sleep'), (2, 'repeat')]\n",
      "[(2, 'H'), (3, 'e'), (4, 'l'), (5, 'l'), (6, 'o'), (7, ' '), (8, 'T'), (9, 'h'), (10, 'e'), (11, 'r'), (12, 'e'), (13, '!'), (14, '!')]\n"
     ]
    }
   ],
   "source": [
    "#the enumerate function\n",
    "lis_1 = [\"eat\", \"sleep\", \"repeat\"]\n",
    "wor_2 = \"Hello There!!\"\n",
    "\n",
    "#creating enumerate objects\n",
    "obj1 = enumerate(lis_1)\n",
    "obj2 = enumerate(wor_2)\n",
    "\n",
    "print(\"Return types: \",type(obj1))\n",
    "print((list(enumerate(lis_1))))\n",
    "\n",
    "#changing start index from 0 to 2:\n",
    "print(list(enumerate(wor_2, 2)))"
   ]
  },
  {
   "cell_type": "code",
   "execution_count": 9,
   "id": "a3fb7166",
   "metadata": {},
   "outputs": [
    {
     "name": "stdout",
     "output_type": "stream",
     "text": [
      "(0, 'eat now')\n",
      "(1, 'eat later')\n",
      "(2, 'eat always')\n",
      "100 eat now\n",
      "101 eat later\n",
      "102 eat always\n",
      "0\n",
      "eat now\n",
      "1\n",
      "eat later\n",
      "2\n",
      "eat always\n"
     ]
    }
   ],
   "source": [
    "#enumerate object in loops\n",
    "lis_1 = [\"eat now\", \"eat later\", \"eat always\"]\n",
    "#printing the tuple in obect directly\n",
    "for ele in enumerate(lis_1):\n",
    "    print(ele)\n",
    "    \n",
    "#changing the index printing separately\n",
    "for count, ele in enumerate(lis_1, 100):\n",
    "    print(count, ele)\n",
    "\n",
    "#getting desired output from tuple\n",
    "for count,ele in enumerate(lis_1):\n",
    "    print(count)\n",
    "    print(ele)"
   ]
  },
  {
   "cell_type": "markdown",
   "id": "8d52f92a",
   "metadata": {},
   "source": [
    "# back to lesson week4 project"
   ]
  },
  {
   "cell_type": "code",
   "execution_count": 14,
   "id": "35fad17d",
   "metadata": {},
   "outputs": [
    {
     "name": "stdout",
     "output_type": "stream",
     "text": [
      "10\n",
      "9\n",
      "8\n",
      "7\n",
      "6\n",
      "5\n",
      "4\n",
      "3\n",
      "2\n",
      "1\n"
     ]
    }
   ],
   "source": [
    "#writing first while loop\n",
    "health = 10\n",
    "while health > 0:\n",
    "    print(health)\n",
    "    health -= 1 #forgetting this line will result in infinite loop"
   ]
  },
  {
   "cell_type": "code",
   "execution_count": null,
   "id": "a1cb7854",
   "metadata": {},
   "outputs": [],
   "source": [
    "#using two or more loops together is called nested loop\n",
    "for i in range(2): #outside loop\n",
    "    for j in range(3): #inside loop\n",
    "        print(i, j)"
   ]
  },
  {
   "cell_type": "code",
   "execution_count": 4,
   "id": "e240cd8d",
   "metadata": {},
   "outputs": [
    {
     "name": "stdout",
     "output_type": "stream",
     "text": [
      "Enter something: word\n",
      "Enter something: yes\n",
      "Enter something: quit\n"
     ]
    }
   ],
   "source": [
    "#write a while loop that continues to ask for user input and runs\n",
    "#until user types \"quit\"\n",
    "while input('Enter something: ').lower() != 'quit':\n",
    "    pass"
   ]
  },
  {
   "cell_type": "code",
   "execution_count": 6,
   "id": "4377763d",
   "metadata": {},
   "outputs": [
    {
     "name": "stdout",
     "output_type": "stream",
     "text": [
      "0\n",
      "1\n",
      "2\n"
     ]
    }
   ],
   "source": [
    "#write a for loop within a while loop that will count from 0 to 5,\n",
    "#but when it reaches 3, it sets a game_over varaible to True and breaks\n",
    "#the loop. The while loop whould continue to loop until game_over is True\n",
    "#The output should only be 0,1,2\n",
    "game_over = False\n",
    "\n",
    "while game_over == False:\n",
    "    for i in range(5):\n",
    "        if i == 3:\n",
    "            game_over = True\n",
    "            break\n",
    "        else:\n",
    "            print(i)"
   ]
  },
  {
   "cell_type": "markdown",
   "id": "ef331f1d",
   "metadata": {},
   "source": [
    "# workin with lists"
   ]
  },
  {
   "cell_type": "code",
   "execution_count": 2,
   "id": "24b17da6",
   "metadata": {},
   "outputs": [
    {
     "name": "stdout",
     "output_type": "stream",
     "text": [
      "3\n"
     ]
    }
   ],
   "source": [
    "# checking the number of items within a list\n",
    "nums = [5, 10, 15]\n",
    "length = len(nums)    #len() returns an integer\n",
    "print(length)"
   ]
  },
  {
   "cell_type": "code",
   "execution_count": 10,
   "id": "9e98537f",
   "metadata": {},
   "outputs": [
    {
     "name": "stdout",
     "output_type": "stream",
     "text": [
      "[10, 15]\n",
      "[5, 10]\n",
      "[5, 15]\n",
      "[10, 15]\n"
     ]
    }
   ],
   "source": [
    "# accessing specific items of a list with slices, works same ans range(), \n",
    "#start, stop, step\n",
    "print(nums[1 : 3])\n",
    "print(nums[ : 2])\n",
    "print(nums[ : : 2])\n",
    "print(nums[-2 : ])"
   ]
  },
  {
   "cell_type": "code",
   "execution_count": 12,
   "id": "24266e84",
   "metadata": {},
   "outputs": [
    {
     "name": "stdout",
     "output_type": "stream",
     "text": [
      "[10, 20, 5]\n"
     ]
    }
   ],
   "source": [
    "# adding an item to the back of a list using append\n",
    "nums = [10, 20]\n",
    "nums.append(5)\n",
    "print(nums)"
   ]
  },
  {
   "cell_type": "code",
   "execution_count": 18,
   "id": "3eb9b307",
   "metadata": {},
   "outputs": [
    {
     "name": "stdout",
     "output_type": "stream",
     "text": [
      "['glove', 'ball', 'base']\n",
      "None ['fist', 'glove', 'ball', 'base']\n",
      "None ['fist', 'glove', 'ball', 'finger', 'base']\n"
     ]
    }
   ],
   "source": [
    "#adding a value to the beginning of the list\n",
    "words = [\"ball\", \"base\"]\n",
    "words.insert(0, \"glove\")\n",
    "print(words)\n",
    "print(words.insert(0, \"fist\"), words)\n",
    "print(words.insert(3, \"finger\"), words)"
   ]
  },
  {
   "cell_type": "code",
   "execution_count": 21,
   "id": "450966cf",
   "metadata": {},
   "outputs": [
    {
     "name": "stdout",
     "output_type": "stream",
     "text": [
      "5 \n",
      " ['ball']\n"
     ]
    }
   ],
   "source": [
    "#using pop() to remove items and saving to a variable to use later\n",
    "items = [5, \"ball\", True]\n",
    "items.pop() #by default removes last item\n",
    "removed_item = items.pop(0) #removes 5 and saves it to the variable removed_item\n",
    "print(removed_item, \"\\n\", items)"
   ]
  },
  {
   "cell_type": "code",
   "execution_count": 27,
   "id": "6139fc70",
   "metadata": {},
   "outputs": [
    {
     "name": "stdout",
     "output_type": "stream",
     "text": [
      "That item does not exist in the list\n",
      "['TKD', 'baseball', 'football', 'hockey']\n",
      "None\n"
     ]
    }
   ],
   "source": [
    "# using the remove method with a try and except\n",
    "sports = [\"baseball\", \"soccer\", \"football\", \"hockey\"]\n",
    "sports1 = sports.insert(0, \"TKD\")\n",
    "try:\n",
    "    sports.remove(\"soccer\")\n",
    "    sports.remove(\"Karate\") #this item does not exist so moves to except\n",
    "except:\n",
    "    print(\"That item does not exist in the list\")\n",
    "print(sports)\n",
    "print(sports1)"
   ]
  },
  {
   "cell_type": "markdown",
   "id": "a4ed468a",
   "metadata": {},
   "source": [
    "### working with numerical Data"
   ]
  },
  {
   "cell_type": "code",
   "execution_count": 29,
   "id": "d9f69f70",
   "metadata": {},
   "outputs": [
    {
     "name": "stdout",
     "output_type": "stream",
     "text": [
      "3\n",
      "9\n",
      "17\n"
     ]
    }
   ],
   "source": [
    "# using min, max, and sum\n",
    "nums = [5, 3, 9]\n",
    "print(min(nums))\n",
    "print(max(nums))\n",
    "print(sum(nums))"
   ]
  },
  {
   "cell_type": "code",
   "execution_count": 31,
   "id": "123d62e6",
   "metadata": {},
   "outputs": [
    {
     "name": "stdout",
     "output_type": "stream",
     "text": [
      "[5, 8, 0, 2] [0, 2, 5, 8]\n"
     ]
    }
   ],
   "source": [
    "# sorted(), using sorted on lists for numerical and aplphabetical data\n",
    "nums = [5, 8, 0, 2]\n",
    "sorted_nums = sorted(nums) #here a new object/instance is made preserving original object\n",
    "print(nums, sorted_nums)"
   ]
  },
  {
   "cell_type": "code",
   "execution_count": 33,
   "id": "79434108",
   "metadata": {},
   "outputs": [
    {
     "name": "stdout",
     "output_type": "stream",
     "text": [
      "[0, 3, 5, 8]\n"
     ]
    }
   ],
   "source": [
    "# the sort() method works like sorted() method, however it will change list directly\n",
    "# sorting a list with .sort() in-place\n",
    "nums = [5, 0, 8, 3]\n",
    "nums.sort()   #here the actual object instance is changed\n",
    "print(nums)"
   ]
  },
  {
   "cell_type": "code",
   "execution_count": 35,
   "id": "b510fbbc",
   "metadata": {},
   "outputs": [
    {
     "name": "stdout",
     "output_type": "stream",
     "text": [
      "found\n",
      "not found\n"
     ]
    }
   ],
   "source": [
    "# using conditional statement on a list\n",
    "names = [\"jack\", \"Robot\", \"Mary\"]\n",
    "if \"Mary\" in names:\n",
    "    print(\"found\")\n",
    "if \"Jimmy\" not in names:\n",
    "    print(\"not found\")"
   ]
  },
  {
   "cell_type": "code",
   "execution_count": 37,
   "id": "1fb129dd",
   "metadata": {},
   "outputs": [
    {
     "name": "stdout",
     "output_type": "stream",
     "text": [
      "empty\n"
     ]
    }
   ],
   "source": [
    "# using conditionals to see if a list is empty\n",
    "nums = []\n",
    "if not nums:   #could also use if nums == []\n",
    "    print(\"empty\")"
   ]
  },
  {
   "cell_type": "markdown",
   "id": "422259b4",
   "metadata": {},
   "source": [
    "### Loops and Lists"
   ]
  },
  {
   "cell_type": "code",
   "execution_count": 40,
   "id": "fdb36936",
   "metadata": {},
   "outputs": [
    {
     "name": "stdout",
     "output_type": "stream",
     "text": [
      "Baseball\n",
      "Hockey\n",
      "Football\n",
      "TKD\n"
     ]
    }
   ],
   "source": [
    "#Using a for loop to print all items in a list\n",
    "sports = [\"Baseball\", \"Hockey\", \"Football\", \"TKD\"]\n",
    "for sport in sports:\n",
    "    print(sport)"
   ]
  },
  {
   "cell_type": "code",
   "execution_count": 43,
   "id": "790c31d3",
   "metadata": {},
   "outputs": [
    {
     "name": "stdout",
     "output_type": "stream",
     "text": [
      "['Jack', 'Rob', 'Robot']\n"
     ]
    }
   ],
   "source": [
    "#using while loop to remove a certian value\n",
    "names = [\"Bob\", \"Jack\", \"Rob\", \"Robot\"]\n",
    "while \"Bob\" in names:\n",
    "    names.remove(\"Bob\") #removes all instances of \"Bob\" within thelist object\n",
    "print(names)"
   ]
  },
  {
   "cell_type": "code",
   "execution_count": 67,
   "id": "800e1197",
   "metadata": {},
   "outputs": [
    {
     "name": "stdout",
     "output_type": "stream",
     "text": [
      "['Amanda', 'Bob', 'Kenny']\n",
      "---------------------------\n",
      "21\n",
      "<class 'int'>\n",
      "This\n",
      "<class 'str'>\n",
      "False\n",
      "<class 'bool'>\n",
      "{5, 6, 7}\n",
      "<class 'set'>\n"
     ]
    }
   ],
   "source": [
    "#remove all duplicates from the list below: hint, use the count() mehtod \n",
    "names = [\"Bob\", \"Kenny\", \"Amanda\", \"Bob\", \"Kenny\"]\n",
    "for name in names:\n",
    "    while names.count(name) > 1:\n",
    "        names.remove(name)\n",
    "        \n",
    "print(names)\n",
    "print(\"---------------------------\")\n",
    "\n",
    "stuff = [21, \"This\", False, {5, 6, 7}]\n",
    "for ele in stuff:\n",
    "    print(ele)\n",
    "    print(type(ele))\n",
    "#figure out how to do same thing as first code to this code block\n",
    "\n",
    "\n"
   ]
  },
  {
   "cell_type": "code",
   "execution_count": 61,
   "id": "4f72c483",
   "metadata": {},
   "outputs": [
    {
     "name": "stdout",
     "output_type": "stream",
     "text": [
      "Enter a word: lj\n",
      "Enter a word: nj\n",
      "Enter a word: quit\n",
      "lj nj "
     ]
    }
   ],
   "source": [
    "#use a while loop to continually ask the user to input a word until they type\n",
    "#quit. Once they type a word in, add it to a list. Once they quit the loop,\n",
    "# use a for loop to output all the items within the list.\n",
    "\n",
    "done = False\n",
    "words = []\n",
    "\n",
    "while done == False:\n",
    "    ans = input('Enter a word: ')\n",
    "    \n",
    "    if ans.lower() == 'quit':\n",
    "        done = True\n",
    "    else:\n",
    "        words.append(ans)\n",
    "        \n",
    "for word in words:\n",
    "    print(word, end=\" \")"
   ]
  },
  {
   "cell_type": "markdown",
   "id": "56551dfd",
   "metadata": {},
   "source": [
    "# Project: Hangman"
   ]
  },
  {
   "cell_type": "code",
   "execution_count": 1,
   "id": "71621c50",
   "metadata": {},
   "outputs": [
    {
     "name": "stdout",
     "output_type": "stream",
     "text": [
      "Incorrect, you lost a life!\n",
      "You lost all of your lives, you lost!\n"
     ]
    }
   ],
   "source": [
    "#import additional functions\n",
    "from random import choice\n",
    "from IPython.display import clear_output\n",
    "\n",
    "#declare game variables\n",
    "words = [\"tree\", \"basket\", \"chair\", \"python\"]\n",
    "word = choice(words)  #randomly chooses a word from words\n",
    "guessed, lives, game_over = [], 7, False #multi variable assignment\n",
    "\n",
    "# create a list of underscores to the length of word\n",
    "guesses = [\"_\"] * len(word)\n",
    "\n",
    "#create the main game loop\n",
    "while not game_over:\n",
    "    #output game information\n",
    "    hidden_word = \"\".join(guesses)\n",
    "    print(\"Your guessed letter: {}\".format(guessed))\n",
    "    print(\"Word to guess {}: \".format(hidden_word))\n",
    "    print(\"Lives: {}\".format(lives))\n",
    "    \n",
    "    ans = input(\"Type quit or guess a letter: \").lower()\n",
    "    \n",
    "    clear_output()  #clear all previous output\n",
    "    \n",
    "    if ans == \"quit\":\n",
    "        print(\"Thanks for playing! \")\n",
    "        game_over = True\n",
    "    elif ans in word and ans not in guessed: # check if letter in word\n",
    "        print(\"You guessed correctly!\")\n",
    "        \n",
    "        # create a loop to change underscore to a proper letter\n",
    "        for i in range(len(word)):\n",
    "            if word[i] == ans:\n",
    "                guesses[i] = ans\n",
    "    elif ans in guessed:\n",
    "        print(\"You already guessed that. Try again.\")\n",
    "    \n",
    "    else:      # otherwise lose life\n",
    "        lives -= 1\n",
    "        print(\"Incorrect, you lost a life!\")\n",
    "        \n",
    "        if ans not in guessed:\n",
    "            guessed.append(ans)   #add guess to guessed list\n",
    "            \n",
    "    if lives <= 0:\n",
    "        print(\"You lost all of your lives, you lost!\")\n",
    "        game_over = True\n",
    "    elif word == \"\".join(guesses):\n",
    "        print(\"Congratulations, you guessed it correctly!!\")\n",
    "        game_over = True"
   ]
  }
 ],
 "metadata": {
  "kernelspec": {
   "display_name": "Python 3 (ipykernel)",
   "language": "python",
   "name": "python3"
  },
  "language_info": {
   "codemirror_mode": {
    "name": "ipython",
    "version": 3
   },
   "file_extension": ".py",
   "mimetype": "text/x-python",
   "name": "python",
   "nbconvert_exporter": "python",
   "pygments_lexer": "ipython3",
   "version": "3.10.2"
  }
 },
 "nbformat": 4,
 "nbformat_minor": 5
}
