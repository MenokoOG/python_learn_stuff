{
 "cells": [
  {
   "cell_type": "markdown",
   "id": "2a0dd5cd",
   "metadata": {},
   "source": [
    "# Week 5"
   ]
  },
  {
   "cell_type": "code",
   "execution_count": 3,
   "id": "e4f1ba9a",
   "metadata": {},
   "outputs": [
    {
     "name": "stdout",
     "output_type": "stream",
     "text": [
      "Name: John Smith\n",
      "Age: 45\n",
      "Name: John Smith\n",
      "Age: 45\n"
     ]
    }
   ],
   "source": [
    "# writingyour first function\n",
    "def printInfo():\n",
    "    print(\"Name: John Smith\")\n",
    "    print(\"Age: 45\")\n",
    "printInfo()\n",
    "printInfo()"
   ]
  },
  {
   "cell_type": "code",
   "execution_count": 4,
   "id": "968b654f",
   "metadata": {},
   "outputs": [
    {
     "name": "stdout",
     "output_type": "stream",
     "text": [
      "15\n"
     ]
    }
   ],
   "source": [
    "# performing a calculation in a function\n",
    "def calc():\n",
    "    x, y = 5, 10\n",
    "    print(x + y)\n",
    "calc()"
   ]
  },
  {
   "cell_type": "code",
   "execution_count": 17,
   "id": "e345ae5d",
   "metadata": {},
   "outputs": [
    {
     "name": "stdout",
     "output_type": "stream",
     "text": [
      "Lawrence Jefferson II the Great\n"
     ]
    }
   ],
   "source": [
    "# define a function called myName and have it print your name when called\n",
    "def myName():\n",
    "    print(\"Lawrence Jefferson II the Great\")\n",
    "myName()\n",
    "   "
   ]
  },
  {
   "cell_type": "code",
   "execution_count": 5,
   "id": "6e41dba9",
   "metadata": {},
   "outputs": [
    {
     "name": "stdout",
     "output_type": "stream",
     "text": [
      "Cheese, Bacon\n",
      "Cheese, Bacon\n",
      "Cheese, Bacon\n"
     ]
    }
   ],
   "source": [
    "# define a function that prints out all your favorite pizza toppings called pizzaToppings\n",
    "#call the function three times\n",
    "\n",
    "def pizzaToppings():\n",
    "    print(\"Cheese, Bacon\")\n",
    "    \n",
    "pizzaToppings()\n",
    "pizzaToppings()\n",
    "pizzaToppings()\n",
    "\n",
    "\n"
   ]
  },
  {
   "cell_type": "code",
   "execution_count": 8,
   "id": "ca1c8f07",
   "metadata": {},
   "outputs": [
    {
     "name": "stdout",
     "output_type": "stream",
     "text": [
      "Your name is: John Smith\n",
      "Your name is John Smith\n",
      "Your name is: JaberWakee\n",
      "Your name is JaberWakee\n"
     ]
    }
   ],
   "source": [
    "#passing a single parameter inot a function\n",
    "def printName(full_name):\n",
    "    print(\"Your name is: {}\".format(full_name))\n",
    "    print(f\"Your name is {full_name}\") #another way of formating\n",
    "printName(\"John Smith\")\n",
    "printName(\"JaberWakee\")"
   ]
  },
  {
   "cell_type": "code",
   "execution_count": 12,
   "id": "117f589f",
   "metadata": {},
   "outputs": [
    {
     "name": "stdout",
     "output_type": "stream",
     "text": [
      "your name: lawrence jefferson the great\n",
      " Your name is lawrence jefferson the great\n"
     ]
    }
   ],
   "source": [
    "def yoName():\n",
    "    name = input(\"your name: \")\n",
    "    print(f\" Your name is {name}\")\n",
    "yoName()"
   ]
  },
  {
   "cell_type": "code",
   "execution_count": 14,
   "id": "0c2a5b9c",
   "metadata": {},
   "outputs": [
    {
     "name": "stdout",
     "output_type": "stream",
     "text": [
      "5 + 8 = 13\n",
      "3.5 + 5.5 = 9.0\n"
     ]
    }
   ],
   "source": [
    "#passing multiple parameters into a function\n",
    "def addNums(num1, num2):\n",
    "    result = num1 + num2\n",
    "    print(f\"{num1} + {num2} = {result}\")\n",
    "addNums(5, 8)\n",
    "addNums(3.5, 5.5)"
   ]
  },
  {
   "cell_type": "code",
   "execution_count": 16,
   "id": "a332229a",
   "metadata": {},
   "outputs": [
    {
     "name": "stdout",
     "output_type": "stream",
     "text": [
      "4\n",
      "16\n",
      "25\n",
      "100\n",
      "1\n",
      "9\n",
      "36\n"
     ]
    }
   ],
   "source": [
    "# using a function to square all information\n",
    "numbers1 = [2, 4, 5, 10]\n",
    "numbers2 = [1, 3, 6]\n",
    "def squares(nums):\n",
    "    for num in nums:\n",
    "        print(num ** 2)\n",
    "squares(numbers1)\n",
    "squares(numbers2)\n",
    "        "
   ]
  },
  {
   "cell_type": "code",
   "execution_count": 19,
   "id": "3d49bb5d",
   "metadata": {},
   "outputs": [
    {
     "name": "stdout",
     "output_type": "stream",
     "text": [
      "Area: 12.56\n"
     ]
    }
   ],
   "source": [
    "#setting default parameter values, default parameters MUST ALWAYS go after non-default\n",
    "def calcArea(r, pi = 3.14):\n",
    "    area = pi * (r**2)\n",
    "    print(f\"Area: {area}\")\n",
    "calcArea(2)   #assuming radius is the value of 2"
   ]
  },
  {
   "cell_type": "code",
   "execution_count": 21,
   "id": "52e658ee",
   "metadata": {},
   "outputs": [
    {
     "name": "stdout",
     "output_type": "stream",
     "text": [
      "Lawrence Jefferson II\n",
      "Lawrence Jefferson II R\n"
     ]
    }
   ],
   "source": [
    "#setting default paramter values, mixed default sets for parameters\n",
    "def printName(first, last, middle = \"\"):\n",
    "    if middle:\n",
    "        print(f\"{first} {middle} {last}\")\n",
    "    else:\n",
    "        print(f\"{first} {last}\")\n",
    "printName(\"Lawrence\", \"Jefferson II\")\n",
    "printName(\"Lawrence\", \"R\", \"Jefferson II\")"
   ]
  },
  {
   "cell_type": "code",
   "execution_count": 26,
   "id": "213bef9a",
   "metadata": {},
   "outputs": [
    {
     "name": "stdout",
     "output_type": "stream",
     "text": [
      "2.5\n",
      "5\n",
      "7.5\n",
      "5 + 2.5 = 7.5\n"
     ]
    }
   ],
   "source": [
    "#explicity assigning values to parameters by refernceing the name/keyword\n",
    "def addNums(num1, num2):\n",
    "    print(num2)\n",
    "    print(num1)\n",
    "    result = num1 + num2\n",
    "    print(result)\n",
    "    print(f\"{num1} + {num2} = {result}\")\n",
    "addNums(5, num2 = 2.5)"
   ]
  },
  {
   "cell_type": "code",
   "execution_count": 30,
   "id": "934f8d7a",
   "metadata": {},
   "outputs": [
    {
     "name": "stdout",
     "output_type": "stream",
     "text": [
      "<class 'tuple'>\n",
      "5\n",
      "True\n",
      "Jess\n",
      "[2, 3, 4]\n"
     ]
    }
   ],
   "source": [
    "# using args parameter to take in a tuple of arbitrary values\n",
    "def outputData(name, *args):\n",
    "    print(type(args))\n",
    "    for arg in args:\n",
    "        print(arg)\n",
    "outputData(\"John Jacob\", 5, True, \"Jess\", [2, 3, 4])\n"
   ]
  },
  {
   "cell_type": "code",
   "execution_count": 33,
   "id": "149bdf28",
   "metadata": {},
   "outputs": [
    {
     "name": "stdout",
     "output_type": "stream",
     "text": [
      "<class 'dict'>\n",
      "John Smith\n",
      "5\n",
      "True\n"
     ]
    }
   ],
   "source": [
    "#using kwargs parameter to take in a dictionary of abritrary values\n",
    "def outputData(**kwargs):\n",
    "    print(type(kwargs))\n",
    "    print(kwargs[\"name\"])\n",
    "    print(kwargs[\"num\"])\n",
    "    print(kwargs[\"b\"])\n",
    "outputData(name = \"John Smith\", num = 5, b = True)"
   ]
  },
  {
   "cell_type": "code",
   "execution_count": 37,
   "id": "89dfaa30",
   "metadata": {},
   "outputs": [
    {
     "name": "stdout",
     "output_type": "stream",
     "text": [
      "Enter a word: lux\n",
      "False\n"
     ]
    }
   ],
   "source": [
    "#ask user to input a word and pass that word into a function that checks if the word \n",
    "#starts with an uppercase.#If it does out true if it does nto output false.\n",
    "def upperCheck(word):\n",
    "    if word[0] == word[0].upper():\n",
    "        print(\"True\")\n",
    "    else:\n",
    "        print(\"False\")\n",
    "ans = input(\"Enter a word: \")\n",
    "upperCheck(ans)"
   ]
  },
  {
   "cell_type": "code",
   "execution_count": 49,
   "id": "75cf2a4f",
   "metadata": {},
   "outputs": [
    {
     "name": "stdout",
     "output_type": "stream",
     "text": [
      "No Name passed in\n",
      "hi   your not lawrence\n",
      "\n",
      "Lawrence \n",
      "Hello Lawrence\n",
      "\n",
      "Fred \n",
      "hi Fred  your not lawrence\n",
      "\n",
      "Lawrence Jefferson\n",
      "Hello Lawrence\n"
     ]
    }
   ],
   "source": [
    "#no Name: define a function that takes two arguments, first_name and last_name\n",
    "#makes both optional. if no values are passed into parameter, should output \"no Nmae passed in\"\n",
    "#otherwise it should print out the name.\n",
    "def outName(first_name = \"\", last_name = \"\"):\n",
    "    if not first_name and not last_name:\n",
    "        print(\"No Name passed in\")\n",
    "    else:\n",
    "        print(first_name, last_name)\n",
    "    if first_name == \"Lawrence\":\n",
    "        print(f\"Hello {first_name}\")\n",
    "    else:\n",
    "        print(f\"hi {first_name} {last_name} your not lawrence\")\n",
    "outName()\n",
    "print()\n",
    "outName(\"Lawrence\")\n",
    "print()\n",
    "outName(\"Fred\")\n",
    "print()\n",
    "outName(\"Lawrence\", \"Jefferson\")"
   ]
  },
  {
   "cell_type": "code",
   "execution_count": 3,
   "id": "ff564ea6",
   "metadata": {},
   "outputs": [
    {
     "name": "stdout",
     "output_type": "stream",
     "text": [
      "10.0\n",
      "20\n",
      "This is NumD value saved to be used later, it is global: 9\n"
     ]
    }
   ],
   "source": [
    "#using return keyword to return the sum of two numbers\n",
    "def addNums(num1, num2):\n",
    "    return num1 + num2\n",
    "num = addNums(5.5, 4.5)  #saves returned value into num\n",
    "numD = addNums(3, 6)\n",
    "print(num)\n",
    "print(addNums(10, 10)) # does not save returned value\n",
    "print(f\"This is NumD value saved to be used later, it is global: {numD}\")"
   ]
  },
  {
   "cell_type": "code",
   "execution_count": 5,
   "id": "78b5d793",
   "metadata": {},
   "outputs": [
    {
     "name": "stdout",
     "output_type": "stream",
     "text": [
      "True\n",
      "\n",
      "True\n"
     ]
    }
   ],
   "source": [
    "# shorthand syntax using a ternary operator\n",
    "\n",
    "def searchList(aList, el):\n",
    "    return True if el in aList else False\n",
    "\n",
    "result = searchList(['one', 2, 'three'], 2)   # result = True\n",
    "\n",
    "print(result)\n",
    "\n",
    "#this is it written in normal code\n",
    "print()\n",
    "def searchList2(alist, el):\n",
    "    if el in alist:\n",
    "        return True\n",
    "    else:\n",
    "        return False\n",
    "result = searchList2(['one', 2, 'three'], 2)\n",
    "print(result)"
   ]
  },
  {
   "cell_type": "code",
   "execution_count": 16,
   "id": "41af7066",
   "metadata": {},
   "outputs": [
    {
     "data": {
      "text/plain": [
       "'Lawrence Jefferson'"
      ]
     },
     "execution_count": 16,
     "metadata": {},
     "output_type": "execute_result"
    }
   ],
   "source": [
    "#create a program that takes in a first and last name and joins them together\n",
    "def joinName(first_name, last_name):\n",
    "    return first_name + \" \" + last_name\n",
    "joinName(\"Lawrence\", \"Jefferson\")"
   ]
  },
  {
   "cell_type": "code",
   "execution_count": 15,
   "id": "a743be4a",
   "metadata": {},
   "outputs": [
    {
     "name": "stdout",
     "output_type": "stream",
     "text": [
      "Enter a word: hello there\n",
      "hello there\n",
      "You entered hello there and it has 11 letters including spaces in it\n"
     ]
    }
   ],
   "source": [
    "#User Input: Within a function, ask for user input. Have this function return that input to be stored in \n",
    "#a variable outside of the function. Then print out the input.\n",
    "def returnFunc():\n",
    "    return input('Enter a word: ')\n",
    "\n",
    "ans = returnFunc()\n",
    "\n",
    "print(ans)\n",
    "print(f\"You entered {ans} and it has {len(ans)} letters including spaces in it\")"
   ]
  },
  {
   "cell_type": "code",
   "execution_count": 3,
   "id": "3936e27c",
   "metadata": {},
   "outputs": [
    {
     "ename": "UnboundLocalError",
     "evalue": "local variable 'number' referenced before assignment",
     "output_type": "error",
     "traceback": [
      "\u001b[1;31m---------------------------------------------------------------------------\u001b[0m",
      "\u001b[1;31mUnboundLocalError\u001b[0m                         Traceback (most recent call last)",
      "Cell \u001b[1;32mIn [3], line 5\u001b[0m\n\u001b[0;32m      3\u001b[0m \u001b[38;5;28;01mdef\u001b[39;00m \u001b[38;5;21mscopeTest\u001b[39m():\n\u001b[0;32m      4\u001b[0m     number \u001b[38;5;241m+\u001b[39m\u001b[38;5;241m=\u001b[39m \u001b[38;5;241m1\u001b[39m \u001b[38;5;66;03m#not accessible due to function level\u001b[39;00m\n\u001b[1;32m----> 5\u001b[0m scopeTest()\n",
      "Cell \u001b[1;32mIn [3], line 4\u001b[0m, in \u001b[0;36mscopeTest\u001b[1;34m()\u001b[0m\n\u001b[0;32m      3\u001b[0m \u001b[38;5;28;01mdef\u001b[39;00m \u001b[38;5;21mscopeTest\u001b[39m():\n\u001b[1;32m----> 4\u001b[0m     number \u001b[38;5;241m+\u001b[39m\u001b[38;5;241m=\u001b[39m \u001b[38;5;241m1\u001b[39m\n",
      "\u001b[1;31mUnboundLocalError\u001b[0m: local variable 'number' referenced before assignment"
     ]
    }
   ],
   "source": [
    "#where global varaibles can be accessed\n",
    "number = 5\n",
    "def scopeTest():\n",
    "    number += 1 #not accessible due to function level\n",
    "scopeTest()   #should retrun error"
   ]
  },
  {
   "cell_type": "code",
   "execution_count": 5,
   "id": "f917eb12",
   "metadata": {},
   "outputs": [
    {
     "name": "stdout",
     "output_type": "stream",
     "text": [
      "function\n"
     ]
    }
   ],
   "source": [
    "# accessing varaibles defined in a function\n",
    "def scopeTest():\n",
    "    word = \"function\"\n",
    "    return word\n",
    "value = scopeTest()\n",
    "print(value)"
   ]
  },
  {
   "cell_type": "code",
   "execution_count": 8,
   "id": "ae054c2a",
   "metadata": {},
   "outputs": [
    {
     "name": "stdout",
     "output_type": "stream",
     "text": [
      "Before Altering: ['baseball', 'football', 'hockey', 'Basketball']\n",
      "After Altering: ['soccer', 'football', 'hockey', 'Basketball']\n"
     ]
    }
   ],
   "source": [
    "# changing list item values by index\n",
    "sports = [\"baseball\", \"football\", \"hockey\", \"Basketball\"]\n",
    "def change(aList):\n",
    "    aList[0] = \"soccer\"\n",
    "print(\"Before Altering: {}\".format(sports))\n",
    "change(sports)\n",
    "print(f\"After Altering: {sports}\")"
   ]
  },
  {
   "cell_type": "markdown",
   "id": "7589d112",
   "metadata": {},
   "source": [
    "# Thursday Exercises - Answers\n",
    "1. Names: Create a function that will change the list passed in with a parameter of name at a given index. Such that if I were to pass in \"Bill\" and index 1 it would change \"Rich\" to \"Bill\". Use the list and function definition below:\n",
    "\n",
    ">>> names = [\"Bob\", \"Rich\", \"Amanda\"]\n",
    ">>> def changeValue(aList, name, index):"
   ]
  },
  {
   "cell_type": "code",
   "execution_count": 9,
   "id": "287b2dd3",
   "metadata": {},
   "outputs": [
    {
     "name": "stdout",
     "output_type": "stream",
     "text": [
      "['Bob', 'Bill', 'Amanda']\n"
     ]
    }
   ],
   "source": [
    "names = [\"Bob\", \"Rich\", \"Amanda\"]\n",
    "\n",
    "def changeValue(aList, name, index):\n",
    "    aList[index] = name\n",
    "    \n",
    "changeValue(names, \"Bill\", 1)\n",
    "\n",
    "print(names)"
   ]
  },
  {
   "cell_type": "markdown",
   "id": "8b5efb74",
   "metadata": {},
   "source": [
    "# Create Shopping Cart"
   ]
  },
  {
   "cell_type": "code",
   "execution_count": null,
   "id": "e5d6c6f7",
   "metadata": {},
   "outputs": [],
   "source": [
    "# Initial Setup-import nessecary functions\n",
    "from IPython.display import clear_output\n",
    "#global list varaible\n",
    "cart = []\n",
    "\n",
    "\"\"\"\\\\\\\\\\\\\\\\\\\\\\\\\\\\\\\\\\\\\\\\\\\\\\\\\\\\\\\\\\\\\\\\\\\\\\\\\\\\\\\\\\\\\\\\\\\\\\\\\\\\\\\\\\\\\\\\\\\\\\\\\\\\\\\\\\\\\\\\\\\\\\\\\\\\\\\\\\\\\\\\\\\\\\\\\\\\\\\\\\\\\\\\\\\\\\\\\\\\\\\\\\\\\\\\\\\\\"\"\"\n",
    "# functions for actions code block\n",
    "#add\n",
    "def addItem(item):\n",
    "    clear_output()\n",
    "    cart.append(item)\n",
    "    print(f\"{item} has been added.\")\n",
    "\n",
    "#remove\n",
    "def removeItem(item):\n",
    "    clear_output()\n",
    "    try:\n",
    "        cart.remove(item)\n",
    "        print(f\"{item} has been removed.\")\n",
    "    except:\n",
    "        print(\"Sorry we could not remove that item\")\n"
   ]
  }
 ],
 "metadata": {
  "kernelspec": {
   "display_name": "Python 3.10.2 64-bit",
   "language": "python",
   "name": "python3"
  },
  "language_info": {
   "codemirror_mode": {
    "name": "ipython",
    "version": 3
   },
   "file_extension": ".py",
   "mimetype": "text/x-python",
   "name": "python",
   "nbconvert_exporter": "python",
   "pygments_lexer": "ipython3",
   "version": "3.10.2"
  },
  "vscode": {
   "interpreter": {
    "hash": "8fe45869e903cf34cdda25c85d481e31ae6d1773b2f524ae514fa4761cfb7399"
   }
  }
 },
 "nbformat": 4,
 "nbformat_minor": 5
}
