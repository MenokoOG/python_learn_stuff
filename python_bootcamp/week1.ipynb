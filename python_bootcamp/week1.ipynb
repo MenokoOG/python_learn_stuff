{
 "cells": [
  {
   "cell_type": "markdown",
   "id": "bc43445e",
   "metadata": {},
   "source": [
    "# Week 1"
   ]
  },
  {
   "cell_type": "code",
   "execution_count": 2,
   "id": "fa36fa48",
   "metadata": {},
   "outputs": [
    {
     "name": "stdout",
     "output_type": "stream",
     "text": [
      "Hello There Buddy!!\n"
     ]
    }
   ],
   "source": [
    "#this is python\n",
    "print(\"Hello There Buddy!!\")"
   ]
  },
  {
   "cell_type": "markdown",
   "id": "8d007bc7",
   "metadata": {},
   "source": [
    "# Guessing Game Project"
   ]
  },
  {
   "cell_type": "code",
   "execution_count": null,
   "id": "638267f1",
   "metadata": {},
   "outputs": [
    {
     "name": "stdout",
     "output_type": "stream",
     "text": [
      "The number is greater that what you guessed.\n"
     ]
    }
   ],
   "source": [
    "# guessing game\n",
    "\n",
    "from random import randint\n",
    "from IPython.display import clear_output\n",
    "guessed = False\n",
    "number = randint(0, 100)\n",
    "guesses = 0\n",
    "while not guessed:\n",
    "    ans = input(\"Try to guess the number I am thinking of!\")\n",
    "    # use tab to indent\n",
    "    guesses += 1\n",
    "    clear_output()\n",
    "    if int(ans) == number:\n",
    "        print(\"Congrats! You guessed it correctly!\")\n",
    "        # use tab twice to indent twice\n",
    "        print(\"It took you { } guesses!\".format(guesses))\n",
    "        break\n",
    "    elif int(ans) > number:\n",
    "        print(\"The number is lower tha what you guessed.\")\n",
    "    elif int(ans) < number:\n",
    "            print(\"The number is greater that what you guessed.\")"
   ]
  }
 ],
 "metadata": {
  "kernelspec": {
   "display_name": "Python 3 (ipykernel)",
   "language": "python",
   "name": "python3"
  },
  "language_info": {
   "codemirror_mode": {
    "name": "ipython",
    "version": 3
   },
   "file_extension": ".py",
   "mimetype": "text/x-python",
   "name": "python",
   "nbconvert_exporter": "python",
   "pygments_lexer": "ipython3",
   "version": "3.10.2"
  }
 },
 "nbformat": 4,
 "nbformat_minor": 5
}
