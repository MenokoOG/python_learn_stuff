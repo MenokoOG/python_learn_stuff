{
 "cells": [
  {
   "cell_type": "markdown",
   "id": "9ba44cd4",
   "metadata": {},
   "source": [
    "# week 2\n",
    "## Comments & Basic Data Types\n"
   ]
  },
  {
   "cell_type": "code",
   "execution_count": 1,
   "id": "7331fa68",
   "metadata": {},
   "outputs": [
    {
     "name": "stdout",
     "output_type": "stream",
     "text": [
      "Hello there!\n",
      "Hello there!\n",
      "2\n",
      "<class 'int'>\n",
      "2.8\n",
      "<class 'float'>\n",
      "this is a string\n",
      "<class 'str'>\n",
      "True\n",
      "<class 'bool'>\n",
      "Your name is:  John Smith... Your favorite Number is:  9\n",
      "5 8.4\n",
      "13.4\n",
      "13.4\n",
      "14.4\n",
      "72.0\n",
      "30\n",
      "3354.0764\n",
      "Enter Height: 5\n",
      "Enter Base: 8\n",
      "Area of Triangle is 20.0\n"
     ]
    }
   ],
   "source": [
    "# this is a comment\n",
    "print(\"Hello there!\") #this is a comment also.\n",
    "\n",
    "#multi line comment\n",
    "\"\"\" This\n",
    "is a \n",
    "multi line comment\"\"\"\n",
    "print(\"Hello there!\") #this is a comment also.\n",
    "\n",
    "\n",
    "print(2)\n",
    "print(type(2))\n",
    "print(2.8)\n",
    "print(type(2.8))\n",
    "print(\"this is a string\")\n",
    "print(type(\"this is a string type\"))\n",
    "lawrence = True\n",
    "print(lawrence)\n",
    "print(type(lawrence))\n",
    "name = \"John Smith\"\n",
    "fav_number = \"9\"\n",
    "print(\"Your name is: \", name, end=\"... \")\n",
    "print(\"Your favorite Number is: \", fav_number)\n",
    "\n",
    "num1 = 5\n",
    "num2 = 8.4\n",
    "print(num1, num2)\n",
    "print( num1 + num2)\n",
    "result = num1 + num2\n",
    "print(result)\n",
    "result += 1 #same as saying result = result + 1\n",
    "print(result)\n",
    "result *= num1 #same as saying result = result * num1\n",
    "print(result)\n",
    "def my_time_table(a,b):\n",
    "    x = a\n",
    "    y = b\n",
    "    result = x * y\n",
    "    print(result)\n",
    "    \n",
    "my_time_table(3,10)\n",
    "\n",
    "def tri_area(a, b):\n",
    "    w = a\n",
    "    h = b\n",
    "    result = w * h\n",
    "    print(result)\n",
    "tri_area(245.54, 13.66)\n",
    "#another way for triangle\n",
    "Height = float(input(\"Enter Height: \"))\n",
    "Base = float(input(\"Enter Base: \"))\n",
    "ans = (0.5) * Height * Base\n",
    "print(\"Area of Triangle is\", ans)\n",
    "\n",
    "\n",
    "\n",
    "\n"
   ]
  },
  {
   "cell_type": "markdown",
   "id": "fc360266",
   "metadata": {},
   "source": [
    "# Strings"
   ]
  },
  {
   "cell_type": "code",
   "execution_count": 2,
   "id": "77574b69",
   "metadata": {},
   "outputs": [
    {
     "name": "stdout",
     "output_type": "stream",
     "text": [
      "this is a string\n",
      "\n",
      "John Smith\n",
      "\n",
      "John Smith\n",
      "\n",
      "Hello John\n",
      "Hello John, you are 28 years old!\n",
      "\n",
      "enter your first name: nikki\n",
      "enter your age: 23\n",
      "Hello nikki\n",
      "Hello nikki, you are 23 years old!\n"
     ]
    }
   ],
   "source": [
    "print(\"this is a string\")\n",
    "print()\n",
    "name = \"John\" + \" \" + \"Smith\"\n",
    "print(name)\n",
    "print()\n",
    "first_name = \"John\"\n",
    "last_name = \"Smith\"\n",
    "full_name = first_name + \" \" + last_name\n",
    "print(full_name)\n",
    "print()\n",
    "\n",
    "# injecting variables using the format method of string object\n",
    "name = \"John\"\n",
    "print(\"Hello {}\".format(name))\n",
    "print(\"Hello {}, you are {} years old!\".format(name, 28))\n",
    "print()\n",
    "name = str(input(\"enter your first name: \"))\n",
    "age = int(input(\"enter your age: \"))\n",
    "print(\"Hello {}\".format(name))\n",
    "print(\"Hello {}, you are {} years old!\".format(name, age))"
   ]
  },
  {
   "cell_type": "markdown",
   "id": "a4abb867",
   "metadata": {},
   "source": [
    "#### .format( )\n",
    "The format method works by putting a period directly after the ending string quotation,\n",
    "followed by the keyword “format”. Within the parenthesis after the keyword are the\n",
    "variables that will be injected into the string. No matter what data type it is, it will insert\n",
    "it into the string in the proper location, which brings up the question, how does it know\n",
    "where to put it? That’s where the curly brackets come in to play. The order of the curly\n",
    "brackets is the same order for the variables within the format parenthesis. To include\n",
    "multiple variables in one format string, you simply separate each by a comma. Let’s\n",
    "check out some examples:"
   ]
  },
  {
   "cell_type": "code",
   "execution_count": 3,
   "id": "41744907",
   "metadata": {},
   "outputs": [
    {
     "name": "stdout",
     "output_type": "stream",
     "text": [
      "Hello John\n"
     ]
    }
   ],
   "source": [
    "# using the new f strings\n",
    "name = \"John\"\n",
    "print( f\"Hello {name}\" )"
   ]
  },
  {
   "cell_type": "markdown",
   "id": "a4aaa9f2",
   "metadata": {},
   "source": [
    "# String Index"
   ]
  },
  {
   "cell_type": "code",
   "execution_count": 4,
   "id": "0f5196da",
   "metadata": {},
   "outputs": [
    {
     "name": "stdout",
     "output_type": "stream",
     "text": [
      "H\n",
      "e\n",
      "o\n"
     ]
    }
   ],
   "source": [
    "# using indexes to print each element\n",
    "word = \"Hello\"\n",
    "print( word[ 0 ] ) # will output 'H'\n",
    "print( word[ 1 ] ) # will output 'e'\n",
    "print( word[ -1 ] ) #will output 'o'"
   ]
  },
  {
   "attachments": {
    "image.png": {
     "image/png": "[encoded data removed]"
    }
   },
   "cell_type": "markdown",
   "id": "5970f6b2",
   "metadata": {},
   "source": [
    "![image.png](attachment:image.png)"
   ]
  },
  {
   "cell_type": "markdown",
   "id": "ade9c850",
   "metadata": {},
   "source": [
    "# string slicing"
   ]
  },
  {
   "cell_type": "code",
   "execution_count": 5,
   "id": "f85c81f4",
   "metadata": {},
   "outputs": [
    {
     "name": "stdout",
     "output_type": "stream",
     "text": [
      "He\n",
      "Hlo\n"
     ]
    }
   ],
   "source": [
    "print(word[ 0:2])\n",
    "# using interval\n",
    "print(word[ 0 : 5 : 2]) #every other letter interval"
   ]
  },
  {
   "cell_type": "markdown",
   "id": "28f8cd8d",
   "metadata": {},
   "source": [
    "## exercises"
   ]
  },
  {
   "cell_type": "code",
   "execution_count": 6,
   "id": "7fa7b850",
   "metadata": {},
   "outputs": [
    {
     "name": "stdout",
     "output_type": "stream",
     "text": [
      "Hello John, you are 23, False, 4.5\n",
      "\n",
      "John Smith\n",
      "\n",
      "Hello there.\n",
      "\n",
      "5\n",
      "\n",
      "john\n",
      "\n",
      "['These', 'words', 'are', 'separated', 'by', 'spaces']\n"
     ]
    }
   ],
   "source": [
    "# name = \"John\"\n",
    "# print(\"Hello {}\".format(name))\n",
    "# print(\"Hello {}, you are {} years old!\".format(name, 28))\n",
    "\n",
    "# # using the new f strings\n",
    "# name = \"John\"\n",
    "# print( f\"Hello {name}\" )\n",
    "\n",
    "name = \"John\"\n",
    "age = 23\n",
    "cool = False\n",
    "floaty = 4.5\n",
    "print(f\"Hello {name}, you are {age}, {cool}, {floaty}\")\n",
    "print()\n",
    "# using the title method to capitalize a string\n",
    "name = \"john smith\"\n",
    "print( name.title( ) )\n",
    "print()\n",
    "# replacing an exclamation point with a period\n",
    "words = \"Hello there!\"\n",
    "print( words.replace( \"!\", \".\" ) )\n",
    "print()\n",
    "# finding the starting index of our searched term\n",
    "s = \"Look over that way\"\n",
    "print( s.find(\"over\") )\n",
    "print()\n",
    "# removing white space with strip\n",
    "name = \"               john             \"\n",
    "print( name.strip( ) )\n",
    "print()\n",
    "# converting a string into a list of words\n",
    "s = \"These words are separated by spaces\"\n",
    "print(s.split(\" \"))"
   ]
  },
  {
   "cell_type": "markdown",
   "id": "d1de9ef8",
   "metadata": {},
   "source": [
    "# First Project\n",
    "### Printing Receipts"
   ]
  },
  {
   "cell_type": "code",
   "execution_count": 18,
   "id": "42894c5d",
   "metadata": {},
   "outputs": [
    {
     "name": "stdout",
     "output_type": "stream",
     "text": [
      "**************************************************\n",
      "\t\tCoding Temple, Inc.\n",
      "\t\t283 Franklin St.\n",
      "\t\tBoston, MA\n",
      "**************************************************\n",
      "\tBooks\t\t$49.95\n",
      "\tComputer\t$579.99\n",
      "\tMonitor\t\t$124.89\n",
      "**************************************************\n",
      "\t\t\tTotal\n",
      "\t\t\t$754.83\n",
      "**************************************************\n",
      "\n",
      "\tThanks for shopping with us today!\n",
      "\n",
      "**************************************************\n"
     ]
    }
   ],
   "source": [
    "# create a product and price for three items\n",
    "p1_name, p1_price = \"Books\", 49.95\n",
    "p2_name, p2_price = \"Computer\", 579.99\n",
    "p3_name, p3_price = \"Monitor\", 124.89\n",
    "\n",
    "# create a company name and information\n",
    "company_name = \"coding temple, inc.\"\n",
    "company_address = \"283 Franklin St.\"\n",
    "company_city = \"Boston, MA\"\n",
    "\n",
    "# declare ending message\n",
    "message = \"Thanks for shopping with us today!\"\n",
    "\n",
    "# create a top border\n",
    "print(\"*\" * 50)\n",
    "\n",
    "#print company information first, using format\n",
    "print(\"\\t\\t{}\".format(company_name.title()))\n",
    "print(\"\\t\\t{}\".format(company_address))\n",
    "print(\"\\t\\t{}\".format(company_city))\n",
    "\n",
    "#print a line between sections\n",
    "print(\"*\" * 50)\n",
    "\n",
    "# create a print statement for each product\n",
    "print(\"\\t{}\\t\\t${}\".format(p1_name.title(), p1_price))\n",
    "print(\"\\t{}\\t${}\".format(p2_name.title(), p2_price))\n",
    "print(\"\\t{}\\t\\t${}\".format(p3_name.title(), p3_price))\n",
    "\n",
    "# print a line between sections\n",
    "print(\"*\" * 50)\n",
    "\n",
    "# print out header for section of total\n",
    "print(\"\\t\\t\\tTotal\")\n",
    "      \n",
    "# calculate total price and print out\n",
    "total = p1_price + p2_price + p3_price\n",
    "print(\"\\t\\t\\t${}\".format(total))\n",
    "      \n",
    "# print a line between sections\n",
    "print(\"*\" * 50)\n",
    "      \n",
    "# output thank yoou message\n",
    "print(\"\\n\\t{}\\n\".format(message))\n",
    "      \n",
    "# create a bottom border\n",
    "print(\"*\" * 50)"
   ]
  },
  {
   "cell_type": "markdown",
   "id": "69bf5cd5",
   "metadata": {},
   "source": [
    " # notes about this project I learned:\n",
    " \n",
    " I learned to read the error messages good. I was able to recognize the location of the error and problem solve.\n",
    " \n",
    " I found the key section {} needed to be no space, in the project book the  key had spaces { }, it created errors as program progressed to code, stopping at each time this appeared. Once I figured it out, it ran.\n",
    " \n",
    " I also found \\t for tabing the data needed to be looked at. the large number needed one taken away to center the output data.\n",
    " \n",
    " my personal observation on this first project is I hung in there and problem solved, trusting in my ability to understand python and let python show me the bugs. This was a good learning experince."
   ]
  },
  {
   "cell_type": "code",
   "execution_count": null,
   "id": "ddf68e53",
   "metadata": {},
   "outputs": [],
   "source": []
  }
 ],
 "metadata": {
  "kernelspec": {
   "display_name": "Python 3 (ipykernel)",
   "language": "python",
   "name": "python3"
  },
  "language_info": {
   "codemirror_mode": {
    "name": "ipython",
    "version": 3
   },
   "file_extension": ".py",
   "mimetype": "text/x-python",
   "name": "python",
   "nbconvert_exporter": "python",
   "pygments_lexer": "ipython3",
   "version": "3.10.2"
  }
 },
 "nbformat": 4,
 "nbformat_minor": 5
}
