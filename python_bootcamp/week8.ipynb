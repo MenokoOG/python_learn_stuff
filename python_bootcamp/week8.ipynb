{
 "cells": [
  {
   "cell_type": "markdown",
   "id": "57abfe16",
   "metadata": {},
   "source": [
    "# week 8"
   ]
  },
  {
   "cell_type": "code",
   "execution_count": 2,
   "id": "071462b4",
   "metadata": {},
   "outputs": [
    {
     "name": "stdout",
     "output_type": "stream",
     "text": [
      "[0, 1, 2, 3, 4, 5, 6, 7, 8, 9, 10, 11, 12, 13, 14, 15, 16, 17, 18, 19, 20, 21, 22, 23, 24, 25, 26, 27, 28, 29, 30, 31, 32, 33, 34, 35, 36, 37, 38, 39, 40, 41, 42, 43, 44, 45, 46, 47, 48, 49, 50, 51, 52, 53, 54, 55, 56, 57, 58, 59, 60, 61, 62, 63, 64, 65, 66, 67, 68, 69, 70, 71, 72, 73, 74, 75, 76, 77, 78, 79, 80, 81, 82, 83, 84, 85, 86, 87, 88, 89, 90, 91, 92, 93, 94, 95, 96, 97, 98, 99]\n"
     ]
    }
   ],
   "source": [
    "# create a list of ten numbers usng list comprehension\n",
    "\n",
    "nums = [ x for x in range(100)]\n",
    "print(nums)"
   ]
  },
  {
   "cell_type": "code",
   "execution_count": 8,
   "id": "eb900608",
   "metadata": {},
   "outputs": [
    {
     "name": "stdout",
     "output_type": "stream",
     "text": [
      "[0, 2, 4, 6, 8]\n"
     ]
    }
   ],
   "source": [
    "# using if statements within comprhension\n",
    "nums = [ x for x in range(10) if x % 2 == 0] #generates a list of even numbers up to ten\n",
    "print(nums)"
   ]
  },
  {
   "cell_type": "code",
   "execution_count": 9,
   "id": "a272e6c7",
   "metadata": {},
   "outputs": [
    {
     "name": "stdout",
     "output_type": "stream",
     "text": [
      "['Even', 'odd', 'Even', 'odd', 'Even', 'odd', 'Even', 'odd', 'Even', 'odd']\n"
     ]
    }
   ],
   "source": [
    "# using if/else statments within list comprehension\n",
    "nums = [ \"Even\" if x % 2 == 0 else \"odd\" for x in range(10)]\n",
    "print(nums)"
   ]
  },
  {
   "cell_type": "code",
   "execution_count": 27,
   "id": "5c1ca621",
   "metadata": {},
   "outputs": [
    {
     "name": "stdout",
     "output_type": "stream",
     "text": [
      "[2, 4, 6, 8]\n"
     ]
    }
   ],
   "source": [
    "# creating a list of squared numbers from another list of numbers\n",
    "nums = [2, 4, 6, 8]\n",
    "squared_nums = [num ** 2 for num in nums]\n",
    "print(nums)"
   ]
  },
  {
   "cell_type": "code",
   "execution_count": 13,
   "id": "97125f22",
   "metadata": {},
   "outputs": [
    {
     "name": "stdout",
     "output_type": "stream",
     "text": [
      "{0: 0, 2: 4, 4: 16, 6: 36, 8: 64}\n"
     ]
    }
   ],
   "source": [
    "#creating a dictionary of even numbers and square values\n",
    "numbers = [x for x in range(10)]\n",
    "squares = { num: num ** 2 for num in numbers if num % 2 == 0}\n",
    "print(squares)"
   ]
  },
  {
   "cell_type": "markdown",
   "id": "5f52d3fb",
   "metadata": {},
   "source": [
    "# Lambda functions"
   ]
  },
  {
   "cell_type": "code",
   "execution_count": 5,
   "id": "fcb83b03",
   "metadata": {},
   "outputs": [
    {
     "data": {
      "text/plain": [
       "16"
      ]
     },
     "execution_count": 5,
     "metadata": {},
     "output_type": "execute_result"
    }
   ],
   "source": [
    "# using lambda to square a number\n",
    "(lambda x : x**2)(4) #takes in 4 and returns the number squared"
   ]
  },
  {
   "cell_type": "code",
   "execution_count": 26,
   "id": "2af9d2d6",
   "metadata": {},
   "outputs": [
    {
     "data": {
      "text/plain": [
       "50"
      ]
     },
     "execution_count": 26,
     "metadata": {},
     "output_type": "execute_result"
    }
   ],
   "source": [
    "# passing multiple arguments into a lambda\n",
    "(lambda x, y : x * y)(10, 5)  # x=10, y=5 and returns the result of 5 * 10"
   ]
  },
  {
   "cell_type": "code",
   "execution_count": 25,
   "id": "cc049741",
   "metadata": {},
   "outputs": [
    {
     "name": "stdout",
     "output_type": "stream",
     "text": [
      "<function <lambda> at 0x000001F4898B2560>\n",
      "50\n"
     ]
    }
   ],
   "source": [
    "#saving a lambda function into a variable\n",
    "square = (lambda x, y : x * y)\n",
    "print(square)\n",
    "result = square(10, 5)   # calls the lambda function stored in the square variable and returns 5 * 10\n",
    "print(result)"
   ]
  },
  {
   "cell_type": "code",
   "execution_count": 33,
   "id": "ebc9097e",
   "metadata": {},
   "outputs": [
    {
     "name": "stdout",
     "output_type": "stream",
     "text": [
      "10\n",
      "11\n"
     ]
    }
   ],
   "source": [
    "# using if/else statements within a lmbda to retunr the greater number\n",
    "greater = lambda x, y : x if x > y else y\n",
    "result = greater(5, 10)\n",
    "print(result)\n",
    "\n",
    "#function version\n",
    "def greater(x, y):\n",
    "    if x > y:\n",
    "        return x\n",
    "    else:\n",
    "        return y\n",
    "result = greater( 5, 11)\n",
    "print(result)"
   ]
  },
  {
   "cell_type": "code",
   "execution_count": 38,
   "id": "ec6037a0",
   "metadata": {},
   "outputs": [
    {
     "name": "stdout",
     "output_type": "stream",
     "text": [
      "****************\n",
      "10\n",
      "********************\n",
      "15\n"
     ]
    }
   ],
   "source": [
    "#returning a lambda function from another function\n",
    "def my_func(n):\n",
    "    return lambda x : x * n\n",
    "print(\"****************\")\n",
    "doubler = my_func(2)   # returns equivalent of lambda x : x * 2\n",
    "print(doubler(5))\n",
    "print(\"********************\")\n",
    "tripler = my_func(3)  # returns equivalent of lambda x : x * 3\n",
    "print(tripler(5))"
   ]
  },
  {
   "cell_type": "markdown",
   "id": "c9a5725c",
   "metadata": {},
   "source": [
    "### tuesday exercises"
   ]
  },
  {
   "cell_type": "markdown",
   "id": "64631f44",
   "metadata": {},
   "source": [
    "Fill in the Blanks: Fill in the blanks for the code below so that it takes in a parameter of \"x\" and returns \"True\" if it is greater than 50, otherwise it should return \"False\""
   ]
  },
  {
   "cell_type": "code",
   "execution_count": 39,
   "id": "cb7fa4d4",
   "metadata": {},
   "outputs": [
    {
     "data": {
      "text/plain": [
       "<function __main__.<lambda>(x)>"
      ]
     },
     "execution_count": 39,
     "metadata": {},
     "output_type": "execute_result"
    }
   ],
   "source": [
    "lambda x: True if x > 50 else False"
   ]
  },
  {
   "cell_type": "markdown",
   "id": "b6a27490",
   "metadata": {},
   "source": [
    "2. Degree Conversion: Write a lambda function that takes in a degree value in Celsius and returns the degree converted into Fahrenheit."
   ]
  },
  {
   "cell_type": "code",
   "execution_count": 40,
   "id": "b5611be0",
   "metadata": {},
   "outputs": [
    {
     "data": {
      "text/plain": [
       "32.0"
      ]
     },
     "execution_count": 40,
     "metadata": {},
     "output_type": "execute_result"
    }
   ],
   "source": [
    "(lambda deg: (9/5) * deg + 32)(0)"
   ]
  },
  {
   "cell_type": "markdown",
   "id": "c825a2aa",
   "metadata": {},
   "source": [
    "# Map, Reduce, and Filter"
   ]
  },
  {
   "cell_type": "code",
   "execution_count": 3,
   "id": "b3223943",
   "metadata": {},
   "outputs": [
    {
     "name": "stdout",
     "output_type": "stream",
     "text": [
      "<map object at 0x000001F0830BF880>\n",
      "[54.5, 56.480000000000004, 59.0, 48.56]\n"
     ]
    }
   ],
   "source": [
    "# using the map function without lambdas\n",
    "def convertDeg(C):\n",
    "    return (9/5) * C + 32\n",
    "temps = [12.5, 13.6, 15, 9.2]\n",
    "converted_temps = map(convertDeg, temps) #returns map object\n",
    "print(converted_temps)\n",
    "converted_temps = list(converted_temps) #type convert map object into list of converted temps\n",
    "print(converted_temps)"
   ]
  },
  {
   "cell_type": "code",
   "execution_count": 4,
   "id": "cc685201",
   "metadata": {},
   "outputs": [
    {
     "name": "stdout",
     "output_type": "stream",
     "text": [
      "[54.5, 56.480000000000004, 59.0, 48.56]\n"
     ]
    }
   ],
   "source": [
    "# using a map function with lambdas\n",
    "temps = [12.5, 13.6, 15, 9.2]\n",
    "converted_temps = list(map( lambda C : (9/5) * C + 32, temps)) # type convert the map object right away\n",
    "print(converted_temps)"
   ]
  },
  {
   "cell_type": "code",
   "execution_count": 5,
   "id": "4fc04a33",
   "metadata": {},
   "outputs": [
    {
     "name": "stdout",
     "output_type": "stream",
     "text": [
      "[54.5, 56.480000000000004, 59.0, 48.56]\n"
     ]
    }
   ],
   "source": [
    "# another code block to perfrom same function as above two code blocks\n",
    "def convertDeg(degrees):\n",
    "    converted = []\n",
    "    for degree in degrees:\n",
    "        result = (9/5) * degree + 32\n",
    "        converted.append(result)\n",
    "    return converted\n",
    "temps = [12.5, 13.6, 15, 9.2]\n",
    "converted_temps = convertDeg(temps)\n",
    "print(converted_temps)"
   ]
  },
  {
   "cell_type": "code",
   "execution_count": 8,
   "id": "b44a4c04",
   "metadata": {},
   "outputs": [
    {
     "name": "stdout",
     "output_type": "stream",
     "text": [
      "<filter object at 0x000001F081FA0550>\n",
      "[13.6, 15]\n"
     ]
    }
   ],
   "source": [
    "# using the filter function without lambda function, filter out temps below 55F\n",
    "def filterTemps(C):\n",
    "    converted = (9/5) * C + 32\n",
    "    return True if converted > 55 else False  # use ternary operator\n",
    "temps = [12.5, 13.6, 15, 9.2]\n",
    "filtered_temps = filter(filterTemps, temps) #returns filter object\n",
    "print(filtered_temps)\n",
    "filtered_temps = list(filtered_temps) # convertfilter object to list of filtered data\n",
    "print(filtered_temps)"
   ]
  },
  {
   "cell_type": "code",
   "execution_count": null,
   "id": "d67d1fb8",
   "metadata": {},
   "outputs": [],
   "source": []
  }
 ],
 "metadata": {
  "kernelspec": {
   "display_name": "Python 3 (ipykernel)",
   "language": "python",
   "name": "python3"
  },
  "language_info": {
   "codemirror_mode": {
    "name": "ipython",
    "version": 3
   },
   "file_extension": ".py",
   "mimetype": "text/x-python",
   "name": "python",
   "nbconvert_exporter": "python",
   "pygments_lexer": "ipython3",
   "version": "3.10.2"
  },
  "vscode": {
   "interpreter": {
    "hash": "8fe45869e903cf34cdda25c85d481e31ae6d1773b2f524ae514fa4761cfb7399"
   }
  }
 },
 "nbformat": 4,
 "nbformat_minor": 5
}
